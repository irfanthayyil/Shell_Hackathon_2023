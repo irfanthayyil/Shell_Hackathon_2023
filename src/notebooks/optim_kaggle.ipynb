{
 "cells": [
  {
   "cell_type": "code",
   "execution_count": 1,
   "id": "979dea5d",
   "metadata": {
    "_cell_guid": "b1076dfc-b9ad-4769-8c92-a6c4dae69d19",
    "_uuid": "8f2839f25d086af736a60e9eeb907d3b93b6e0e5",
    "execution": {
     "iopub.execute_input": "2023-08-22T15:23:45.121071Z",
     "iopub.status.busy": "2023-08-22T15:23:45.120552Z",
     "iopub.status.idle": "2023-08-22T15:23:45.148062Z",
     "shell.execute_reply": "2023-08-22T15:23:45.146382Z"
    },
    "papermill": {
     "duration": 0.053919,
     "end_time": "2023-08-22T15:23:45.150709",
     "exception": false,
     "start_time": "2023-08-22T15:23:45.096790",
     "status": "completed"
    },
    "tags": []
   },
   "outputs": [],
   "source": [
    "# This Python 3 environment comes with many helpful analytics libraries installed\n",
    "# It is defined by the kaggle/python Docker image: https://github.com/kaggle/docker-python\n",
    "# For example, here's several helpful packages to load\n",
    "\n",
    "import numpy as np # linear algebra\n",
    "import pandas as pd # data processing, CSV file I/O (e.g. pd.read_csv)\n",
    "\n",
    "# Input data files are available in the read-only \"../input/\" directory\n",
    "# For example, running this (by clicking run or pressing Shift+Enter) will list all files under the input directory\n",
    "\n",
    "import os\n",
    "# for dirname, _, filenames in os.walk('/kaggle/input'):\n",
    "#     for filename in filenames:\n",
    "#         print(os.path.join(dirname, filename))\n",
    "\n",
    "# You can write up to 20GB to the current directory (/kaggle/working/) that gets preserved as output when you create a version using \"Save & Run All\" \n",
    "# You can also write temporary files to /kaggle/temp/, but they won't be saved outside of the current session"
   ]
  },
  {
   "cell_type": "code",
   "execution_count": 2,
   "id": "6c200df9",
   "metadata": {
    "execution": {
     "iopub.execute_input": "2023-08-22T15:23:45.197164Z",
     "iopub.status.busy": "2023-08-22T15:23:45.196548Z",
     "iopub.status.idle": "2023-08-22T15:23:48.059407Z",
     "shell.execute_reply": "2023-08-22T15:23:48.058177Z"
    },
    "papermill": {
     "duration": 2.888942,
     "end_time": "2023-08-22T15:23:48.062869",
     "exception": false,
     "start_time": "2023-08-22T15:23:45.173927",
     "status": "completed"
    },
    "tags": []
   },
   "outputs": [],
   "source": [
    "import numpy as np\n",
    "import pandas as pd\n",
    "from ortools.linear_solver import pywraplp\n",
    "from ortools.sat.python import cp_model\n",
    "model = cp_model.CpModel()\n",
    "import matplotlib.pyplot as plt\n",
    "%matplotlib inline\n",
    "import networkx as nx\n",
    "import re\n",
    "import copy\n",
    "import random\n",
    "import os\n",
    "import time\n",
    "#from ortools.graph.python import max_flow\n",
    "from collections import Counter\n",
    "import datetime as dt\n",
    "import numpy as np\n",
    "from sklearn.cluster import DBSCAN\n",
    "import matplotlib.pyplot as plt\n",
    "\n",
    "\n",
    "from IPython.display import Latex"
   ]
  },
  {
   "cell_type": "code",
   "execution_count": 3,
   "id": "f1c49674",
   "metadata": {
    "execution": {
     "iopub.execute_input": "2023-08-22T15:23:48.113367Z",
     "iopub.status.busy": "2023-08-22T15:23:48.112187Z",
     "iopub.status.idle": "2023-08-22T15:23:48.118397Z",
     "shell.execute_reply": "2023-08-22T15:23:48.117253Z"
    },
    "papermill": {
     "duration": 0.032776,
     "end_time": "2023-08-22T15:23:48.120936",
     "exception": false,
     "start_time": "2023-08-22T15:23:48.088160",
     "status": "completed"
    },
    "tags": []
   },
   "outputs": [],
   "source": [
    "path = os.getcwd()\n",
    "excel_filename = path + \"/kaggle/input/data-14589/Distance_Matrix.csv\""
   ]
  },
  {
   "cell_type": "code",
   "execution_count": 12,
   "id": "b2030213",
   "metadata": {
    "execution": {
     "iopub.execute_input": "2023-08-22T15:23:48.168542Z",
     "iopub.status.busy": "2023-08-22T15:23:48.167407Z",
     "iopub.status.idle": "2023-08-22T15:23:48.174432Z",
     "shell.execute_reply": "2023-08-22T15:23:48.173253Z"
    },
    "papermill": {
     "duration": 0.034494,
     "end_time": "2023-08-22T15:23:48.177148",
     "exception": false,
     "start_time": "2023-08-22T15:23:48.142654",
     "status": "completed"
    },
    "tags": []
   },
   "outputs": [],
   "source": [
    "def read_csv_to_matrix(file_path):\n",
    "    df = pd.read_csv(file_path, header=None)\n",
    "    # df.drop(['Unnamed: 0'], axis=1, inplace=True)\n",
    "    matrix = df.values\n",
    "    return matrix"
   ]
  },
  {
   "cell_type": "code",
   "execution_count": 13,
   "id": "bd1d82a3",
   "metadata": {
    "execution": {
     "iopub.execute_input": "2023-08-22T15:23:48.224831Z",
     "iopub.status.busy": "2023-08-22T15:23:48.223768Z",
     "iopub.status.idle": "2023-08-22T15:23:51.216567Z",
     "shell.execute_reply": "2023-08-22T15:23:51.214978Z"
    },
    "papermill": {
     "duration": 3.020933,
     "end_time": "2023-08-22T15:23:51.219920",
     "exception": false,
     "start_time": "2023-08-22T15:23:48.198987",
     "status": "completed"
    },
    "tags": []
   },
   "outputs": [],
   "source": [
    "dist_mat = pd.read_csv('../../data/dataset/Distance_Matrix.csv')\n",
    "Biomass_history=pd.read_csv('../../data/dataset/Biomass_History.csv')\n",
    "lat=Biomass_history['Latitude']\n",
    "long=Biomass_history['Longitude']"
   ]
  },
  {
   "cell_type": "code",
   "execution_count": 14,
   "id": "cd65eab8",
   "metadata": {
    "execution": {
     "iopub.execute_input": "2023-08-22T15:23:51.265845Z",
     "iopub.status.busy": "2023-08-22T15:23:51.265424Z",
     "iopub.status.idle": "2023-08-22T15:23:51.297157Z",
     "shell.execute_reply": "2023-08-22T15:23:51.294650Z"
    },
    "papermill": {
     "duration": 0.058229,
     "end_time": "2023-08-22T15:23:51.300091",
     "exception": false,
     "start_time": "2023-08-22T15:23:51.241862",
     "status": "completed"
    },
    "tags": []
   },
   "outputs": [
    {
     "data": {
      "text/html": [
       "<div>\n",
       "<style scoped>\n",
       "    .dataframe tbody tr th:only-of-type {\n",
       "        vertical-align: middle;\n",
       "    }\n",
       "\n",
       "    .dataframe tbody tr th {\n",
       "        vertical-align: top;\n",
       "    }\n",
       "\n",
       "    .dataframe thead th {\n",
       "        text-align: right;\n",
       "    }\n",
       "</style>\n",
       "<table border=\"1\" class=\"dataframe\">\n",
       "  <thead>\n",
       "    <tr style=\"text-align: right;\">\n",
       "      <th></th>\n",
       "      <th>Index</th>\n",
       "      <th>Latitude</th>\n",
       "      <th>Longitude</th>\n",
       "      <th>2010</th>\n",
       "      <th>2011</th>\n",
       "      <th>2012</th>\n",
       "      <th>2013</th>\n",
       "      <th>2014</th>\n",
       "      <th>2015</th>\n",
       "      <th>2016</th>\n",
       "      <th>2017</th>\n",
       "    </tr>\n",
       "  </thead>\n",
       "  <tbody>\n",
       "    <tr>\n",
       "      <th>0</th>\n",
       "      <td>0</td>\n",
       "      <td>24.66818</td>\n",
       "      <td>71.33144</td>\n",
       "      <td>8.475744</td>\n",
       "      <td>8.868568</td>\n",
       "      <td>9.202181</td>\n",
       "      <td>6.023070</td>\n",
       "      <td>10.788374</td>\n",
       "      <td>6.647325</td>\n",
       "      <td>7.387925</td>\n",
       "      <td>5.180296</td>\n",
       "    </tr>\n",
       "    <tr>\n",
       "      <th>1</th>\n",
       "      <td>1</td>\n",
       "      <td>24.66818</td>\n",
       "      <td>71.41106</td>\n",
       "      <td>24.029778</td>\n",
       "      <td>28.551348</td>\n",
       "      <td>25.866415</td>\n",
       "      <td>21.634459</td>\n",
       "      <td>34.419411</td>\n",
       "      <td>27.361908</td>\n",
       "      <td>40.431847</td>\n",
       "      <td>42.126945</td>\n",
       "    </tr>\n",
       "    <tr>\n",
       "      <th>2</th>\n",
       "      <td>2</td>\n",
       "      <td>24.66818</td>\n",
       "      <td>71.49069</td>\n",
       "      <td>44.831635</td>\n",
       "      <td>66.111168</td>\n",
       "      <td>56.982258</td>\n",
       "      <td>53.003735</td>\n",
       "      <td>70.917908</td>\n",
       "      <td>42.517117</td>\n",
       "      <td>59.181629</td>\n",
       "      <td>73.203232</td>\n",
       "    </tr>\n",
       "    <tr>\n",
       "      <th>3</th>\n",
       "      <td>3</td>\n",
       "      <td>24.66818</td>\n",
       "      <td>71.57031</td>\n",
       "      <td>59.974419</td>\n",
       "      <td>80.821304</td>\n",
       "      <td>78.956543</td>\n",
       "      <td>63.160561</td>\n",
       "      <td>93.513924</td>\n",
       "      <td>70.203171</td>\n",
       "      <td>74.536720</td>\n",
       "      <td>101.067352</td>\n",
       "    </tr>\n",
       "    <tr>\n",
       "      <th>4</th>\n",
       "      <td>4</td>\n",
       "      <td>24.66818</td>\n",
       "      <td>71.64994</td>\n",
       "      <td>14.653370</td>\n",
       "      <td>19.327524</td>\n",
       "      <td>21.928144</td>\n",
       "      <td>17.899586</td>\n",
       "      <td>19.534035</td>\n",
       "      <td>19.165791</td>\n",
       "      <td>16.531315</td>\n",
       "      <td>26.086885</td>\n",
       "    </tr>\n",
       "    <tr>\n",
       "      <th>...</th>\n",
       "      <td>...</td>\n",
       "      <td>...</td>\n",
       "      <td>...</td>\n",
       "      <td>...</td>\n",
       "      <td>...</td>\n",
       "      <td>...</td>\n",
       "      <td>...</td>\n",
       "      <td>...</td>\n",
       "      <td>...</td>\n",
       "      <td>...</td>\n",
       "      <td>...</td>\n",
       "    </tr>\n",
       "    <tr>\n",
       "      <th>2413</th>\n",
       "      <td>2413</td>\n",
       "      <td>20.15456</td>\n",
       "      <td>72.84432</td>\n",
       "      <td>5.199882</td>\n",
       "      <td>4.516778</td>\n",
       "      <td>4.321080</td>\n",
       "      <td>2.658953</td>\n",
       "      <td>5.113997</td>\n",
       "      <td>5.301668</td>\n",
       "      <td>6.419223</td>\n",
       "      <td>5.321604</td>\n",
       "    </tr>\n",
       "    <tr>\n",
       "      <th>2414</th>\n",
       "      <td>2414</td>\n",
       "      <td>20.15456</td>\n",
       "      <td>72.92394</td>\n",
       "      <td>0.122287</td>\n",
       "      <td>0.126717</td>\n",
       "      <td>0.101494</td>\n",
       "      <td>0.111509</td>\n",
       "      <td>0.121749</td>\n",
       "      <td>0.122467</td>\n",
       "      <td>0.145785</td>\n",
       "      <td>0.120626</td>\n",
       "    </tr>\n",
       "    <tr>\n",
       "      <th>2415</th>\n",
       "      <td>2415</td>\n",
       "      <td>20.15456</td>\n",
       "      <td>73.00357</td>\n",
       "      <td>0.039415</td>\n",
       "      <td>0.040843</td>\n",
       "      <td>0.032713</td>\n",
       "      <td>0.035941</td>\n",
       "      <td>0.039241</td>\n",
       "      <td>0.039473</td>\n",
       "      <td>0.046989</td>\n",
       "      <td>0.038879</td>\n",
       "    </tr>\n",
       "    <tr>\n",
       "      <th>2416</th>\n",
       "      <td>2416</td>\n",
       "      <td>20.15456</td>\n",
       "      <td>73.08319</td>\n",
       "      <td>2.719220</td>\n",
       "      <td>1.370163</td>\n",
       "      <td>0.818687</td>\n",
       "      <td>1.205721</td>\n",
       "      <td>1.316443</td>\n",
       "      <td>1.324201</td>\n",
       "      <td>1.576338</td>\n",
       "      <td>1.304297</td>\n",
       "    </tr>\n",
       "    <tr>\n",
       "      <th>2417</th>\n",
       "      <td>2417</td>\n",
       "      <td>20.15456</td>\n",
       "      <td>73.16282</td>\n",
       "      <td>0.621228</td>\n",
       "      <td>0.238414</td>\n",
       "      <td>0.112909</td>\n",
       "      <td>0.209801</td>\n",
       "      <td>0.229067</td>\n",
       "      <td>0.230417</td>\n",
       "      <td>0.274289</td>\n",
       "      <td>0.226953</td>\n",
       "    </tr>\n",
       "  </tbody>\n",
       "</table>\n",
       "<p>2418 rows × 11 columns</p>\n",
       "</div>"
      ],
      "text/plain": [
       "      Index  Latitude  Longitude       2010       2011       2012       2013  \\\n",
       "0         0  24.66818   71.33144   8.475744   8.868568   9.202181   6.023070   \n",
       "1         1  24.66818   71.41106  24.029778  28.551348  25.866415  21.634459   \n",
       "2         2  24.66818   71.49069  44.831635  66.111168  56.982258  53.003735   \n",
       "3         3  24.66818   71.57031  59.974419  80.821304  78.956543  63.160561   \n",
       "4         4  24.66818   71.64994  14.653370  19.327524  21.928144  17.899586   \n",
       "...     ...       ...        ...        ...        ...        ...        ...   \n",
       "2413   2413  20.15456   72.84432   5.199882   4.516778   4.321080   2.658953   \n",
       "2414   2414  20.15456   72.92394   0.122287   0.126717   0.101494   0.111509   \n",
       "2415   2415  20.15456   73.00357   0.039415   0.040843   0.032713   0.035941   \n",
       "2416   2416  20.15456   73.08319   2.719220   1.370163   0.818687   1.205721   \n",
       "2417   2417  20.15456   73.16282   0.621228   0.238414   0.112909   0.209801   \n",
       "\n",
       "           2014       2015       2016        2017  \n",
       "0     10.788374   6.647325   7.387925    5.180296  \n",
       "1     34.419411  27.361908  40.431847   42.126945  \n",
       "2     70.917908  42.517117  59.181629   73.203232  \n",
       "3     93.513924  70.203171  74.536720  101.067352  \n",
       "4     19.534035  19.165791  16.531315   26.086885  \n",
       "...         ...        ...        ...         ...  \n",
       "2413   5.113997   5.301668   6.419223    5.321604  \n",
       "2414   0.121749   0.122467   0.145785    0.120626  \n",
       "2415   0.039241   0.039473   0.046989    0.038879  \n",
       "2416   1.316443   1.324201   1.576338    1.304297  \n",
       "2417   0.229067   0.230417   0.274289    0.226953  \n",
       "\n",
       "[2418 rows x 11 columns]"
      ]
     },
     "execution_count": 14,
     "metadata": {},
     "output_type": "execute_result"
    }
   ],
   "source": [
    "Biomass_history"
   ]
  },
  {
   "cell_type": "code",
   "execution_count": 15,
   "id": "c6c2e1d1",
   "metadata": {
    "execution": {
     "iopub.execute_input": "2023-08-22T15:23:51.347580Z",
     "iopub.status.busy": "2023-08-22T15:23:51.347124Z",
     "iopub.status.idle": "2023-08-22T15:23:51.679030Z",
     "shell.execute_reply": "2023-08-22T15:23:51.677794Z"
    },
    "papermill": {
     "duration": 0.358483,
     "end_time": "2023-08-22T15:23:51.681823",
     "exception": false,
     "start_time": "2023-08-22T15:23:51.323340",
     "status": "completed"
    },
    "tags": []
   },
   "outputs": [
    {
     "data": {
      "image/png": "[encoded data removed]",
      "text/plain": [
       "<Figure size 432x288 with 1 Axes>"
      ]
     },
     "metadata": {
      "needs_background": "light"
     },
     "output_type": "display_data"
    }
   ],
   "source": [
    "import matplotlib.pyplot as plt\n",
    "\n",
    "# Create a scatter plot\n",
    "plt.scatter(long, lat, color='blue', s=2)\n",
    "\n",
    "# Set labels and title\n",
    "plt.xlabel('Longitude')\n",
    "plt.ylabel('Lattitude')\n",
    "plt.title('Harvesting sites')\n",
    "\n",
    "# Show the plot\n",
    "plt.show()"
   ]
  },
  {
   "cell_type": "code",
   "execution_count": 16,
   "id": "31793c99",
   "metadata": {
    "execution": {
     "iopub.execute_input": "2023-08-22T15:23:51.729212Z",
     "iopub.status.busy": "2023-08-22T15:23:51.728584Z",
     "iopub.status.idle": "2023-08-22T15:23:51.772894Z",
     "shell.execute_reply": "2023-08-22T15:23:51.771317Z"
    },
    "papermill": {
     "duration": 0.07086,
     "end_time": "2023-08-22T15:23:51.775588",
     "exception": false,
     "start_time": "2023-08-22T15:23:51.704728",
     "status": "completed"
    },
    "tags": []
   },
   "outputs": [
    {
     "data": {
      "text/html": [
       "<div>\n",
       "<style scoped>\n",
       "    .dataframe tbody tr th:only-of-type {\n",
       "        vertical-align: middle;\n",
       "    }\n",
       "\n",
       "    .dataframe tbody tr th {\n",
       "        vertical-align: top;\n",
       "    }\n",
       "\n",
       "    .dataframe thead th {\n",
       "        text-align: right;\n",
       "    }\n",
       "</style>\n",
       "<table border=\"1\" class=\"dataframe\">\n",
       "  <thead>\n",
       "    <tr style=\"text-align: right;\">\n",
       "      <th></th>\n",
       "      <th>Unnamed: 0</th>\n",
       "      <th>0</th>\n",
       "      <th>1</th>\n",
       "      <th>2</th>\n",
       "      <th>3</th>\n",
       "      <th>4</th>\n",
       "      <th>5</th>\n",
       "      <th>6</th>\n",
       "      <th>7</th>\n",
       "      <th>8</th>\n",
       "      <th>...</th>\n",
       "      <th>2408</th>\n",
       "      <th>2409</th>\n",
       "      <th>2410</th>\n",
       "      <th>2411</th>\n",
       "      <th>2412</th>\n",
       "      <th>2413</th>\n",
       "      <th>2414</th>\n",
       "      <th>2415</th>\n",
       "      <th>2416</th>\n",
       "      <th>2417</th>\n",
       "    </tr>\n",
       "  </thead>\n",
       "  <tbody>\n",
       "    <tr>\n",
       "      <th>0</th>\n",
       "      <td>0</td>\n",
       "      <td>0.0000</td>\n",
       "      <td>11.3769</td>\n",
       "      <td>20.4557</td>\n",
       "      <td>38.1227</td>\n",
       "      <td>45.3810</td>\n",
       "      <td>54.9915</td>\n",
       "      <td>78.6108</td>\n",
       "      <td>118.6750</td>\n",
       "      <td>102.6639</td>\n",
       "      <td>...</td>\n",
       "      <td>683.8771</td>\n",
       "      <td>687.6310</td>\n",
       "      <td>697.3246</td>\n",
       "      <td>669.3962</td>\n",
       "      <td>667.6788</td>\n",
       "      <td>665.5775</td>\n",
       "      <td>662.0291</td>\n",
       "      <td>665.9655</td>\n",
       "      <td>673.2073</td>\n",
       "      <td>681.4235</td>\n",
       "    </tr>\n",
       "    <tr>\n",
       "      <th>1</th>\n",
       "      <td>1</td>\n",
       "      <td>11.3769</td>\n",
       "      <td>0.0000</td>\n",
       "      <td>9.0788</td>\n",
       "      <td>28.9141</td>\n",
       "      <td>36.1724</td>\n",
       "      <td>45.7829</td>\n",
       "      <td>69.4022</td>\n",
       "      <td>78.2329</td>\n",
       "      <td>93.4553</td>\n",
       "      <td>...</td>\n",
       "      <td>681.6295</td>\n",
       "      <td>685.3833</td>\n",
       "      <td>695.0769</td>\n",
       "      <td>667.1485</td>\n",
       "      <td>665.4311</td>\n",
       "      <td>663.3298</td>\n",
       "      <td>659.7815</td>\n",
       "      <td>663.7178</td>\n",
       "      <td>670.9596</td>\n",
       "      <td>679.1758</td>\n",
       "    </tr>\n",
       "    <tr>\n",
       "      <th>2</th>\n",
       "      <td>2</td>\n",
       "      <td>20.4557</td>\n",
       "      <td>9.0788</td>\n",
       "      <td>0.0000</td>\n",
       "      <td>22.3791</td>\n",
       "      <td>29.6374</td>\n",
       "      <td>39.2478</td>\n",
       "      <td>62.8671</td>\n",
       "      <td>71.6979</td>\n",
       "      <td>86.9203</td>\n",
       "      <td>...</td>\n",
       "      <td>682.2323</td>\n",
       "      <td>685.9861</td>\n",
       "      <td>695.6796</td>\n",
       "      <td>667.7513</td>\n",
       "      <td>666.0339</td>\n",
       "      <td>663.9326</td>\n",
       "      <td>660.3843</td>\n",
       "      <td>664.3206</td>\n",
       "      <td>671.5623</td>\n",
       "      <td>679.7786</td>\n",
       "    </tr>\n",
       "    <tr>\n",
       "      <th>3</th>\n",
       "      <td>3</td>\n",
       "      <td>38.1227</td>\n",
       "      <td>28.9141</td>\n",
       "      <td>22.3791</td>\n",
       "      <td>0.0000</td>\n",
       "      <td>11.8343</td>\n",
       "      <td>23.5413</td>\n",
       "      <td>41.8396</td>\n",
       "      <td>50.6703</td>\n",
       "      <td>65.8927</td>\n",
       "      <td>...</td>\n",
       "      <td>681.4226</td>\n",
       "      <td>685.1765</td>\n",
       "      <td>694.8701</td>\n",
       "      <td>666.9417</td>\n",
       "      <td>665.2243</td>\n",
       "      <td>663.1230</td>\n",
       "      <td>659.5746</td>\n",
       "      <td>663.5110</td>\n",
       "      <td>670.7528</td>\n",
       "      <td>678.9690</td>\n",
       "    </tr>\n",
       "    <tr>\n",
       "      <th>4</th>\n",
       "      <td>4</td>\n",
       "      <td>45.3810</td>\n",
       "      <td>36.1724</td>\n",
       "      <td>29.6374</td>\n",
       "      <td>11.8343</td>\n",
       "      <td>0.0000</td>\n",
       "      <td>11.7070</td>\n",
       "      <td>24.3986</td>\n",
       "      <td>33.2293</td>\n",
       "      <td>53.9901</td>\n",
       "      <td>...</td>\n",
       "      <td>663.9816</td>\n",
       "      <td>667.7355</td>\n",
       "      <td>677.4291</td>\n",
       "      <td>649.5007</td>\n",
       "      <td>647.7833</td>\n",
       "      <td>645.6820</td>\n",
       "      <td>642.1336</td>\n",
       "      <td>646.0700</td>\n",
       "      <td>653.3118</td>\n",
       "      <td>661.5280</td>\n",
       "    </tr>\n",
       "    <tr>\n",
       "      <th>...</th>\n",
       "      <td>...</td>\n",
       "      <td>...</td>\n",
       "      <td>...</td>\n",
       "      <td>...</td>\n",
       "      <td>...</td>\n",
       "      <td>...</td>\n",
       "      <td>...</td>\n",
       "      <td>...</td>\n",
       "      <td>...</td>\n",
       "      <td>...</td>\n",
       "      <td>...</td>\n",
       "      <td>...</td>\n",
       "      <td>...</td>\n",
       "      <td>...</td>\n",
       "      <td>...</td>\n",
       "      <td>...</td>\n",
       "      <td>...</td>\n",
       "      <td>...</td>\n",
       "      <td>...</td>\n",
       "      <td>...</td>\n",
       "      <td>...</td>\n",
       "    </tr>\n",
       "    <tr>\n",
       "      <th>2413</th>\n",
       "      <td>2413</td>\n",
       "      <td>671.2005</td>\n",
       "      <td>668.9528</td>\n",
       "      <td>669.5556</td>\n",
       "      <td>669.9084</td>\n",
       "      <td>652.1102</td>\n",
       "      <td>640.4032</td>\n",
       "      <td>627.7116</td>\n",
       "      <td>622.9663</td>\n",
       "      <td>638.9532</td>\n",
       "      <td>...</td>\n",
       "      <td>109.0007</td>\n",
       "      <td>112.7545</td>\n",
       "      <td>122.4481</td>\n",
       "      <td>12.3091</td>\n",
       "      <td>9.1558</td>\n",
       "      <td>0.0000</td>\n",
       "      <td>14.5629</td>\n",
       "      <td>22.3860</td>\n",
       "      <td>36.6284</td>\n",
       "      <td>44.8446</td>\n",
       "    </tr>\n",
       "    <tr>\n",
       "      <th>2414</th>\n",
       "      <td>2414</td>\n",
       "      <td>663.4455</td>\n",
       "      <td>661.1978</td>\n",
       "      <td>661.8006</td>\n",
       "      <td>662.1534</td>\n",
       "      <td>644.3551</td>\n",
       "      <td>632.6481</td>\n",
       "      <td>619.9566</td>\n",
       "      <td>615.2112</td>\n",
       "      <td>631.1981</td>\n",
       "      <td>...</td>\n",
       "      <td>101.2456</td>\n",
       "      <td>104.9995</td>\n",
       "      <td>114.6931</td>\n",
       "      <td>26.4955</td>\n",
       "      <td>23.3422</td>\n",
       "      <td>14.1864</td>\n",
       "      <td>0.0000</td>\n",
       "      <td>14.5984</td>\n",
       "      <td>28.8407</td>\n",
       "      <td>37.0570</td>\n",
       "    </tr>\n",
       "    <tr>\n",
       "      <th>2415</th>\n",
       "      <td>2415</td>\n",
       "      <td>663.7748</td>\n",
       "      <td>661.5271</td>\n",
       "      <td>662.1298</td>\n",
       "      <td>662.4826</td>\n",
       "      <td>644.6844</td>\n",
       "      <td>632.9774</td>\n",
       "      <td>620.2859</td>\n",
       "      <td>615.5405</td>\n",
       "      <td>631.5274</td>\n",
       "      <td>...</td>\n",
       "      <td>84.1469</td>\n",
       "      <td>87.9008</td>\n",
       "      <td>97.5943</td>\n",
       "      <td>34.3098</td>\n",
       "      <td>31.1565</td>\n",
       "      <td>22.0007</td>\n",
       "      <td>12.8105</td>\n",
       "      <td>0.0000</td>\n",
       "      <td>14.2423</td>\n",
       "      <td>22.4586</td>\n",
       "    </tr>\n",
       "    <tr>\n",
       "      <th>2416</th>\n",
       "      <td>2416</td>\n",
       "      <td>671.0165</td>\n",
       "      <td>668.7688</td>\n",
       "      <td>669.3715</td>\n",
       "      <td>669.7244</td>\n",
       "      <td>651.9261</td>\n",
       "      <td>640.2191</td>\n",
       "      <td>627.5276</td>\n",
       "      <td>622.7822</td>\n",
       "      <td>638.7691</td>\n",
       "      <td>...</td>\n",
       "      <td>91.3886</td>\n",
       "      <td>95.1425</td>\n",
       "      <td>104.8361</td>\n",
       "      <td>48.5521</td>\n",
       "      <td>45.3988</td>\n",
       "      <td>36.2430</td>\n",
       "      <td>27.0528</td>\n",
       "      <td>14.2423</td>\n",
       "      <td>0.0000</td>\n",
       "      <td>12.4741</td>\n",
       "    </tr>\n",
       "    <tr>\n",
       "      <th>2417</th>\n",
       "      <td>2417</td>\n",
       "      <td>679.2328</td>\n",
       "      <td>676.9851</td>\n",
       "      <td>677.5878</td>\n",
       "      <td>677.9406</td>\n",
       "      <td>660.1424</td>\n",
       "      <td>648.4354</td>\n",
       "      <td>635.7439</td>\n",
       "      <td>630.9985</td>\n",
       "      <td>646.9854</td>\n",
       "      <td>...</td>\n",
       "      <td>99.6049</td>\n",
       "      <td>103.3587</td>\n",
       "      <td>113.0523</td>\n",
       "      <td>56.7684</td>\n",
       "      <td>53.6151</td>\n",
       "      <td>44.4593</td>\n",
       "      <td>35.2691</td>\n",
       "      <td>22.4586</td>\n",
       "      <td>12.4741</td>\n",
       "      <td>0.0000</td>\n",
       "    </tr>\n",
       "  </tbody>\n",
       "</table>\n",
       "<p>2418 rows × 2419 columns</p>\n",
       "</div>"
      ],
      "text/plain": [
       "      Unnamed: 0         0         1         2         3         4         5  \\\n",
       "0              0    0.0000   11.3769   20.4557   38.1227   45.3810   54.9915   \n",
       "1              1   11.3769    0.0000    9.0788   28.9141   36.1724   45.7829   \n",
       "2              2   20.4557    9.0788    0.0000   22.3791   29.6374   39.2478   \n",
       "3              3   38.1227   28.9141   22.3791    0.0000   11.8343   23.5413   \n",
       "4              4   45.3810   36.1724   29.6374   11.8343    0.0000   11.7070   \n",
       "...          ...       ...       ...       ...       ...       ...       ...   \n",
       "2413        2413  671.2005  668.9528  669.5556  669.9084  652.1102  640.4032   \n",
       "2414        2414  663.4455  661.1978  661.8006  662.1534  644.3551  632.6481   \n",
       "2415        2415  663.7748  661.5271  662.1298  662.4826  644.6844  632.9774   \n",
       "2416        2416  671.0165  668.7688  669.3715  669.7244  651.9261  640.2191   \n",
       "2417        2417  679.2328  676.9851  677.5878  677.9406  660.1424  648.4354   \n",
       "\n",
       "             6         7         8  ...      2408      2409      2410  \\\n",
       "0      78.6108  118.6750  102.6639  ...  683.8771  687.6310  697.3246   \n",
       "1      69.4022   78.2329   93.4553  ...  681.6295  685.3833  695.0769   \n",
       "2      62.8671   71.6979   86.9203  ...  682.2323  685.9861  695.6796   \n",
       "3      41.8396   50.6703   65.8927  ...  681.4226  685.1765  694.8701   \n",
       "4      24.3986   33.2293   53.9901  ...  663.9816  667.7355  677.4291   \n",
       "...        ...       ...       ...  ...       ...       ...       ...   \n",
       "2413  627.7116  622.9663  638.9532  ...  109.0007  112.7545  122.4481   \n",
       "2414  619.9566  615.2112  631.1981  ...  101.2456  104.9995  114.6931   \n",
       "2415  620.2859  615.5405  631.5274  ...   84.1469   87.9008   97.5943   \n",
       "2416  627.5276  622.7822  638.7691  ...   91.3886   95.1425  104.8361   \n",
       "2417  635.7439  630.9985  646.9854  ...   99.6049  103.3587  113.0523   \n",
       "\n",
       "          2411      2412      2413      2414      2415      2416      2417  \n",
       "0     669.3962  667.6788  665.5775  662.0291  665.9655  673.2073  681.4235  \n",
       "1     667.1485  665.4311  663.3298  659.7815  663.7178  670.9596  679.1758  \n",
       "2     667.7513  666.0339  663.9326  660.3843  664.3206  671.5623  679.7786  \n",
       "3     666.9417  665.2243  663.1230  659.5746  663.5110  670.7528  678.9690  \n",
       "4     649.5007  647.7833  645.6820  642.1336  646.0700  653.3118  661.5280  \n",
       "...        ...       ...       ...       ...       ...       ...       ...  \n",
       "2413   12.3091    9.1558    0.0000   14.5629   22.3860   36.6284   44.8446  \n",
       "2414   26.4955   23.3422   14.1864    0.0000   14.5984   28.8407   37.0570  \n",
       "2415   34.3098   31.1565   22.0007   12.8105    0.0000   14.2423   22.4586  \n",
       "2416   48.5521   45.3988   36.2430   27.0528   14.2423    0.0000   12.4741  \n",
       "2417   56.7684   53.6151   44.4593   35.2691   22.4586   12.4741    0.0000  \n",
       "\n",
       "[2418 rows x 2419 columns]"
      ]
     },
     "execution_count": 16,
     "metadata": {},
     "output_type": "execute_result"
    }
   ],
   "source": [
    "dist_mat"
   ]
  },
  {
   "cell_type": "code",
   "execution_count": 17,
   "id": "7566d523",
   "metadata": {},
   "outputs": [],
   "source": [
    "dist_mat.drop(['Unnamed: 0'], axis=1, inplace=True)"
   ]
  },
  {
   "cell_type": "code",
   "execution_count": null,
   "id": "6293b4d1",
   "metadata": {},
   "outputs": [],
   "source": []
  },
  {
   "cell_type": "code",
   "execution_count": 18,
   "id": "88f5a227",
   "metadata": {
    "execution": {
     "iopub.execute_input": "2023-08-22T15:23:51.824099Z",
     "iopub.status.busy": "2023-08-22T15:23:51.823620Z",
     "iopub.status.idle": "2023-08-22T15:23:53.554844Z",
     "shell.execute_reply": "2023-08-22T15:23:53.553947Z"
    },
    "papermill": {
     "duration": 1.759101,
     "end_time": "2023-08-22T15:23:53.557752",
     "exception": false,
     "start_time": "2023-08-22T15:23:51.798651",
     "status": "completed"
    },
    "tags": []
   },
   "outputs": [],
   "source": [
    "file_path = '../../data/dataset/Distance_Matrix.csv'\n",
    "distance_matrix = read_csv_to_matrix(file_path)"
   ]
  },
  {
   "cell_type": "code",
   "execution_count": 19,
   "id": "183ee285",
   "metadata": {
    "execution": {
     "iopub.execute_input": "2023-08-22T15:23:53.608338Z",
     "iopub.status.busy": "2023-08-22T15:23:53.607620Z",
     "iopub.status.idle": "2023-08-22T15:23:53.612208Z",
     "shell.execute_reply": "2023-08-22T15:23:53.611360Z"
    },
    "papermill": {
     "duration": 0.03324,
     "end_time": "2023-08-22T15:23:53.614868",
     "exception": false,
     "start_time": "2023-08-22T15:23:53.581628",
     "status": "completed"
    },
    "tags": []
   },
   "outputs": [],
   "source": [
    "# Convert the matrix to a DataFrame\n",
    "df = pd.DataFrame(distance_matrix)"
   ]
  },
  {
   "cell_type": "code",
   "execution_count": 20,
   "id": "9f97fd79",
   "metadata": {
    "execution": {
     "iopub.execute_input": "2023-08-22T15:23:53.662677Z",
     "iopub.status.busy": "2023-08-22T15:23:53.662141Z",
     "iopub.status.idle": "2023-08-22T15:23:53.702546Z",
     "shell.execute_reply": "2023-08-22T15:23:53.701562Z"
    },
    "papermill": {
     "duration": 0.067431,
     "end_time": "2023-08-22T15:23:53.705087",
     "exception": false,
     "start_time": "2023-08-22T15:23:53.637656",
     "status": "completed"
    },
    "tags": []
   },
   "outputs": [
    {
     "data": {
      "text/html": [
       "<div>\n",
       "<style scoped>\n",
       "    .dataframe tbody tr th:only-of-type {\n",
       "        vertical-align: middle;\n",
       "    }\n",
       "\n",
       "    .dataframe tbody tr th {\n",
       "        vertical-align: top;\n",
       "    }\n",
       "\n",
       "    .dataframe thead th {\n",
       "        text-align: right;\n",
       "    }\n",
       "</style>\n",
       "<table border=\"1\" class=\"dataframe\">\n",
       "  <thead>\n",
       "    <tr style=\"text-align: right;\">\n",
       "      <th></th>\n",
       "      <th>0</th>\n",
       "      <th>1</th>\n",
       "      <th>2</th>\n",
       "      <th>3</th>\n",
       "      <th>4</th>\n",
       "      <th>5</th>\n",
       "      <th>6</th>\n",
       "      <th>7</th>\n",
       "      <th>8</th>\n",
       "      <th>9</th>\n",
       "      <th>...</th>\n",
       "      <th>2409</th>\n",
       "      <th>2410</th>\n",
       "      <th>2411</th>\n",
       "      <th>2412</th>\n",
       "      <th>2413</th>\n",
       "      <th>2414</th>\n",
       "      <th>2415</th>\n",
       "      <th>2416</th>\n",
       "      <th>2417</th>\n",
       "      <th>2418</th>\n",
       "    </tr>\n",
       "  </thead>\n",
       "  <tbody>\n",
       "    <tr>\n",
       "      <th>0</th>\n",
       "      <td>NaN</td>\n",
       "      <td>0.0000</td>\n",
       "      <td>1.0000</td>\n",
       "      <td>2.0000</td>\n",
       "      <td>3.0000</td>\n",
       "      <td>4.0000</td>\n",
       "      <td>5.0000</td>\n",
       "      <td>6.0000</td>\n",
       "      <td>7.0000</td>\n",
       "      <td>8.0000</td>\n",
       "      <td>...</td>\n",
       "      <td>2408.0000</td>\n",
       "      <td>2409.0000</td>\n",
       "      <td>2410.0000</td>\n",
       "      <td>2411.0000</td>\n",
       "      <td>2412.0000</td>\n",
       "      <td>2413.0000</td>\n",
       "      <td>2414.0000</td>\n",
       "      <td>2415.0000</td>\n",
       "      <td>2416.0000</td>\n",
       "      <td>2417.0000</td>\n",
       "    </tr>\n",
       "    <tr>\n",
       "      <th>1</th>\n",
       "      <td>0.0</td>\n",
       "      <td>0.0000</td>\n",
       "      <td>11.3769</td>\n",
       "      <td>20.4557</td>\n",
       "      <td>38.1227</td>\n",
       "      <td>45.3810</td>\n",
       "      <td>54.9915</td>\n",
       "      <td>78.6108</td>\n",
       "      <td>118.6750</td>\n",
       "      <td>102.6639</td>\n",
       "      <td>...</td>\n",
       "      <td>683.8771</td>\n",
       "      <td>687.6310</td>\n",
       "      <td>697.3246</td>\n",
       "      <td>669.3962</td>\n",
       "      <td>667.6788</td>\n",
       "      <td>665.5775</td>\n",
       "      <td>662.0291</td>\n",
       "      <td>665.9655</td>\n",
       "      <td>673.2073</td>\n",
       "      <td>681.4235</td>\n",
       "    </tr>\n",
       "    <tr>\n",
       "      <th>2</th>\n",
       "      <td>1.0</td>\n",
       "      <td>11.3769</td>\n",
       "      <td>0.0000</td>\n",
       "      <td>9.0788</td>\n",
       "      <td>28.9141</td>\n",
       "      <td>36.1724</td>\n",
       "      <td>45.7829</td>\n",
       "      <td>69.4022</td>\n",
       "      <td>78.2329</td>\n",
       "      <td>93.4553</td>\n",
       "      <td>...</td>\n",
       "      <td>681.6295</td>\n",
       "      <td>685.3833</td>\n",
       "      <td>695.0769</td>\n",
       "      <td>667.1485</td>\n",
       "      <td>665.4311</td>\n",
       "      <td>663.3298</td>\n",
       "      <td>659.7815</td>\n",
       "      <td>663.7178</td>\n",
       "      <td>670.9596</td>\n",
       "      <td>679.1758</td>\n",
       "    </tr>\n",
       "    <tr>\n",
       "      <th>3</th>\n",
       "      <td>2.0</td>\n",
       "      <td>20.4557</td>\n",
       "      <td>9.0788</td>\n",
       "      <td>0.0000</td>\n",
       "      <td>22.3791</td>\n",
       "      <td>29.6374</td>\n",
       "      <td>39.2478</td>\n",
       "      <td>62.8671</td>\n",
       "      <td>71.6979</td>\n",
       "      <td>86.9203</td>\n",
       "      <td>...</td>\n",
       "      <td>682.2323</td>\n",
       "      <td>685.9861</td>\n",
       "      <td>695.6796</td>\n",
       "      <td>667.7513</td>\n",
       "      <td>666.0339</td>\n",
       "      <td>663.9326</td>\n",
       "      <td>660.3843</td>\n",
       "      <td>664.3206</td>\n",
       "      <td>671.5623</td>\n",
       "      <td>679.7786</td>\n",
       "    </tr>\n",
       "    <tr>\n",
       "      <th>4</th>\n",
       "      <td>3.0</td>\n",
       "      <td>38.1227</td>\n",
       "      <td>28.9141</td>\n",
       "      <td>22.3791</td>\n",
       "      <td>0.0000</td>\n",
       "      <td>11.8343</td>\n",
       "      <td>23.5413</td>\n",
       "      <td>41.8396</td>\n",
       "      <td>50.6703</td>\n",
       "      <td>65.8927</td>\n",
       "      <td>...</td>\n",
       "      <td>681.4226</td>\n",
       "      <td>685.1765</td>\n",
       "      <td>694.8701</td>\n",
       "      <td>666.9417</td>\n",
       "      <td>665.2243</td>\n",
       "      <td>663.1230</td>\n",
       "      <td>659.5746</td>\n",
       "      <td>663.5110</td>\n",
       "      <td>670.7528</td>\n",
       "      <td>678.9690</td>\n",
       "    </tr>\n",
       "    <tr>\n",
       "      <th>...</th>\n",
       "      <td>...</td>\n",
       "      <td>...</td>\n",
       "      <td>...</td>\n",
       "      <td>...</td>\n",
       "      <td>...</td>\n",
       "      <td>...</td>\n",
       "      <td>...</td>\n",
       "      <td>...</td>\n",
       "      <td>...</td>\n",
       "      <td>...</td>\n",
       "      <td>...</td>\n",
       "      <td>...</td>\n",
       "      <td>...</td>\n",
       "      <td>...</td>\n",
       "      <td>...</td>\n",
       "      <td>...</td>\n",
       "      <td>...</td>\n",
       "      <td>...</td>\n",
       "      <td>...</td>\n",
       "      <td>...</td>\n",
       "      <td>...</td>\n",
       "    </tr>\n",
       "    <tr>\n",
       "      <th>2414</th>\n",
       "      <td>2413.0</td>\n",
       "      <td>671.2005</td>\n",
       "      <td>668.9528</td>\n",
       "      <td>669.5556</td>\n",
       "      <td>669.9084</td>\n",
       "      <td>652.1102</td>\n",
       "      <td>640.4032</td>\n",
       "      <td>627.7116</td>\n",
       "      <td>622.9663</td>\n",
       "      <td>638.9532</td>\n",
       "      <td>...</td>\n",
       "      <td>109.0007</td>\n",
       "      <td>112.7545</td>\n",
       "      <td>122.4481</td>\n",
       "      <td>12.3091</td>\n",
       "      <td>9.1558</td>\n",
       "      <td>0.0000</td>\n",
       "      <td>14.5629</td>\n",
       "      <td>22.3860</td>\n",
       "      <td>36.6284</td>\n",
       "      <td>44.8446</td>\n",
       "    </tr>\n",
       "    <tr>\n",
       "      <th>2415</th>\n",
       "      <td>2414.0</td>\n",
       "      <td>663.4455</td>\n",
       "      <td>661.1978</td>\n",
       "      <td>661.8006</td>\n",
       "      <td>662.1534</td>\n",
       "      <td>644.3551</td>\n",
       "      <td>632.6481</td>\n",
       "      <td>619.9566</td>\n",
       "      <td>615.2112</td>\n",
       "      <td>631.1981</td>\n",
       "      <td>...</td>\n",
       "      <td>101.2456</td>\n",
       "      <td>104.9995</td>\n",
       "      <td>114.6931</td>\n",
       "      <td>26.4955</td>\n",
       "      <td>23.3422</td>\n",
       "      <td>14.1864</td>\n",
       "      <td>0.0000</td>\n",
       "      <td>14.5984</td>\n",
       "      <td>28.8407</td>\n",
       "      <td>37.0570</td>\n",
       "    </tr>\n",
       "    <tr>\n",
       "      <th>2416</th>\n",
       "      <td>2415.0</td>\n",
       "      <td>663.7748</td>\n",
       "      <td>661.5271</td>\n",
       "      <td>662.1298</td>\n",
       "      <td>662.4826</td>\n",
       "      <td>644.6844</td>\n",
       "      <td>632.9774</td>\n",
       "      <td>620.2859</td>\n",
       "      <td>615.5405</td>\n",
       "      <td>631.5274</td>\n",
       "      <td>...</td>\n",
       "      <td>84.1469</td>\n",
       "      <td>87.9008</td>\n",
       "      <td>97.5943</td>\n",
       "      <td>34.3098</td>\n",
       "      <td>31.1565</td>\n",
       "      <td>22.0007</td>\n",
       "      <td>12.8105</td>\n",
       "      <td>0.0000</td>\n",
       "      <td>14.2423</td>\n",
       "      <td>22.4586</td>\n",
       "    </tr>\n",
       "    <tr>\n",
       "      <th>2417</th>\n",
       "      <td>2416.0</td>\n",
       "      <td>671.0165</td>\n",
       "      <td>668.7688</td>\n",
       "      <td>669.3715</td>\n",
       "      <td>669.7244</td>\n",
       "      <td>651.9261</td>\n",
       "      <td>640.2191</td>\n",
       "      <td>627.5276</td>\n",
       "      <td>622.7822</td>\n",
       "      <td>638.7691</td>\n",
       "      <td>...</td>\n",
       "      <td>91.3886</td>\n",
       "      <td>95.1425</td>\n",
       "      <td>104.8361</td>\n",
       "      <td>48.5521</td>\n",
       "      <td>45.3988</td>\n",
       "      <td>36.2430</td>\n",
       "      <td>27.0528</td>\n",
       "      <td>14.2423</td>\n",
       "      <td>0.0000</td>\n",
       "      <td>12.4741</td>\n",
       "    </tr>\n",
       "    <tr>\n",
       "      <th>2418</th>\n",
       "      <td>2417.0</td>\n",
       "      <td>679.2328</td>\n",
       "      <td>676.9851</td>\n",
       "      <td>677.5878</td>\n",
       "      <td>677.9406</td>\n",
       "      <td>660.1424</td>\n",
       "      <td>648.4354</td>\n",
       "      <td>635.7439</td>\n",
       "      <td>630.9985</td>\n",
       "      <td>646.9854</td>\n",
       "      <td>...</td>\n",
       "      <td>99.6049</td>\n",
       "      <td>103.3587</td>\n",
       "      <td>113.0523</td>\n",
       "      <td>56.7684</td>\n",
       "      <td>53.6151</td>\n",
       "      <td>44.4593</td>\n",
       "      <td>35.2691</td>\n",
       "      <td>22.4586</td>\n",
       "      <td>12.4741</td>\n",
       "      <td>0.0000</td>\n",
       "    </tr>\n",
       "  </tbody>\n",
       "</table>\n",
       "<p>2419 rows × 2419 columns</p>\n",
       "</div>"
      ],
      "text/plain": [
       "        0         1         2         3         4         5         6     \\\n",
       "0        NaN    0.0000    1.0000    2.0000    3.0000    4.0000    5.0000   \n",
       "1        0.0    0.0000   11.3769   20.4557   38.1227   45.3810   54.9915   \n",
       "2        1.0   11.3769    0.0000    9.0788   28.9141   36.1724   45.7829   \n",
       "3        2.0   20.4557    9.0788    0.0000   22.3791   29.6374   39.2478   \n",
       "4        3.0   38.1227   28.9141   22.3791    0.0000   11.8343   23.5413   \n",
       "...      ...       ...       ...       ...       ...       ...       ...   \n",
       "2414  2413.0  671.2005  668.9528  669.5556  669.9084  652.1102  640.4032   \n",
       "2415  2414.0  663.4455  661.1978  661.8006  662.1534  644.3551  632.6481   \n",
       "2416  2415.0  663.7748  661.5271  662.1298  662.4826  644.6844  632.9774   \n",
       "2417  2416.0  671.0165  668.7688  669.3715  669.7244  651.9261  640.2191   \n",
       "2418  2417.0  679.2328  676.9851  677.5878  677.9406  660.1424  648.4354   \n",
       "\n",
       "          7         8         9     ...       2409       2410       2411  \\\n",
       "0       6.0000    7.0000    8.0000  ...  2408.0000  2409.0000  2410.0000   \n",
       "1      78.6108  118.6750  102.6639  ...   683.8771   687.6310   697.3246   \n",
       "2      69.4022   78.2329   93.4553  ...   681.6295   685.3833   695.0769   \n",
       "3      62.8671   71.6979   86.9203  ...   682.2323   685.9861   695.6796   \n",
       "4      41.8396   50.6703   65.8927  ...   681.4226   685.1765   694.8701   \n",
       "...        ...       ...       ...  ...        ...        ...        ...   \n",
       "2414  627.7116  622.9663  638.9532  ...   109.0007   112.7545   122.4481   \n",
       "2415  619.9566  615.2112  631.1981  ...   101.2456   104.9995   114.6931   \n",
       "2416  620.2859  615.5405  631.5274  ...    84.1469    87.9008    97.5943   \n",
       "2417  627.5276  622.7822  638.7691  ...    91.3886    95.1425   104.8361   \n",
       "2418  635.7439  630.9985  646.9854  ...    99.6049   103.3587   113.0523   \n",
       "\n",
       "           2412       2413       2414       2415       2416       2417  \\\n",
       "0     2411.0000  2412.0000  2413.0000  2414.0000  2415.0000  2416.0000   \n",
       "1      669.3962   667.6788   665.5775   662.0291   665.9655   673.2073   \n",
       "2      667.1485   665.4311   663.3298   659.7815   663.7178   670.9596   \n",
       "3      667.7513   666.0339   663.9326   660.3843   664.3206   671.5623   \n",
       "4      666.9417   665.2243   663.1230   659.5746   663.5110   670.7528   \n",
       "...         ...        ...        ...        ...        ...        ...   \n",
       "2414    12.3091     9.1558     0.0000    14.5629    22.3860    36.6284   \n",
       "2415    26.4955    23.3422    14.1864     0.0000    14.5984    28.8407   \n",
       "2416    34.3098    31.1565    22.0007    12.8105     0.0000    14.2423   \n",
       "2417    48.5521    45.3988    36.2430    27.0528    14.2423     0.0000   \n",
       "2418    56.7684    53.6151    44.4593    35.2691    22.4586    12.4741   \n",
       "\n",
       "           2418  \n",
       "0     2417.0000  \n",
       "1      681.4235  \n",
       "2      679.1758  \n",
       "3      679.7786  \n",
       "4      678.9690  \n",
       "...         ...  \n",
       "2414    44.8446  \n",
       "2415    37.0570  \n",
       "2416    22.4586  \n",
       "2417    12.4741  \n",
       "2418     0.0000  \n",
       "\n",
       "[2419 rows x 2419 columns]"
      ]
     },
     "execution_count": 20,
     "metadata": {},
     "output_type": "execute_result"
    }
   ],
   "source": [
    "df\n"
   ]
  },
  {
   "cell_type": "code",
   "execution_count": 24,
   "id": "e2e7a333",
   "metadata": {
    "execution": {
     "iopub.execute_input": "2023-08-22T15:23:53.753977Z",
     "iopub.status.busy": "2023-08-22T15:23:53.753219Z",
     "iopub.status.idle": "2023-08-22T15:23:53.859437Z",
     "shell.execute_reply": "2023-08-22T15:23:53.858468Z"
    },
    "papermill": {
     "duration": 0.133411,
     "end_time": "2023-08-22T15:23:53.861754",
     "exception": false,
     "start_time": "2023-08-22T15:23:53.728343",
     "status": "completed"
    },
    "tags": []
   },
   "outputs": [
    {
     "data": {
      "text/html": [
       "<div>\n",
       "<style scoped>\n",
       "    .dataframe tbody tr th:only-of-type {\n",
       "        vertical-align: middle;\n",
       "    }\n",
       "\n",
       "    .dataframe tbody tr th {\n",
       "        vertical-align: top;\n",
       "    }\n",
       "\n",
       "    .dataframe thead th {\n",
       "        text-align: right;\n",
       "    }\n",
       "</style>\n",
       "<table border=\"1\" class=\"dataframe\">\n",
       "  <thead>\n",
       "    <tr style=\"text-align: right;\">\n",
       "      <th></th>\n",
       "      <th>1</th>\n",
       "      <th>2</th>\n",
       "      <th>3</th>\n",
       "      <th>4</th>\n",
       "      <th>5</th>\n",
       "      <th>6</th>\n",
       "      <th>7</th>\n",
       "      <th>8</th>\n",
       "      <th>9</th>\n",
       "      <th>10</th>\n",
       "      <th>...</th>\n",
       "      <th>2409</th>\n",
       "      <th>2410</th>\n",
       "      <th>2411</th>\n",
       "      <th>2412</th>\n",
       "      <th>2413</th>\n",
       "      <th>2414</th>\n",
       "      <th>2415</th>\n",
       "      <th>2416</th>\n",
       "      <th>2417</th>\n",
       "      <th>2418</th>\n",
       "    </tr>\n",
       "  </thead>\n",
       "  <tbody>\n",
       "    <tr>\n",
       "      <th>1</th>\n",
       "      <td>0.0000</td>\n",
       "      <td>11.3769</td>\n",
       "      <td>20.4557</td>\n",
       "      <td>38.1227</td>\n",
       "      <td>45.3810</td>\n",
       "      <td>54.9915</td>\n",
       "      <td>78.6108</td>\n",
       "      <td>118.6750</td>\n",
       "      <td>102.6639</td>\n",
       "      <td>113.4309</td>\n",
       "      <td>...</td>\n",
       "      <td>683.8771</td>\n",
       "      <td>687.6310</td>\n",
       "      <td>697.3246</td>\n",
       "      <td>669.3962</td>\n",
       "      <td>667.6788</td>\n",
       "      <td>665.5775</td>\n",
       "      <td>662.0291</td>\n",
       "      <td>665.9655</td>\n",
       "      <td>673.2073</td>\n",
       "      <td>681.4235</td>\n",
       "    </tr>\n",
       "    <tr>\n",
       "      <th>2</th>\n",
       "      <td>11.3769</td>\n",
       "      <td>0.0000</td>\n",
       "      <td>9.0788</td>\n",
       "      <td>28.9141</td>\n",
       "      <td>36.1724</td>\n",
       "      <td>45.7829</td>\n",
       "      <td>69.4022</td>\n",
       "      <td>78.2329</td>\n",
       "      <td>93.4553</td>\n",
       "      <td>111.1832</td>\n",
       "      <td>...</td>\n",
       "      <td>681.6295</td>\n",
       "      <td>685.3833</td>\n",
       "      <td>695.0769</td>\n",
       "      <td>667.1485</td>\n",
       "      <td>665.4311</td>\n",
       "      <td>663.3298</td>\n",
       "      <td>659.7815</td>\n",
       "      <td>663.7178</td>\n",
       "      <td>670.9596</td>\n",
       "      <td>679.1758</td>\n",
       "    </tr>\n",
       "    <tr>\n",
       "      <th>3</th>\n",
       "      <td>20.4557</td>\n",
       "      <td>9.0788</td>\n",
       "      <td>0.0000</td>\n",
       "      <td>22.3791</td>\n",
       "      <td>29.6374</td>\n",
       "      <td>39.2478</td>\n",
       "      <td>62.8671</td>\n",
       "      <td>71.6979</td>\n",
       "      <td>86.9203</td>\n",
       "      <td>111.7859</td>\n",
       "      <td>...</td>\n",
       "      <td>682.2323</td>\n",
       "      <td>685.9861</td>\n",
       "      <td>695.6796</td>\n",
       "      <td>667.7513</td>\n",
       "      <td>666.0339</td>\n",
       "      <td>663.9326</td>\n",
       "      <td>660.3843</td>\n",
       "      <td>664.3206</td>\n",
       "      <td>671.5623</td>\n",
       "      <td>679.7786</td>\n",
       "    </tr>\n",
       "    <tr>\n",
       "      <th>4</th>\n",
       "      <td>38.1227</td>\n",
       "      <td>28.9141</td>\n",
       "      <td>22.3791</td>\n",
       "      <td>0.0000</td>\n",
       "      <td>11.8343</td>\n",
       "      <td>23.5413</td>\n",
       "      <td>41.8396</td>\n",
       "      <td>50.6703</td>\n",
       "      <td>65.8927</td>\n",
       "      <td>82.5852</td>\n",
       "      <td>...</td>\n",
       "      <td>681.4226</td>\n",
       "      <td>685.1765</td>\n",
       "      <td>694.8701</td>\n",
       "      <td>666.9417</td>\n",
       "      <td>665.2243</td>\n",
       "      <td>663.1230</td>\n",
       "      <td>659.5746</td>\n",
       "      <td>663.5110</td>\n",
       "      <td>670.7528</td>\n",
       "      <td>678.9690</td>\n",
       "    </tr>\n",
       "    <tr>\n",
       "      <th>5</th>\n",
       "      <td>45.3810</td>\n",
       "      <td>36.1724</td>\n",
       "      <td>29.6374</td>\n",
       "      <td>11.8343</td>\n",
       "      <td>0.0000</td>\n",
       "      <td>11.7070</td>\n",
       "      <td>24.3986</td>\n",
       "      <td>33.2293</td>\n",
       "      <td>53.9901</td>\n",
       "      <td>65.1442</td>\n",
       "      <td>...</td>\n",
       "      <td>663.9816</td>\n",
       "      <td>667.7355</td>\n",
       "      <td>677.4291</td>\n",
       "      <td>649.5007</td>\n",
       "      <td>647.7833</td>\n",
       "      <td>645.6820</td>\n",
       "      <td>642.1336</td>\n",
       "      <td>646.0700</td>\n",
       "      <td>653.3118</td>\n",
       "      <td>661.5280</td>\n",
       "    </tr>\n",
       "    <tr>\n",
       "      <th>...</th>\n",
       "      <td>...</td>\n",
       "      <td>...</td>\n",
       "      <td>...</td>\n",
       "      <td>...</td>\n",
       "      <td>...</td>\n",
       "      <td>...</td>\n",
       "      <td>...</td>\n",
       "      <td>...</td>\n",
       "      <td>...</td>\n",
       "      <td>...</td>\n",
       "      <td>...</td>\n",
       "      <td>...</td>\n",
       "      <td>...</td>\n",
       "      <td>...</td>\n",
       "      <td>...</td>\n",
       "      <td>...</td>\n",
       "      <td>...</td>\n",
       "      <td>...</td>\n",
       "      <td>...</td>\n",
       "      <td>...</td>\n",
       "      <td>...</td>\n",
       "    </tr>\n",
       "    <tr>\n",
       "      <th>2414</th>\n",
       "      <td>671.2005</td>\n",
       "      <td>668.9528</td>\n",
       "      <td>669.5556</td>\n",
       "      <td>669.9084</td>\n",
       "      <td>652.1102</td>\n",
       "      <td>640.4032</td>\n",
       "      <td>627.7116</td>\n",
       "      <td>622.9663</td>\n",
       "      <td>638.9532</td>\n",
       "      <td>617.7221</td>\n",
       "      <td>...</td>\n",
       "      <td>109.0007</td>\n",
       "      <td>112.7545</td>\n",
       "      <td>122.4481</td>\n",
       "      <td>12.3091</td>\n",
       "      <td>9.1558</td>\n",
       "      <td>0.0000</td>\n",
       "      <td>14.5629</td>\n",
       "      <td>22.3860</td>\n",
       "      <td>36.6284</td>\n",
       "      <td>44.8446</td>\n",
       "    </tr>\n",
       "    <tr>\n",
       "      <th>2415</th>\n",
       "      <td>663.4455</td>\n",
       "      <td>661.1978</td>\n",
       "      <td>661.8006</td>\n",
       "      <td>662.1534</td>\n",
       "      <td>644.3551</td>\n",
       "      <td>632.6481</td>\n",
       "      <td>619.9566</td>\n",
       "      <td>615.2112</td>\n",
       "      <td>631.1981</td>\n",
       "      <td>609.9671</td>\n",
       "      <td>...</td>\n",
       "      <td>101.2456</td>\n",
       "      <td>104.9995</td>\n",
       "      <td>114.6931</td>\n",
       "      <td>26.4955</td>\n",
       "      <td>23.3422</td>\n",
       "      <td>14.1864</td>\n",
       "      <td>0.0000</td>\n",
       "      <td>14.5984</td>\n",
       "      <td>28.8407</td>\n",
       "      <td>37.0570</td>\n",
       "    </tr>\n",
       "    <tr>\n",
       "      <th>2416</th>\n",
       "      <td>663.7748</td>\n",
       "      <td>661.5271</td>\n",
       "      <td>662.1298</td>\n",
       "      <td>662.4826</td>\n",
       "      <td>644.6844</td>\n",
       "      <td>632.9774</td>\n",
       "      <td>620.2859</td>\n",
       "      <td>615.5405</td>\n",
       "      <td>631.5274</td>\n",
       "      <td>610.2964</td>\n",
       "      <td>...</td>\n",
       "      <td>84.1469</td>\n",
       "      <td>87.9008</td>\n",
       "      <td>97.5943</td>\n",
       "      <td>34.3098</td>\n",
       "      <td>31.1565</td>\n",
       "      <td>22.0007</td>\n",
       "      <td>12.8105</td>\n",
       "      <td>0.0000</td>\n",
       "      <td>14.2423</td>\n",
       "      <td>22.4586</td>\n",
       "    </tr>\n",
       "    <tr>\n",
       "      <th>2417</th>\n",
       "      <td>671.0165</td>\n",
       "      <td>668.7688</td>\n",
       "      <td>669.3715</td>\n",
       "      <td>669.7244</td>\n",
       "      <td>651.9261</td>\n",
       "      <td>640.2191</td>\n",
       "      <td>627.5276</td>\n",
       "      <td>622.7822</td>\n",
       "      <td>638.7691</td>\n",
       "      <td>617.5381</td>\n",
       "      <td>...</td>\n",
       "      <td>91.3886</td>\n",
       "      <td>95.1425</td>\n",
       "      <td>104.8361</td>\n",
       "      <td>48.5521</td>\n",
       "      <td>45.3988</td>\n",
       "      <td>36.2430</td>\n",
       "      <td>27.0528</td>\n",
       "      <td>14.2423</td>\n",
       "      <td>0.0000</td>\n",
       "      <td>12.4741</td>\n",
       "    </tr>\n",
       "    <tr>\n",
       "      <th>2418</th>\n",
       "      <td>679.2328</td>\n",
       "      <td>676.9851</td>\n",
       "      <td>677.5878</td>\n",
       "      <td>677.9406</td>\n",
       "      <td>660.1424</td>\n",
       "      <td>648.4354</td>\n",
       "      <td>635.7439</td>\n",
       "      <td>630.9985</td>\n",
       "      <td>646.9854</td>\n",
       "      <td>625.7544</td>\n",
       "      <td>...</td>\n",
       "      <td>99.6049</td>\n",
       "      <td>103.3587</td>\n",
       "      <td>113.0523</td>\n",
       "      <td>56.7684</td>\n",
       "      <td>53.6151</td>\n",
       "      <td>44.4593</td>\n",
       "      <td>35.2691</td>\n",
       "      <td>22.4586</td>\n",
       "      <td>12.4741</td>\n",
       "      <td>0.0000</td>\n",
       "    </tr>\n",
       "  </tbody>\n",
       "</table>\n",
       "<p>2418 rows × 2418 columns</p>\n",
       "</div>"
      ],
      "text/plain": [
       "          1         2         3         4         5         6         7     \\\n",
       "1       0.0000   11.3769   20.4557   38.1227   45.3810   54.9915   78.6108   \n",
       "2      11.3769    0.0000    9.0788   28.9141   36.1724   45.7829   69.4022   \n",
       "3      20.4557    9.0788    0.0000   22.3791   29.6374   39.2478   62.8671   \n",
       "4      38.1227   28.9141   22.3791    0.0000   11.8343   23.5413   41.8396   \n",
       "5      45.3810   36.1724   29.6374   11.8343    0.0000   11.7070   24.3986   \n",
       "...        ...       ...       ...       ...       ...       ...       ...   \n",
       "2414  671.2005  668.9528  669.5556  669.9084  652.1102  640.4032  627.7116   \n",
       "2415  663.4455  661.1978  661.8006  662.1534  644.3551  632.6481  619.9566   \n",
       "2416  663.7748  661.5271  662.1298  662.4826  644.6844  632.9774  620.2859   \n",
       "2417  671.0165  668.7688  669.3715  669.7244  651.9261  640.2191  627.5276   \n",
       "2418  679.2328  676.9851  677.5878  677.9406  660.1424  648.4354  635.7439   \n",
       "\n",
       "          8         9         10    ...      2409      2410      2411  \\\n",
       "1     118.6750  102.6639  113.4309  ...  683.8771  687.6310  697.3246   \n",
       "2      78.2329   93.4553  111.1832  ...  681.6295  685.3833  695.0769   \n",
       "3      71.6979   86.9203  111.7859  ...  682.2323  685.9861  695.6796   \n",
       "4      50.6703   65.8927   82.5852  ...  681.4226  685.1765  694.8701   \n",
       "5      33.2293   53.9901   65.1442  ...  663.9816  667.7355  677.4291   \n",
       "...        ...       ...       ...  ...       ...       ...       ...   \n",
       "2414  622.9663  638.9532  617.7221  ...  109.0007  112.7545  122.4481   \n",
       "2415  615.2112  631.1981  609.9671  ...  101.2456  104.9995  114.6931   \n",
       "2416  615.5405  631.5274  610.2964  ...   84.1469   87.9008   97.5943   \n",
       "2417  622.7822  638.7691  617.5381  ...   91.3886   95.1425  104.8361   \n",
       "2418  630.9985  646.9854  625.7544  ...   99.6049  103.3587  113.0523   \n",
       "\n",
       "          2412      2413      2414      2415      2416      2417      2418  \n",
       "1     669.3962  667.6788  665.5775  662.0291  665.9655  673.2073  681.4235  \n",
       "2     667.1485  665.4311  663.3298  659.7815  663.7178  670.9596  679.1758  \n",
       "3     667.7513  666.0339  663.9326  660.3843  664.3206  671.5623  679.7786  \n",
       "4     666.9417  665.2243  663.1230  659.5746  663.5110  670.7528  678.9690  \n",
       "5     649.5007  647.7833  645.6820  642.1336  646.0700  653.3118  661.5280  \n",
       "...        ...       ...       ...       ...       ...       ...       ...  \n",
       "2414   12.3091    9.1558    0.0000   14.5629   22.3860   36.6284   44.8446  \n",
       "2415   26.4955   23.3422   14.1864    0.0000   14.5984   28.8407   37.0570  \n",
       "2416   34.3098   31.1565   22.0007   12.8105    0.0000   14.2423   22.4586  \n",
       "2417   48.5521   45.3988   36.2430   27.0528   14.2423    0.0000   12.4741  \n",
       "2418   56.7684   53.6151   44.4593   35.2691   22.4586   12.4741    0.0000  \n",
       "\n",
       "[2418 rows x 2418 columns]"
      ]
     },
     "execution_count": 24,
     "metadata": {},
     "output_type": "execute_result"
    }
   ],
   "source": [
    "# Drop a row by index\n",
    "index_to_drop = 0\n",
    "df_dropped = df.drop(index_to_drop)\n",
    "# Drop a column by label\n",
    "column_to_drop = 0\n",
    "df_dropped = df_dropped.drop(columns=column_to_drop)\n",
    "df_dropped"
   ]
  },
  {
   "cell_type": "code",
   "execution_count": 25,
   "id": "b76a9930",
   "metadata": {
    "execution": {
     "iopub.execute_input": "2023-08-22T15:23:53.913404Z",
     "iopub.status.busy": "2023-08-22T15:23:53.912148Z",
     "iopub.status.idle": "2023-08-22T15:23:53.919785Z",
     "shell.execute_reply": "2023-08-22T15:23:53.918336Z"
    },
    "papermill": {
     "duration": 0.036633,
     "end_time": "2023-08-22T15:23:53.922672",
     "exception": false,
     "start_time": "2023-08-22T15:23:53.886039",
     "status": "completed"
    },
    "tags": []
   },
   "outputs": [
    {
     "data": {
      "text/plain": [
       "2418"
      ]
     },
     "execution_count": 25,
     "metadata": {},
     "output_type": "execute_result"
    }
   ],
   "source": [
    "Dist= df_dropped\n",
    "len(Dist)"
   ]
  },
  {
   "cell_type": "code",
   "execution_count": 26,
   "id": "8f842211",
   "metadata": {
    "execution": {
     "iopub.execute_input": "2023-08-22T15:23:53.978071Z",
     "iopub.status.busy": "2023-08-22T15:23:53.977230Z",
     "iopub.status.idle": "2023-08-22T15:23:54.018669Z",
     "shell.execute_reply": "2023-08-22T15:23:54.017484Z"
    },
    "papermill": {
     "duration": 0.07324,
     "end_time": "2023-08-22T15:23:54.021427",
     "exception": false,
     "start_time": "2023-08-22T15:23:53.948187",
     "status": "completed"
    },
    "tags": []
   },
   "outputs": [
    {
     "data": {
      "text/html": [
       "<div>\n",
       "<style scoped>\n",
       "    .dataframe tbody tr th:only-of-type {\n",
       "        vertical-align: middle;\n",
       "    }\n",
       "\n",
       "    .dataframe tbody tr th {\n",
       "        vertical-align: top;\n",
       "    }\n",
       "\n",
       "    .dataframe thead th {\n",
       "        text-align: right;\n",
       "    }\n",
       "</style>\n",
       "<table border=\"1\" class=\"dataframe\">\n",
       "  <thead>\n",
       "    <tr style=\"text-align: right;\">\n",
       "      <th></th>\n",
       "      <th>1</th>\n",
       "      <th>2</th>\n",
       "      <th>3</th>\n",
       "      <th>4</th>\n",
       "      <th>5</th>\n",
       "      <th>6</th>\n",
       "      <th>7</th>\n",
       "      <th>8</th>\n",
       "      <th>9</th>\n",
       "      <th>10</th>\n",
       "      <th>...</th>\n",
       "      <th>2409</th>\n",
       "      <th>2410</th>\n",
       "      <th>2411</th>\n",
       "      <th>2412</th>\n",
       "      <th>2413</th>\n",
       "      <th>2414</th>\n",
       "      <th>2415</th>\n",
       "      <th>2416</th>\n",
       "      <th>2417</th>\n",
       "      <th>2418</th>\n",
       "    </tr>\n",
       "  </thead>\n",
       "  <tbody>\n",
       "    <tr>\n",
       "      <th>1</th>\n",
       "      <td>0.0000</td>\n",
       "      <td>11.3769</td>\n",
       "      <td>20.4557</td>\n",
       "      <td>38.1227</td>\n",
       "      <td>45.3810</td>\n",
       "      <td>54.9915</td>\n",
       "      <td>78.6108</td>\n",
       "      <td>118.6750</td>\n",
       "      <td>102.6639</td>\n",
       "      <td>113.4309</td>\n",
       "      <td>...</td>\n",
       "      <td>683.8771</td>\n",
       "      <td>687.6310</td>\n",
       "      <td>697.3246</td>\n",
       "      <td>669.3962</td>\n",
       "      <td>667.6788</td>\n",
       "      <td>665.5775</td>\n",
       "      <td>662.0291</td>\n",
       "      <td>665.9655</td>\n",
       "      <td>673.2073</td>\n",
       "      <td>681.4235</td>\n",
       "    </tr>\n",
       "    <tr>\n",
       "      <th>2</th>\n",
       "      <td>11.3769</td>\n",
       "      <td>0.0000</td>\n",
       "      <td>9.0788</td>\n",
       "      <td>28.9141</td>\n",
       "      <td>36.1724</td>\n",
       "      <td>45.7829</td>\n",
       "      <td>69.4022</td>\n",
       "      <td>78.2329</td>\n",
       "      <td>93.4553</td>\n",
       "      <td>111.1832</td>\n",
       "      <td>...</td>\n",
       "      <td>681.6295</td>\n",
       "      <td>685.3833</td>\n",
       "      <td>695.0769</td>\n",
       "      <td>667.1485</td>\n",
       "      <td>665.4311</td>\n",
       "      <td>663.3298</td>\n",
       "      <td>659.7815</td>\n",
       "      <td>663.7178</td>\n",
       "      <td>670.9596</td>\n",
       "      <td>679.1758</td>\n",
       "    </tr>\n",
       "    <tr>\n",
       "      <th>3</th>\n",
       "      <td>20.4557</td>\n",
       "      <td>9.0788</td>\n",
       "      <td>0.0000</td>\n",
       "      <td>22.3791</td>\n",
       "      <td>29.6374</td>\n",
       "      <td>39.2478</td>\n",
       "      <td>62.8671</td>\n",
       "      <td>71.6979</td>\n",
       "      <td>86.9203</td>\n",
       "      <td>111.7859</td>\n",
       "      <td>...</td>\n",
       "      <td>682.2323</td>\n",
       "      <td>685.9861</td>\n",
       "      <td>695.6796</td>\n",
       "      <td>667.7513</td>\n",
       "      <td>666.0339</td>\n",
       "      <td>663.9326</td>\n",
       "      <td>660.3843</td>\n",
       "      <td>664.3206</td>\n",
       "      <td>671.5623</td>\n",
       "      <td>679.7786</td>\n",
       "    </tr>\n",
       "    <tr>\n",
       "      <th>4</th>\n",
       "      <td>38.1227</td>\n",
       "      <td>28.9141</td>\n",
       "      <td>22.3791</td>\n",
       "      <td>0.0000</td>\n",
       "      <td>11.8343</td>\n",
       "      <td>23.5413</td>\n",
       "      <td>41.8396</td>\n",
       "      <td>50.6703</td>\n",
       "      <td>65.8927</td>\n",
       "      <td>82.5852</td>\n",
       "      <td>...</td>\n",
       "      <td>681.4226</td>\n",
       "      <td>685.1765</td>\n",
       "      <td>694.8701</td>\n",
       "      <td>666.9417</td>\n",
       "      <td>665.2243</td>\n",
       "      <td>663.1230</td>\n",
       "      <td>659.5746</td>\n",
       "      <td>663.5110</td>\n",
       "      <td>670.7528</td>\n",
       "      <td>678.9690</td>\n",
       "    </tr>\n",
       "    <tr>\n",
       "      <th>5</th>\n",
       "      <td>45.3810</td>\n",
       "      <td>36.1724</td>\n",
       "      <td>29.6374</td>\n",
       "      <td>11.8343</td>\n",
       "      <td>0.0000</td>\n",
       "      <td>11.7070</td>\n",
       "      <td>24.3986</td>\n",
       "      <td>33.2293</td>\n",
       "      <td>53.9901</td>\n",
       "      <td>65.1442</td>\n",
       "      <td>...</td>\n",
       "      <td>663.9816</td>\n",
       "      <td>667.7355</td>\n",
       "      <td>677.4291</td>\n",
       "      <td>649.5007</td>\n",
       "      <td>647.7833</td>\n",
       "      <td>645.6820</td>\n",
       "      <td>642.1336</td>\n",
       "      <td>646.0700</td>\n",
       "      <td>653.3118</td>\n",
       "      <td>661.5280</td>\n",
       "    </tr>\n",
       "    <tr>\n",
       "      <th>...</th>\n",
       "      <td>...</td>\n",
       "      <td>...</td>\n",
       "      <td>...</td>\n",
       "      <td>...</td>\n",
       "      <td>...</td>\n",
       "      <td>...</td>\n",
       "      <td>...</td>\n",
       "      <td>...</td>\n",
       "      <td>...</td>\n",
       "      <td>...</td>\n",
       "      <td>...</td>\n",
       "      <td>...</td>\n",
       "      <td>...</td>\n",
       "      <td>...</td>\n",
       "      <td>...</td>\n",
       "      <td>...</td>\n",
       "      <td>...</td>\n",
       "      <td>...</td>\n",
       "      <td>...</td>\n",
       "      <td>...</td>\n",
       "      <td>...</td>\n",
       "    </tr>\n",
       "    <tr>\n",
       "      <th>2414</th>\n",
       "      <td>671.2005</td>\n",
       "      <td>668.9528</td>\n",
       "      <td>669.5556</td>\n",
       "      <td>669.9084</td>\n",
       "      <td>652.1102</td>\n",
       "      <td>640.4032</td>\n",
       "      <td>627.7116</td>\n",
       "      <td>622.9663</td>\n",
       "      <td>638.9532</td>\n",
       "      <td>617.7221</td>\n",
       "      <td>...</td>\n",
       "      <td>109.0007</td>\n",
       "      <td>112.7545</td>\n",
       "      <td>122.4481</td>\n",
       "      <td>12.3091</td>\n",
       "      <td>9.1558</td>\n",
       "      <td>0.0000</td>\n",
       "      <td>14.5629</td>\n",
       "      <td>22.3860</td>\n",
       "      <td>36.6284</td>\n",
       "      <td>44.8446</td>\n",
       "    </tr>\n",
       "    <tr>\n",
       "      <th>2415</th>\n",
       "      <td>663.4455</td>\n",
       "      <td>661.1978</td>\n",
       "      <td>661.8006</td>\n",
       "      <td>662.1534</td>\n",
       "      <td>644.3551</td>\n",
       "      <td>632.6481</td>\n",
       "      <td>619.9566</td>\n",
       "      <td>615.2112</td>\n",
       "      <td>631.1981</td>\n",
       "      <td>609.9671</td>\n",
       "      <td>...</td>\n",
       "      <td>101.2456</td>\n",
       "      <td>104.9995</td>\n",
       "      <td>114.6931</td>\n",
       "      <td>26.4955</td>\n",
       "      <td>23.3422</td>\n",
       "      <td>14.1864</td>\n",
       "      <td>0.0000</td>\n",
       "      <td>14.5984</td>\n",
       "      <td>28.8407</td>\n",
       "      <td>37.0570</td>\n",
       "    </tr>\n",
       "    <tr>\n",
       "      <th>2416</th>\n",
       "      <td>663.7748</td>\n",
       "      <td>661.5271</td>\n",
       "      <td>662.1298</td>\n",
       "      <td>662.4826</td>\n",
       "      <td>644.6844</td>\n",
       "      <td>632.9774</td>\n",
       "      <td>620.2859</td>\n",
       "      <td>615.5405</td>\n",
       "      <td>631.5274</td>\n",
       "      <td>610.2964</td>\n",
       "      <td>...</td>\n",
       "      <td>84.1469</td>\n",
       "      <td>87.9008</td>\n",
       "      <td>97.5943</td>\n",
       "      <td>34.3098</td>\n",
       "      <td>31.1565</td>\n",
       "      <td>22.0007</td>\n",
       "      <td>12.8105</td>\n",
       "      <td>0.0000</td>\n",
       "      <td>14.2423</td>\n",
       "      <td>22.4586</td>\n",
       "    </tr>\n",
       "    <tr>\n",
       "      <th>2417</th>\n",
       "      <td>671.0165</td>\n",
       "      <td>668.7688</td>\n",
       "      <td>669.3715</td>\n",
       "      <td>669.7244</td>\n",
       "      <td>651.9261</td>\n",
       "      <td>640.2191</td>\n",
       "      <td>627.5276</td>\n",
       "      <td>622.7822</td>\n",
       "      <td>638.7691</td>\n",
       "      <td>617.5381</td>\n",
       "      <td>...</td>\n",
       "      <td>91.3886</td>\n",
       "      <td>95.1425</td>\n",
       "      <td>104.8361</td>\n",
       "      <td>48.5521</td>\n",
       "      <td>45.3988</td>\n",
       "      <td>36.2430</td>\n",
       "      <td>27.0528</td>\n",
       "      <td>14.2423</td>\n",
       "      <td>0.0000</td>\n",
       "      <td>12.4741</td>\n",
       "    </tr>\n",
       "    <tr>\n",
       "      <th>2418</th>\n",
       "      <td>679.2328</td>\n",
       "      <td>676.9851</td>\n",
       "      <td>677.5878</td>\n",
       "      <td>677.9406</td>\n",
       "      <td>660.1424</td>\n",
       "      <td>648.4354</td>\n",
       "      <td>635.7439</td>\n",
       "      <td>630.9985</td>\n",
       "      <td>646.9854</td>\n",
       "      <td>625.7544</td>\n",
       "      <td>...</td>\n",
       "      <td>99.6049</td>\n",
       "      <td>103.3587</td>\n",
       "      <td>113.0523</td>\n",
       "      <td>56.7684</td>\n",
       "      <td>53.6151</td>\n",
       "      <td>44.4593</td>\n",
       "      <td>35.2691</td>\n",
       "      <td>22.4586</td>\n",
       "      <td>12.4741</td>\n",
       "      <td>0.0000</td>\n",
       "    </tr>\n",
       "  </tbody>\n",
       "</table>\n",
       "<p>2418 rows × 2418 columns</p>\n",
       "</div>"
      ],
      "text/plain": [
       "          1         2         3         4         5         6         7     \\\n",
       "1       0.0000   11.3769   20.4557   38.1227   45.3810   54.9915   78.6108   \n",
       "2      11.3769    0.0000    9.0788   28.9141   36.1724   45.7829   69.4022   \n",
       "3      20.4557    9.0788    0.0000   22.3791   29.6374   39.2478   62.8671   \n",
       "4      38.1227   28.9141   22.3791    0.0000   11.8343   23.5413   41.8396   \n",
       "5      45.3810   36.1724   29.6374   11.8343    0.0000   11.7070   24.3986   \n",
       "...        ...       ...       ...       ...       ...       ...       ...   \n",
       "2414  671.2005  668.9528  669.5556  669.9084  652.1102  640.4032  627.7116   \n",
       "2415  663.4455  661.1978  661.8006  662.1534  644.3551  632.6481  619.9566   \n",
       "2416  663.7748  661.5271  662.1298  662.4826  644.6844  632.9774  620.2859   \n",
       "2417  671.0165  668.7688  669.3715  669.7244  651.9261  640.2191  627.5276   \n",
       "2418  679.2328  676.9851  677.5878  677.9406  660.1424  648.4354  635.7439   \n",
       "\n",
       "          8         9         10    ...      2409      2410      2411  \\\n",
       "1     118.6750  102.6639  113.4309  ...  683.8771  687.6310  697.3246   \n",
       "2      78.2329   93.4553  111.1832  ...  681.6295  685.3833  695.0769   \n",
       "3      71.6979   86.9203  111.7859  ...  682.2323  685.9861  695.6796   \n",
       "4      50.6703   65.8927   82.5852  ...  681.4226  685.1765  694.8701   \n",
       "5      33.2293   53.9901   65.1442  ...  663.9816  667.7355  677.4291   \n",
       "...        ...       ...       ...  ...       ...       ...       ...   \n",
       "2414  622.9663  638.9532  617.7221  ...  109.0007  112.7545  122.4481   \n",
       "2415  615.2112  631.1981  609.9671  ...  101.2456  104.9995  114.6931   \n",
       "2416  615.5405  631.5274  610.2964  ...   84.1469   87.9008   97.5943   \n",
       "2417  622.7822  638.7691  617.5381  ...   91.3886   95.1425  104.8361   \n",
       "2418  630.9985  646.9854  625.7544  ...   99.6049  103.3587  113.0523   \n",
       "\n",
       "          2412      2413      2414      2415      2416      2417      2418  \n",
       "1     669.3962  667.6788  665.5775  662.0291  665.9655  673.2073  681.4235  \n",
       "2     667.1485  665.4311  663.3298  659.7815  663.7178  670.9596  679.1758  \n",
       "3     667.7513  666.0339  663.9326  660.3843  664.3206  671.5623  679.7786  \n",
       "4     666.9417  665.2243  663.1230  659.5746  663.5110  670.7528  678.9690  \n",
       "5     649.5007  647.7833  645.6820  642.1336  646.0700  653.3118  661.5280  \n",
       "...        ...       ...       ...       ...       ...       ...       ...  \n",
       "2414   12.3091    9.1558    0.0000   14.5629   22.3860   36.6284   44.8446  \n",
       "2415   26.4955   23.3422   14.1864    0.0000   14.5984   28.8407   37.0570  \n",
       "2416   34.3098   31.1565   22.0007   12.8105    0.0000   14.2423   22.4586  \n",
       "2417   48.5521   45.3988   36.2430   27.0528   14.2423    0.0000   12.4741  \n",
       "2418   56.7684   53.6151   44.4593   35.2691   22.4586   12.4741    0.0000  \n",
       "\n",
       "[2418 rows x 2418 columns]"
      ]
     },
     "execution_count": 26,
     "metadata": {},
     "output_type": "execute_result"
    }
   ],
   "source": [
    "Dist"
   ]
  },
  {
   "cell_type": "code",
   "execution_count": 27,
   "id": "884d598b",
   "metadata": {
    "execution": {
     "iopub.execute_input": "2023-08-22T15:23:54.075720Z",
     "iopub.status.busy": "2023-08-22T15:23:54.074982Z",
     "iopub.status.idle": "2023-08-22T15:23:54.082902Z",
     "shell.execute_reply": "2023-08-22T15:23:54.081687Z"
    },
    "papermill": {
     "duration": 0.038552,
     "end_time": "2023-08-22T15:23:54.085629",
     "exception": false,
     "start_time": "2023-08-22T15:23:54.047077",
     "status": "completed"
    },
    "tags": []
   },
   "outputs": [
    {
     "data": {
      "text/plain": [
       "118.675"
      ]
     },
     "execution_count": 27,
     "metadata": {},
     "output_type": "execute_result"
    }
   ],
   "source": [
    "Dist[8][1]"
   ]
  },
  {
   "cell_type": "code",
   "execution_count": 28,
   "id": "82a04618",
   "metadata": {
    "execution": {
     "iopub.execute_input": "2023-08-22T15:23:54.140134Z",
     "iopub.status.busy": "2023-08-22T15:23:54.139716Z",
     "iopub.status.idle": "2023-08-22T15:23:54.146274Z",
     "shell.execute_reply": "2023-08-22T15:23:54.144917Z"
    },
    "papermill": {
     "duration": 0.036523,
     "end_time": "2023-08-22T15:23:54.148940",
     "exception": false,
     "start_time": "2023-08-22T15:23:54.112417",
     "status": "completed"
    },
    "tags": []
   },
   "outputs": [],
   "source": [
    "scale=1\n",
    "\n",
    "num_harvesting_sites =len(Dist)\n",
    "num_depots =len(Dist)\n",
    "num_biorefs =len(Dist)\n",
    "\n",
    "Harvesting_Site = range(num_harvesting_sites)\n",
    "Depot = range(num_depots)\n",
    "Refinery = range(num_biorefs)\n",
    "\n",
    "ref_capacity=scale*100000\n",
    "depot_capacity=scale*20000"
   ]
  },
  {
   "cell_type": "code",
   "execution_count": 29,
   "id": "93950160",
   "metadata": {},
   "outputs": [
    {
     "data": {
      "text/plain": [
       "0         5.180296\n",
       "1        42.126945\n",
       "2        73.203232\n",
       "3       101.067352\n",
       "4        26.086885\n",
       "           ...    \n",
       "2413      5.321604\n",
       "2414      0.120626\n",
       "2415      0.038879\n",
       "2416      1.304297\n",
       "2417      0.226953\n",
       "Name: 2017, Length: 2418, dtype: float64"
      ]
     },
     "execution_count": 29,
     "metadata": {},
     "output_type": "execute_result"
    }
   ],
   "source": [
    "Biomass_history['2017']"
   ]
  },
  {
   "cell_type": "code",
   "execution_count": 30,
   "id": "7539d475",
   "metadata": {},
   "outputs": [],
   "source": [
    "forcast = pd.read_excel('../../outputs/Forecast_Output_v1.xlsx')"
   ]
  },
  {
   "cell_type": "code",
   "execution_count": 33,
   "id": "7102840f",
   "metadata": {},
   "outputs": [
    {
     "data": {
      "text/plain": [
       "0        7.512659\n",
       "1       31.925155\n",
       "2       57.758351\n",
       "3       77.864698\n",
       "4       19.305664\n",
       "          ...    \n",
       "2413     5.121994\n",
       "2414     0.123669\n",
       "2415     0.039860\n",
       "2416     1.611899\n",
       "2417     0.309594\n",
       "Name: 2019, Length: 2418, dtype: float64"
      ]
     },
     "execution_count": 33,
     "metadata": {},
     "output_type": "execute_result"
    }
   ],
   "source": [
    "forcast['2019']"
   ]
  },
  {
   "cell_type": "code",
   "execution_count": 34,
   "id": "452c900f",
   "metadata": {
    "execution": {
     "iopub.execute_input": "2023-08-22T15:23:54.205717Z",
     "iopub.status.busy": "2023-08-22T15:23:54.205215Z",
     "iopub.status.idle": "2023-08-22T15:23:54.215052Z",
     "shell.execute_reply": "2023-08-22T15:23:54.213724Z"
    },
    "papermill": {
     "duration": 0.041792,
     "end_time": "2023-08-22T15:23:54.217829",
     "exception": false,
     "start_time": "2023-08-22T15:23:54.176037",
     "status": "completed"
    },
    "tags": []
   },
   "outputs": [
    {
     "data": {
      "text/plain": [
       "342729.6592616516"
      ]
     },
     "execution_count": 34,
     "metadata": {},
     "output_type": "execute_result"
    }
   ],
   "source": [
    "scale=1  \n",
    "### scaling will be required to get more accurate results as optimization model does not consider floating numbers\n",
    "\n",
    "# forecasted_biomass = Biomass_history['2017']\n",
    "forecasted_biomass = forcast['2019']\n",
    "forecasted_biomass_scaled = scale*forecasted_biomass\n",
    "\n",
    "\n",
    "total_forecasted_biomass_scaled=sum(forecasted_biomass_scaled)\n",
    "total_forecasted_biomass_scaled"
   ]
  },
  {
   "cell_type": "code",
   "execution_count": 35,
   "id": "54ba2a27",
   "metadata": {
    "execution": {
     "iopub.execute_input": "2023-08-22T15:23:54.272834Z",
     "iopub.status.busy": "2023-08-22T15:23:54.272376Z",
     "iopub.status.idle": "2023-08-22T15:25:02.979085Z",
     "shell.execute_reply": "2023-08-22T15:25:02.977703Z"
    },
    "papermill": {
     "duration": 68.737671,
     "end_time": "2023-08-22T15:25:02.982298",
     "exception": false,
     "start_time": "2023-08-22T15:23:54.244627",
     "status": "completed"
    },
    "tags": []
   },
   "outputs": [],
   "source": [
    "PC=[[] for i1  in Harvesting_Site]     #### Adjacency list for graph\n",
    "IPC = [[] for i1  in Harvesting_Site]\n",
    "for i1  in Harvesting_Site:\n",
    "    for i2  in Harvesting_Site:\n",
    "        if i1!=i2:\n",
    "            if Dist[i1+1][i2+1]<=50:\n",
    "                if Dist[i2+1][i1+1]<=50:\n",
    "                    PC[i1].append(i2)  \n",
    "                    IPC[i2].append(i1)"
   ]
  },
  {
   "cell_type": "code",
   "execution_count": 36,
   "id": "3daaa8bd",
   "metadata": {
    "execution": {
     "iopub.execute_input": "2023-08-22T15:25:03.041145Z",
     "iopub.status.busy": "2023-08-22T15:25:03.039389Z",
     "iopub.status.idle": "2023-08-22T15:25:03.690194Z",
     "shell.execute_reply": "2023-08-22T15:25:03.688795Z"
    },
    "papermill": {
     "duration": 0.682222,
     "end_time": "2023-08-22T15:25:03.693276",
     "exception": false,
     "start_time": "2023-08-22T15:25:03.011054",
     "status": "completed"
    },
    "tags": []
   },
   "outputs": [
    {
     "data": {
      "text/plain": [
       "(25784.354286724916, 6.77145534224219)"
      ]
     },
     "execution_count": 36,
     "metadata": {},
     "output_type": "execute_result"
    }
   ],
   "source": [
    "wt=[[] for i1  in Harvesting_Site ]\n",
    "for i1  in Harvesting_Site:\n",
    "    wt[i1]= (forecasted_biomass_scaled[i1])\n",
    "    for i2 in PC[i1]:\n",
    "        wt[i1]=wt[i1]+  forecasted_biomass_scaled[i2]      \n",
    "max(wt),min(wt)"
   ]
  },
  {
   "cell_type": "code",
   "execution_count": 37,
   "id": "49e34cf5",
   "metadata": {
    "execution": {
     "iopub.execute_input": "2023-08-22T15:25:03.749157Z",
     "iopub.status.busy": "2023-08-22T15:25:03.748662Z",
     "iopub.status.idle": "2023-08-22T15:25:05.274253Z",
     "shell.execute_reply": "2023-08-22T15:25:05.272859Z"
    },
    "papermill": {
     "duration": 1.55684,
     "end_time": "2023-08-22T15:25:05.277408",
     "exception": false,
     "start_time": "2023-08-22T15:25:03.720568",
     "status": "completed"
    },
    "tags": []
   },
   "outputs": [],
   "source": [
    "model = cp_model.CpModel()\n",
    "\n",
    "x = {}\n",
    "y=  {}\n",
    "bio={}\n",
    "excess={}\n",
    "\n",
    "for i  in Harvesting_Site:\n",
    "    bio[i]= model.NewIntVar(0,99999999,'') \n",
    "    excess[i]= model.NewIntVar(0,99999999,'') \n",
    "    for j in PC[i]:\n",
    "        x[i,j] = model.NewIntVar(0,1,'') \n",
    "    #y[i] = model.NewIntVar(0,1,'')\n",
    "        \n",
    "        \n",
    "obj= model.NewIntVar(0,9999999999,'') "
   ]
  },
  {
   "cell_type": "code",
   "execution_count": 38,
   "id": "71877e20",
   "metadata": {
    "execution": {
     "iopub.execute_input": "2023-08-22T15:25:05.330814Z",
     "iopub.status.busy": "2023-08-22T15:25:05.330035Z",
     "iopub.status.idle": "2023-08-22T15:25:10.673372Z",
     "shell.execute_reply": "2023-08-22T15:25:10.671895Z"
    },
    "papermill": {
     "duration": 5.373568,
     "end_time": "2023-08-22T15:25:10.676704",
     "exception": false,
     "start_time": "2023-08-22T15:25:05.303136",
     "status": "completed"
    },
    "tags": []
   },
   "outputs": [],
   "source": [
    "for i  in Harvesting_Site: \n",
    "    for j in PC[i]:\n",
    "            model.Add(x[i,j]+x[j,i]<=1) "
   ]
  },
  {
   "cell_type": "code",
   "execution_count": 39,
   "id": "28ad4f74",
   "metadata": {
    "execution": {
     "iopub.execute_input": "2023-08-22T15:25:10.734463Z",
     "iopub.status.busy": "2023-08-22T15:25:10.734028Z",
     "iopub.status.idle": "2023-08-22T15:26:30.927318Z",
     "shell.execute_reply": "2023-08-22T15:26:30.925695Z"
    },
    "papermill": {
     "duration": 80.226941,
     "end_time": "2023-08-22T15:26:30.930428",
     "exception": false,
     "start_time": "2023-08-22T15:25:10.703487",
     "status": "completed"
    },
    "tags": []
   },
   "outputs": [],
   "source": [
    "for i  in Harvesting_Site: \n",
    "    for j in PC[i]:\n",
    "        model.Add(sum([x[j,k] for k in PC[j]])==0).OnlyEnforceIf(x[i,j])"
   ]
  },
  {
   "cell_type": "code",
   "execution_count": 40,
   "id": "3f04002e",
   "metadata": {
    "execution": {
     "iopub.execute_input": "2023-08-22T15:26:30.984028Z",
     "iopub.status.busy": "2023-08-22T15:26:30.983537Z",
     "iopub.status.idle": "2023-08-22T15:26:32.780659Z",
     "shell.execute_reply": "2023-08-22T15:26:32.779232Z"
    },
    "papermill": {
     "duration": 1.827691,
     "end_time": "2023-08-22T15:26:32.783905",
     "exception": false,
     "start_time": "2023-08-22T15:26:30.956214",
     "status": "completed"
    },
    "tags": []
   },
   "outputs": [],
   "source": [
    "for i  in Harvesting_Site:\n",
    "    model.Add(sum([x[i,j] for j in IPC[i] ])<=1)"
   ]
  },
  {
   "cell_type": "code",
   "execution_count": 41,
   "id": "624a4dad",
   "metadata": {
    "execution": {
     "iopub.execute_input": "2023-08-22T15:26:32.837046Z",
     "iopub.status.busy": "2023-08-22T15:26:32.836651Z",
     "iopub.status.idle": "2023-08-22T15:26:36.658837Z",
     "shell.execute_reply": "2023-08-22T15:26:36.657513Z"
    },
    "papermill": {
     "duration": 3.852752,
     "end_time": "2023-08-22T15:26:36.662117",
     "exception": false,
     "start_time": "2023-08-22T15:26:32.809365",
     "status": "completed"
    },
    "tags": []
   },
   "outputs": [],
   "source": [
    "for i in Harvesting_Site:\n",
    "    model.Add(bio[i]==sum([int(forecasted_biomass_scaled[j])*x[i,j] for j in PC[i]])+int(forecasted_biomass_scaled[i]))\n",
    "    model.Add(bio[i]<=(depot_capacity))\n",
    "    #model.Add(excess[i]==depot_capacity-bio[i])"
   ]
  },
  {
   "cell_type": "code",
   "execution_count": 42,
   "id": "fc9b4376",
   "metadata": {
    "execution": {
     "iopub.execute_input": "2023-08-22T15:26:36.717877Z",
     "iopub.status.busy": "2023-08-22T15:26:36.717435Z",
     "iopub.status.idle": "2023-08-22T15:26:38.793898Z",
     "shell.execute_reply": "2023-08-22T15:26:38.792642Z"
    },
    "papermill": {
     "duration": 2.107013,
     "end_time": "2023-08-22T15:26:38.796775",
     "exception": false,
     "start_time": "2023-08-22T15:26:36.689762",
     "status": "completed"
    },
    "tags": []
   },
   "outputs": [
    {
     "data": {
      "text/plain": [
       "<ortools.sat.python.cp_model.Constraint at 0x21cb43e67c8>"
      ]
     },
     "execution_count": 42,
     "metadata": {},
     "output_type": "execute_result"
    }
   ],
   "source": [
    "# for i  in Harvesting_Site: \n",
    "#     for j in PC[i]:\n",
    "#         model.Add(x[i,j]<=y[i])\n",
    "#model.Add(obj==sum([excess[j] for j in Harvesting_Site  ]))\n",
    "model.Add(obj==sum([x[i,j] for i in Harvesting_Site  for j in PC[i]]))"
   ]
  },
  {
   "cell_type": "code",
   "execution_count": 43,
   "id": "a3449744",
   "metadata": {
    "execution": {
     "iopub.execute_input": "2023-08-22T15:26:38.850626Z",
     "iopub.status.busy": "2023-08-22T15:26:38.850138Z",
     "iopub.status.idle": "2023-08-22T15:35:12.032818Z",
     "shell.execute_reply": "2023-08-22T15:35:12.031503Z"
    },
    "papermill": {
     "duration": 513.212596,
     "end_time": "2023-08-22T15:35:12.035517",
     "exception": false,
     "start_time": "2023-08-22T15:26:38.822921",
     "status": "completed"
    },
    "tags": []
   },
   "outputs": [
    {
     "name": "stdout",
     "output_type": "stream",
     "text": [
      "\n",
      "FEASIBLE\n",
      "Time = 566.3577068 seconds\n"
     ]
    }
   ],
   "source": [
    "model.Maximize(obj)\n",
    "import time\n",
    "start_time_cp = time.perf_counter()\n",
    "print()   \n",
    "#db = model.NewSearchPhase(s, cp_model.INT_VAR_SIMPLE, cp_model.INT_VALUE_SIMPLE_ORDERED)\n",
    "solver = cp_model.CpSolver()\n",
    "solver.parameters.max_time_in_seconds = 500\n",
    "solver.parameters.num_search_workers = 8\n",
    "solver.parameters.log_search_progress = True\n",
    "status = solver.Solve(model)\n",
    "print(solver.StatusName(status))\n",
    "\n",
    "print(\"Time =\", time.perf_counter() - start_time_cp, \"seconds\")\n",
    "Time_cp = time.perf_counter() - start_time_cp"
   ]
  },
  {
   "cell_type": "code",
   "execution_count": 44,
   "id": "4d99526f",
   "metadata": {
    "execution": {
     "iopub.execute_input": "2023-08-22T15:35:12.106614Z",
     "iopub.status.busy": "2023-08-22T15:35:12.106076Z",
     "iopub.status.idle": "2023-08-22T15:35:12.722818Z",
     "shell.execute_reply": "2023-08-22T15:35:12.721507Z"
    },
    "papermill": {
     "duration": 0.655901,
     "end_time": "2023-08-22T15:35:12.725706",
     "exception": false,
     "start_time": "2023-08-22T15:35:12.069805",
     "status": "completed"
    },
    "tags": []
   },
   "outputs": [
    {
     "data": {
      "text/plain": [
       "[]"
      ]
     },
     "execution_count": 44,
     "metadata": {},
     "output_type": "execute_result"
    }
   ],
   "source": [
    "eliminated_locs =[]\n",
    "cluster_reps = []\n",
    "groupwise_locs = [[] for i  in Harvesting_Site]\n",
    "\n",
    "cnt=0\n",
    "for i  in Harvesting_Site:     \n",
    "    for j in PC[i]:\n",
    "        if solver.Value(x[i,j])>0:\n",
    "            groupwise_locs[j].append(i)\n",
    "            if j not in cluster_reps:\n",
    "                cluster_reps.append(j)\n",
    "            if i not in eliminated_locs:\n",
    "                eliminated_locs.append(i)\n",
    "groupwise_locs[1666]"
   ]
  },
  {
   "cell_type": "code",
   "execution_count": 45,
   "id": "0040c51c",
   "metadata": {
    "execution": {
     "iopub.execute_input": "2023-08-22T15:35:12.796135Z",
     "iopub.status.busy": "2023-08-22T15:35:12.795632Z",
     "iopub.status.idle": "2023-08-22T15:35:12.832685Z",
     "shell.execute_reply": "2023-08-22T15:35:12.831467Z"
    },
    "papermill": {
     "duration": 0.076337,
     "end_time": "2023-08-22T15:35:12.835358",
     "exception": false,
     "start_time": "2023-08-22T15:35:12.759021",
     "status": "completed"
    },
    "tags": []
   },
   "outputs": [
    {
     "name": "stdout",
     "output_type": "stream",
     "text": [
      "415\n",
      "667\n",
      "1245\n",
      "1538\n"
     ]
    }
   ],
   "source": [
    "additional_locs=[]\n",
    "\n",
    "for i  in Harvesting_Site: \n",
    "    if i not in eliminated_locs and i not in cluster_reps :\n",
    "        print(i)\n",
    "        additional_locs.append(i)\n",
    "        cluster_reps.append(i)"
   ]
  },
  {
   "cell_type": "code",
   "execution_count": 46,
   "id": "479d00e8",
   "metadata": {
    "execution": {
     "iopub.execute_input": "2023-08-22T15:35:12.907339Z",
     "iopub.status.busy": "2023-08-22T15:35:12.906606Z",
     "iopub.status.idle": "2023-08-22T15:35:12.914209Z",
     "shell.execute_reply": "2023-08-22T15:35:12.912838Z"
    },
    "papermill": {
     "duration": 0.047069,
     "end_time": "2023-08-22T15:35:12.916707",
     "exception": false,
     "start_time": "2023-08-22T15:35:12.869638",
     "status": "completed"
    },
    "tags": []
   },
   "outputs": [
    {
     "data": {
      "text/plain": [
       "2258"
      ]
     },
     "execution_count": 46,
     "metadata": {},
     "output_type": "execute_result"
    }
   ],
   "source": [
    "len(set(eliminated_locs))"
   ]
  },
  {
   "cell_type": "code",
   "execution_count": 47,
   "id": "4da2e227",
   "metadata": {
    "execution": {
     "iopub.execute_input": "2023-08-22T15:35:12.988845Z",
     "iopub.status.busy": "2023-08-22T15:35:12.987697Z",
     "iopub.status.idle": "2023-08-22T15:35:12.994179Z",
     "shell.execute_reply": "2023-08-22T15:35:12.992774Z"
    },
    "papermill": {
     "duration": 0.044493,
     "end_time": "2023-08-22T15:35:12.996510",
     "exception": false,
     "start_time": "2023-08-22T15:35:12.952017",
     "status": "completed"
    },
    "tags": []
   },
   "outputs": [
    {
     "name": "stdout",
     "output_type": "stream",
     "text": [
      "[1, 47, 38, 27, 97, 82, 63, 66, 140, 170, 178, 158, 225, 137, 255, 231, 302, 329, 268, 314, 279, 370, 372, 375, 392, 234, 428, 488, 447, 401, 455, 459, 535, 494, 453, 457, 618, 524, 528, 601, 669, 675, 628, 710, 722, 662, 328, 483, 757, 704, 784, 815, 702, 794, 871, 892, 830, 899, 772, 916, 866, 948, 969, 981, 987, 1000, 1031, 1029, 1102, 1115, 1069, 1076, 1146, 1190, 1192, 1208, 1217, 1224, 1296, 1241, 1258, 1336, 1420, 1345, 1371, 1251, 1450, 1395, 1463, 1470, 1431, 1374, 1380, 1508, 1543, 1503, 1515, 1597, 1549, 1618, 1642, 1589, 1603, 1665, 1675, 1682, 1694, 1728, 1687, 1760, 1809, 1779, 1841, 1821, 1825, 1830, 1845, 1908, 1915, 1981, 1993, 2000, 1837, 2041, 2004, 2035, 2060, 2010, 2110, 2119, 2128, 2104, 2116, 2167, 2179, 2146, 2196, 2207, 2256, 2182, 2274, 2268, 2295, 2337, 2315, 2258, 2332, 2356, 2350, 2328, 2361, 2373, 2379, 2405, 2409, 2416, 415, 667, 1245, 1538]\n"
     ]
    }
   ],
   "source": [
    "print(cluster_reps)"
   ]
  },
  {
   "cell_type": "code",
   "execution_count": 48,
   "id": "69fa3005",
   "metadata": {
    "execution": {
     "iopub.execute_input": "2023-08-22T15:35:13.069248Z",
     "iopub.status.busy": "2023-08-22T15:35:13.067872Z",
     "iopub.status.idle": "2023-08-22T15:35:13.096991Z",
     "shell.execute_reply": "2023-08-22T15:35:13.095510Z"
    },
    "papermill": {
     "duration": 0.068309,
     "end_time": "2023-08-22T15:35:13.100540",
     "exception": false,
     "start_time": "2023-08-22T15:35:13.032231",
     "status": "completed"
    },
    "tags": []
   },
   "outputs": [
    {
     "name": "stdout",
     "output_type": "stream",
     "text": [
      "1 [0, 4, 48] 140.33667841480354\n",
      "27 [12, 13] 36.58383818567068\n",
      "38 [5, 6, 7, 8, 9, 10, 11, 21, 22, 23, 24, 25, 26, 37, 39] 1129.4737055421815\n",
      "47 [2, 3, 14, 15, 16, 17, 18, 29, 30] 586.4175817368557\n",
      "63 [44, 45, 46, 61, 64] 52.704601917756946\n",
      "66 [65, 87] 22.924569901851758\n",
      "82 [28, 40, 41, 42, 43, 57, 58, 59, 60, 62, 79, 80, 83] 963.4736675255245\n",
      "97 [19, 20, 31, 32, 33, 34, 35, 36, 49, 50, 51, 52, 53, 54, 55, 56, 72, 73, 74, 75, 76, 78, 95, 96, 98] 3250.5241785336916\n",
      "137 [112, 113, 138] 55.325116541365674\n",
      "140 [67, 88, 89, 90, 114, 115, 116, 141] 79.83864271456775\n",
      "158 [81, 84, 85, 86, 103, 104, 105, 106, 107, 108, 109, 110, 132, 133, 134, 159] 1308.9545774339742\n",
      "170 [68, 69, 70, 71, 91, 92, 93, 94, 117, 118, 119, 120, 121, 122, 142, 143, 144, 145, 146, 168, 171] 1482.731174410987\n",
      "178 [77, 99, 100, 101, 102, 123, 125, 126, 127, 128, 129, 130, 131, 153, 154, 155, 156, 179] 2710.0689819668187\n",
      "225 [111, 135, 136, 160, 161, 162, 163, 186, 187, 226] 676.8597882438722\n",
      "231 [139, 164, 165, 166, 167, 188, 192, 193, 194, 232] 482.67975014712613\n",
      "234 [275] 29.730356768098158\n",
      "255 [124, 147, 148, 149, 150, 151, 152, 172, 173, 174, 175, 176, 177, 213, 214, 215, 216, 256] 2276.670440611549\n",
      "268 [189, 190, 191, 227, 228, 229, 230, 269] 1544.1514062150507\n",
      "279 [196, 197, 198, 199, 235, 236, 237, 238, 239, 276, 277, 278, 280] 107.88387164840242\n",
      "302 [157, 180, 181, 182, 183, 184, 185, 217, 218, 219, 220, 221, 222, 223, 224, 257, 258, 259, 260, 261, 262, 263, 264, 298, 300, 301, 303] 4888.021833827847\n",
      "314 [195, 233, 270, 271, 272, 273, 274, 310, 311, 312, 315] 1282.5025036919167\n",
      "328 [481] 1.7880525202621698\n",
      "329 [169, 205, 206, 207, 208, 209, 245, 246, 247, 248, 286, 287, 330, 374] 230.75370005435312\n",
      "370 [200, 201, 202, 203, 240, 241, 242, 243, 244, 281, 282, 283, 284, 285, 322, 323, 324, 325, 326, 371, 373, 423, 424, 480] 710.4402019839678\n",
      "372 [204, 327, 421] 90.47948459231147\n",
      "375 [210, 211, 212, 249, 250, 251, 252, 253, 254, 288, 289, 290, 291, 292, 293, 294, 331, 332, 333, 334, 376] 2059.774441138575\n",
      "392 [265, 266, 267, 304, 305, 306, 307, 308, 309, 346, 348, 349, 391, 393] 3087.202737169695\n",
      "401 [316, 358, 359, 402] 211.29755935922037\n",
      "428 [295, 335, 336, 377, 379, 427, 429] 967.9391862178936\n",
      "447 [313, 350, 351, 352, 353, 354, 355, 396, 448, 563] 1826.1459886826624\n",
      "453 [356, 357, 397, 398, 399, 400, 403, 449, 451, 454] 1077.3668796571324\n",
      "455 [317, 360, 456] 5.3521427475560595\n",
      "457 [361, 513] 1.2166184685092483\n",
      "459 [318, 319, 320, 362, 363, 364, 365, 404, 405, 406, 407, 408, 458, 460] 91.52668865480697\n",
      "483 [484] 411.7764319982986\n",
      "488 [296, 297, 299, 337, 338, 339, 340, 341, 378, 380, 381, 382, 383, 384, 430, 431, 432, 485, 486, 487, 544, 604] 4842.222506324186\n",
      "494 [342, 343, 344, 345, 347, 385, 386, 387, 388, 389, 390, 436, 437, 438, 439, 440, 441, 492, 493, 495] 4450.2641325040395\n",
      "524 [409, 410] 19.18572423223572\n",
      "528 [411, 412, 413, 414, 462, 463, 464, 465, 466, 467, 468, 469, 529] 285.8134615173186\n",
      "535 [321, 366, 367, 368, 369, 416, 417, 418, 419, 420, 471, 472, 473, 474, 475, 536] 725.4525371768867\n",
      "601 [422, 425, 476, 478, 479, 540, 541, 542, 600, 602] 267.1684750851006\n",
      "618 [394, 395, 442, 443, 444, 445, 446, 496, 497, 498, 499, 500, 501, 502, 555, 556, 557, 558, 559, 560, 561, 562, 619] 4834.7794867689745\n",
      "628 [450, 452, 504, 505, 506, 507, 508, 509, 510, 511, 512, 566, 567, 568, 569, 570, 571, 572, 627, 629, 630] 2009.501100471803\n",
      "662 [477, 537, 538, 539, 658, 724] 147.92481789431469\n",
      "669 [426, 482, 543, 603, 670] 41.22995071900101\n",
      "675 [433, 434, 435, 489, 490, 491, 545, 546, 547, 548, 549, 550, 551, 607, 608, 609, 610, 676] 4265.305079602495\n",
      "702 [573, 633, 634] 43.252766323243364\n",
      "704 [514, 515, 516, 517, 518, 574, 575, 636, 637, 705] 174.49043960686797\n",
      "710 [461, 519, 520, 521, 522, 576, 577, 578, 579, 580, 581, 638, 639, 640, 641, 642, 643, 706, 774] 308.1420144974035\n",
      "722 [470, 530, 531, 532, 533, 534, 589, 590, 591, 592, 593, 594, 595, 596, 651, 654, 655, 656, 657, 723] 1037.4578267806576\n",
      "757 [503, 564, 565, 620, 621, 622, 623, 624, 626, 687, 688, 689, 690, 758, 823] 2651.336718291913\n",
      "772 [635, 701, 703, 773] 25.483531322379534\n",
      "784 [523, 525, 526, 527, 582, 583, 584, 585, 586, 587, 588, 644, 645, 646, 647, 648, 649, 650, 711, 712, 713, 714, 715, 716, 717, 785] 563.067563414975\n",
      "794 [597, 598, 599, 659, 660, 661, 663, 725, 726, 727, 729, 730, 795] 1602.8708514962318\n",
      "815 [552, 553, 554, 611, 612, 613, 614, 615, 616, 617, 677, 678, 679, 680, 681, 682, 683, 684, 747, 748, 749, 750, 751, 816] 3758.5907858951205\n",
      "830 [631, 695, 696, 831] 283.9790305394618\n",
      "866 [664, 665, 666, 668, 731, 733, 735, 736, 737, 801, 867] 1891.2703099404462\n",
      "871 [605, 606, 671, 672, 673, 674, 738, 739, 740, 741, 742, 802, 803, 804, 805, 806, 807, 808, 868, 869, 872] 4431.924482340334\n",
      "892 [625, 691, 692, 693, 694, 759, 760, 761, 762, 763, 764, 824, 825, 826, 827, 828, 829, 888, 890, 891, 893, 952, 953, 954, 1014, 1015, 1070, 1071] 3885.1209109768943\n",
      "899 [632, 697, 698, 699, 700, 765, 766, 767, 768, 769, 770, 771, 832, 833, 834, 835, 836, 837, 900] 745.7160099980703\n",
      "916 [652, 653, 718, 719, 720, 721, 786, 787, 788, 789, 790, 852, 853, 854, 855, 915, 917] 382.097535643824\n",
      "948 [685, 686, 752, 753, 754, 755, 756, 817, 818, 819, 820, 821, 822, 881, 882, 883, 884, 885, 886, 887, 949, 950, 951, 1010, 1011, 1012, 1013, 1066, 1067, 1120, 1121] 5041.025154493232\n",
      "969 [707, 708, 709, 775, 776, 777, 778, 779, 780, 781, 840, 841, 842, 843, 844, 845, 846, 904, 905, 906, 970] 627.0683785743358\n",
      "981 [728, 791, 792, 793, 856, 857, 858, 979, 1033] 2711.2780114981188\n",
      "987 [732, 734, 796, 797, 798, 799, 800, 859, 860, 861, 862, 863, 864, 865, 921, 924, 925, 926, 927, 928, 986, 988] 8671.792555000524\n",
      "1000 [743, 744, 745, 746, 809, 810, 811, 812, 813, 814, 873, 874, 875, 876, 877, 878, 880, 936, 937, 938, 939, 940, 1001] 4796.306261406186\n",
      "1029 [838, 839, 901, 902, 903, 964, 967, 968, 1026, 1030] 66.68330751083444\n",
      "1031 [782, 783, 847, 848, 849, 850, 851, 907, 908, 909, 910, 911, 912, 913, 914, 971, 972, 973, 974, 975, 976, 977, 978, 1032] 930.4711397653032\n",
      "1069 [889, 1068, 1122, 1124, 1175, 1177] 1603.8502199762345\n",
      "1076 [894, 895, 896, 897, 898, 955, 956, 957, 958, 959, 960, 961, 1016, 1017, 1018, 1019, 1020, 1021, 1022, 1077] 1625.3609496158522\n",
      "1102 [870, 929, 930, 931, 932, 933, 934, 935, 990, 991, 992, 993, 994, 995, 996, 1046, 1047, 1048, 1101, 1103] 4868.190069412363\n",
      "1115 [879, 941, 942, 943, 944, 945, 946, 947, 1002, 1003, 1007, 1008, 1009, 1063, 1064, 1065, 1116, 1117, 1118] 4010.315739256499\n",
      "1146 [918, 919, 920, 922, 923, 980, 982, 983, 984, 985, 1034, 1035, 1036, 1037, 1038, 1039, 1090, 1091, 1092, 1093, 1147] 8190.262922770058\n",
      "1190 [962, 963, 1023, 1024, 1025, 1079, 1080, 1081, 1133, 1134, 1135, 1189, 1191] 269.403319713169\n",
      "1192 [965, 966, 1027, 1028, 1082, 1083, 1084, 1085, 1136, 1137, 1138, 1139, 1246] 89.94568462246843\n",
      "1208 [989, 1040, 1041, 1042, 1043, 1044, 1045, 1094, 1095, 1096, 1097, 1098, 1148, 1149, 1150, 1151, 1152, 1207, 1209] 3873.08889342284\n",
      "1217 [997, 998, 999, 1049, 1050, 1051, 1052, 1053, 1054, 1055, 1104, 1105, 1106, 1107, 1108, 1159, 1160, 1162, 1163, 1164, 1218] 4227.083737793229\n",
      "1224 [1004, 1005, 1006, 1056, 1057, 1058, 1059, 1060, 1061, 1062, 1109, 1110, 1111, 1112, 1113, 1114, 1167, 1168, 1169, 1170, 1220, 1225] 4156.031071692518\n",
      "1241 [1074, 1075, 1078, 1130, 1131, 1132, 1185, 1186, 1187, 1242] 1055.7903034717588\n",
      "1251 [1193, 1249, 1252] 10.091683604768273\n",
      "1258 [1086, 1087, 1088, 1089, 1140, 1141, 1142, 1143, 1144, 1145, 1197, 1198, 1199, 1200, 1256, 1257, 1259] 4230.349985731621\n",
      "1296 [1072, 1073, 1123, 1125, 1126, 1127, 1128, 1129, 1178, 1179, 1180, 1181, 1182, 1183, 1184, 1234, 1235, 1236, 1237, 1238, 1240, 1292, 1293, 1294, 1295, 1297] 4224.808467924422\n",
      "1336 [1099, 1100, 1153, 1154, 1155, 1156, 1157, 1158, 1211, 1212, 1213, 1214, 1337, 1588] 2970.443612068112\n",
      "1345 [1161, 1165, 1166, 1219, 1221, 1222, 1223, 1277, 1278, 1279, 1280, 1281, 1282, 1283, 1346] 1672.0283664563924\n",
      "1371 [1188, 1244, 1304, 1305, 1306, 1372] 131.0906100274086\n",
      "1374 [1247, 1248, 1307, 1308, 1309, 1373, 1375] 65.38329158520163\n",
      "1380 [1250, 1310, 1317, 1376, 1438] 74.9948643629073\n",
      "1395 [1201, 1202, 1203, 1204, 1205, 1206, 1260, 1261, 1262, 1263, 1264, 1265, 1266, 1328, 1329, 1330, 1396] 4498.326171902528\n",
      "1420 [1119, 1171, 1172, 1173, 1174, 1176, 1226, 1227, 1228, 1229, 1230, 1231, 1232, 1233, 1284, 1285, 1286, 1287, 1288, 1289, 1290, 1349, 1350, 1351, 1352, 1353, 1354, 1355, 1416, 1417, 1419, 1421] 7584.312224736864\n",
      "1431 [1239, 1243, 1298, 1299, 1300, 1301, 1302, 1303, 1366, 1367, 1368, 1432] 2543.5077747725772\n",
      "1450 [1194, 1195, 1196, 1253, 1255, 1321, 1322, 1451] 1557.8021518200555\n",
      "1463 [1210, 1267, 1268, 1269, 1270, 1271, 1331, 1332, 1333, 1334, 1335, 1399, 1400, 1401, 1462, 1464] 3514.6436120970507\n",
      "1470 [1215, 1216, 1272, 1273, 1274, 1275, 1276, 1338, 1339, 1340, 1341, 1342, 1343, 1344, 1404, 1405, 1406, 1407, 1408, 1409, 1471] 6928.496649290912\n",
      "1503 [1311, 1312, 1313, 1314, 1315, 1316, 1377, 1378, 1379, 1442, 1443, 1502, 1504] 941.0230906558186\n",
      "1508 [1254, 1318, 1319, 1320, 1381, 1382, 1383, 1384, 1385, 1386, 1387, 1445, 1446, 1448, 1449, 1509] 1748.8875488071783\n",
      "1515 [1323, 1324, 1325, 1326, 1327, 1388, 1389, 1390, 1391, 1392, 1393, 1394, 1452, 1453, 1454, 1455, 1456, 1457, 1516] 5218.370776411179\n",
      "1543 [1291, 1356, 1357, 1358, 1422, 1424, 1477, 1544] 2571.395699282555\n",
      "1549 [1359, 1360, 1361, 1362, 1363, 1364, 1365, 1427, 1428, 1429, 1430, 1487, 1488, 1489, 1490, 1491, 1550] 3480.957840772556\n",
      "1589 [1402, 1403, 1465, 1466, 1467, 1468, 1469, 1527, 1528, 1529, 1530, 1532, 1590] 3234.63567298545\n",
      "1597 [1347, 1348, 1410, 1411, 1412, 1413, 1414, 1415, 1472, 1473, 1474, 1475, 1476, 1534, 1535, 1536, 1537, 1596, 1598] 2910.6492451419053\n",
      "1603 [1418, 1423, 1478, 1479, 1480, 1481, 1482, 1483, 1539, 1540, 1541, 1542, 1599, 1600, 1601, 1658] 3097.206259520441\n",
      "1618 [1369, 1370, 1433, 1434, 1435, 1436, 1437, 1493, 1494, 1495, 1496, 1497, 1498, 1557, 1558, 1559, 1619] 2312.2651898330546\n",
      "1642 [1397, 1398, 1459, 1460, 1461, 1522, 1523, 1524, 1525, 1526, 1584, 1585, 1586, 1643] 3995.5564877723914\n",
      "1665 [1425, 1426, 1484, 1485, 1486, 1545, 1546, 1547, 1548, 1602, 1604, 1605, 1606, 1607, 1610, 1661, 1662, 1663, 1664, 1667] 6099.299316510491\n",
      "1675 [1439, 1440, 1441, 1499, 1500, 1501, 1560, 1561, 1562, 1563, 1564, 1620, 1621, 1622, 1623, 1676] 1585.2117674246101\n",
      "1682 [1444, 1447, 1505, 1506, 1507, 1565, 1566, 1567, 1568, 1569, 1625, 1627, 1681, 1683] 1560.3579058706641\n",
      "1687 [1510, 1511, 1512, 1513, 1514, 1570, 1571, 1572, 1573, 1574, 1575, 1576, 1628, 1629, 1630, 1631, 1632, 1633, 1634, 1685, 1688] 5057.463045274526\n",
      "1694 [1458, 1517, 1518, 1519, 1520, 1521, 1577, 1578, 1579, 1580, 1581, 1582, 1583, 1635, 1636, 1637, 1638, 1639, 1640, 1641, 1695, 1802] 7122.542518755488\n",
      "1728 [1492, 1551, 1552, 1553, 1554, 1555, 1556, 1611, 1613, 1614, 1615, 1616, 1617, 1673, 1674, 1729] 2073.090224017866\n",
      "1760 [1531, 1533, 1591, 1592, 1593, 1594, 1595, 1650, 1651, 1652, 1653, 1654, 1706, 1707, 1709, 1761] 5810.7508651678345\n",
      "1779 [1608, 1609, 1612, 1668, 1669, 1670, 1671, 1672, 1725, 1726, 1727, 1780] 2130.9126142492696\n",
      "1809 [1587, 1644, 1645, 1646, 1647, 1648, 1649, 1699, 1700, 1701, 1702, 1703, 1704, 1705, 1755, 1756, 1757, 1758, 1759, 1810] 6578.517728746597\n",
      "1821 [1655, 1656, 1657, 1708, 1710, 1711, 1712, 1763, 1764, 1765, 1766, 1767, 1817, 1818, 1822] 1253.6775359656895\n",
      "1825 [1659, 1660, 1713, 1714, 1715, 1716, 1717, 1719, 1768, 1769, 1770, 1771, 1823, 1824, 1826] 3089.4334910810057\n",
      "1830 [1666, 1718, 1720, 1721, 1722, 1723, 1724, 1772, 1774, 1775, 1776, 1777, 1827, 1831] 3066.2610105142257\n",
      "1837 [1782, 1783, 1784, 1838] 62.63911511557171\n",
      "1841 [1624, 1626, 1677, 1678, 1679, 1680, 1730, 1731, 1732, 1733, 1785, 1786, 1787, 1842] 1023.308255486092\n",
      "1845 [1684, 1686, 1734, 1735, 1736, 1737, 1738, 1739, 1740, 1741, 1788, 1789, 1790, 1791, 1792, 1793, 1794, 1795, 1840, 1843, 1844, 1846] 2668.0271875924486\n",
      "1908 [1689, 1690, 1691, 1692, 1693, 1742, 1743, 1744, 1745, 1746, 1747, 1748, 1796, 1797, 1798, 1799, 1800, 1801, 1847, 1848, 1849, 1850, 1851, 1852, 1853, 1903, 1904, 1905, 1906, 1907, 1909] 8023.198702441751\n",
      "1915 [1696, 1697, 1698, 1749, 1750, 1751, 1752, 1753, 1754, 1803, 1804, 1805, 1806, 1807, 1808, 1854, 1855, 1856, 1857, 1858, 1859, 1860, 1861, 1862, 1911, 1912, 1913, 1914, 1916] 12252.909960404744\n",
      "1981 [1762, 1811, 1812, 1813, 1814, 1815, 1816, 1863, 1868, 1869, 1982] 2958.2503297459925\n",
      "1993 [1773, 1828, 1829, 1876, 1877, 1878, 1879, 1880, 1881, 1882, 1932, 1933, 1934, 1935, 1936, 1937, 1938, 1989, 1990, 1991, 1992, 1994, 2044, 2045] 4083.3760536722243\n",
      "2000 [1778, 1781, 1832, 1833, 1834, 1835, 1836, 1883, 1884, 1885, 1886, 1939, 1940, 1941, 1942, 1943, 1944, 1997, 2001] 2358.621150850922\n",
      "2004 [1839, 1887, 1888, 1889, 1890, 1891, 1892, 1893, 1945, 1946, 1948, 1949, 2003, 2005] 1237.4819773513484\n",
      "2010 [1895, 1896, 1897, 1952, 1953, 1954, 2011] 152.919762045141\n",
      "2035 [1864, 1865, 1866, 1867, 1922, 1923, 1924, 1978, 1979, 1980, 2036] 4342.093345932271\n",
      "2041 [1819, 1820, 1870, 1871, 1872, 1873, 1874, 1875, 1925, 1926, 1927, 1928, 1929, 1930, 1931, 1983, 1987, 1988, 2042] 2761.95526538337\n",
      "2060 [1894, 1950, 1951, 2007, 2008, 2009, 2061] 236.67814969892586\n",
      "2104 [1947, 2002, 2055, 2056, 2057, 2058, 2105, 2270] 356.87174056995065\n",
      "2110 [1898, 1899, 1900, 1901, 1902, 1955, 1956, 1957, 1958, 1959, 1960, 2012, 2013, 2014, 2015, 2062, 2063, 2064, 2065, 2111] 1338.0792505479797\n",
      "2116 [1961, 1962, 1963, 1964, 1965, 2016, 2017, 2018, 2066, 2112, 2156] 1822.8357563505863\n",
      "2119 [1910, 1966, 1967, 1968, 1969, 1970, 1971, 2019, 2020, 2021, 2022, 2023, 2024, 2025, 2070, 2071, 2072, 2073, 2074, 2117, 2118, 2120] 2660.662090176071\n",
      "2128 [1917, 1918, 1919, 1920, 1921, 1973, 1974, 1975, 1976, 1977, 2030, 2031, 2032, 2033, 2034, 2082, 2083, 2127, 2129] 7620.962961514102\n",
      "2146 [1995, 1996, 1998, 1999, 2048, 2049, 2050, 2051, 2052, 2053, 2054, 2098, 2099, 2100, 2101, 2103, 2147] 2573.4404629941\n",
      "2167 [1972, 2026, 2028, 2029, 2078, 2079, 2080, 2081, 2124, 2125, 2126, 2168] 2911.364832019862\n",
      "2179 [1984, 1985, 1986, 2038, 2039, 2040, 2090, 2091, 2138, 2180] 2229.9823394472182\n",
      "2182 [2043, 2046, 2047, 2092, 2093, 2094, 2095, 2096, 2097, 2139, 2140, 2141, 2142, 2143, 2144, 2181, 2183] 2571.8576291586555\n",
      "2196 [2006, 2059, 2106, 2107, 2108, 2109, 2152, 2153, 2154, 2155, 2195, 2197, 2234, 2235, 2302] 173.276299322101\n",
      "2207 [2027, 2075, 2076, 2077, 2121, 2122, 2123, 2165, 2208] 624.6046876663199\n",
      "2256 [2037, 2084, 2085, 2086, 2087, 2088, 2089, 2130, 2131, 2132, 2133, 2134, 2135, 2136, 2137, 2173, 2174, 2175, 2176, 2177, 2178, 2217, 2218, 2219, 2220, 2254, 2255, 2257] 6227.5841406125755\n",
      "2258 [2184, 2185, 2221, 2222, 2223, 2259] 439.44346765596634\n",
      "2268 [2102, 2148, 2149, 2150, 2151, 2191, 2192, 2193, 2194, 2230, 2231, 2232, 2233, 2269] 1293.5448318909248\n",
      "2274 [2067, 2068, 2069, 2113, 2114, 2115, 2157, 2158, 2159, 2160, 2161, 2162, 2163, 2164, 2198, 2199, 2200, 2201, 2202, 2236, 2237, 2238, 2239, 2240, 2275] 2635.1283742371925\n",
      "2295 [2145, 2186, 2187, 2188, 2189, 2190, 2224, 2225, 2226, 2227, 2228, 2229, 2260, 2261, 2263, 2265, 2266, 2267, 2290, 2291, 2317] 2967.8857229916025\n",
      "2315 [2169, 2170, 2171, 2172, 2212, 2213, 2214, 2215, 2216, 2251, 2252, 2253, 2287, 2288, 2289, 2316] 3637.7408378823743\n",
      "2328 [2273, 2329] 2.614146391543476\n",
      "2332 [2203, 2204, 2205, 2206, 2241, 2242, 2243, 2244, 2276, 2277, 2278, 2279, 2303, 2304, 2305, 2306, 2330, 2331, 2333] 1749.6116418474096\n",
      "2337 [2166, 2209, 2210, 2211, 2245, 2246, 2247, 2248, 2249, 2250, 2280, 2281, 2282, 2283, 2284, 2285, 2286, 2307, 2308, 2309, 2310, 2311, 2312, 2313, 2314, 2334, 2335, 2336, 2338] 2883.1383137992625\n",
      "2350 [2271, 2272, 2300, 2301, 2327, 2351] 4.746359807266753\n",
      "2356 [2262, 2264, 2292, 2293, 2294, 2296, 2297, 2319, 2321, 2322, 2343, 2344, 2357] 1632.0635792817475\n",
      "2361 [2298, 2299, 2323, 2324, 2325, 2326, 2345, 2346, 2347, 2348, 2349, 2359, 2362] 250.40887786596306\n",
      "2373 [2318, 2320, 2339, 2340, 2341, 2342, 2352, 2353, 2354, 2355, 2363, 2364, 2365, 2372, 2374] 1177.9871156302288\n",
      "2379 [2358, 2360, 2366, 2367, 2368, 2369, 2370, 2371, 2377, 2380] 365.84179547418375\n",
      "2405 [2375, 2376, 2381, 2382, 2384, 2389, 2390, 2400, 2401, 2406] 513.0814802486286\n",
      "2409 [2378, 2386, 2387, 2388, 2396, 2397, 2398, 2399, 2407, 2408, 2410] 151.5464831720809\n",
      "2416 [2383, 2385, 2391, 2392, 2393, 2394, 2395, 2402, 2403, 2404, 2411, 2412, 2413, 2414, 2415, 2417] 406.39671148682174\n"
     ]
    }
   ],
   "source": [
    "#print(groupwise_locs)\n",
    "Bio_fuel=[]\n",
    "Groupwise_locs=[]\n",
    "Cluster_reps = []\n",
    "\n",
    "for i  in Harvesting_Site:   \n",
    "    if len(groupwise_locs[i])>0:\n",
    "        bio_fuel= forecasted_biomass_scaled[i]        \n",
    "        for j in groupwise_locs[i]:\n",
    "            bio_fuel=bio_fuel+ forecasted_biomass_scaled[j]\n",
    "        Bio_fuel.append(bio_fuel)\n",
    "        Groupwise_locs.append(groupwise_locs[i])\n",
    "        Cluster_reps.append(i)\n",
    "        print(i,groupwise_locs[i],bio_fuel)"
   ]
  },
  {
   "cell_type": "code",
   "execution_count": 49,
   "id": "5e803198",
   "metadata": {
    "execution": {
     "iopub.execute_input": "2023-08-22T15:35:13.173941Z",
     "iopub.status.busy": "2023-08-22T15:35:13.173469Z",
     "iopub.status.idle": "2023-08-22T15:35:13.197021Z",
     "shell.execute_reply": "2023-08-22T15:35:13.195477Z"
    },
    "papermill": {
     "duration": 0.063705,
     "end_time": "2023-08-22T15:35:13.199626",
     "exception": false,
     "start_time": "2023-08-22T15:35:13.135921",
     "status": "completed"
    },
    "tags": []
   },
   "outputs": [
    {
     "data": {
      "text/html": [
       "<div>\n",
       "<style scoped>\n",
       "    .dataframe tbody tr th:only-of-type {\n",
       "        vertical-align: middle;\n",
       "    }\n",
       "\n",
       "    .dataframe tbody tr th {\n",
       "        vertical-align: top;\n",
       "    }\n",
       "\n",
       "    .dataframe thead th {\n",
       "        text-align: right;\n",
       "    }\n",
       "</style>\n",
       "<table border=\"1\" class=\"dataframe\">\n",
       "  <thead>\n",
       "    <tr style=\"text-align: right;\">\n",
       "      <th></th>\n",
       "      <th>Cluster_reps</th>\n",
       "      <th>Groupwise_locs</th>\n",
       "      <th>Total_bio_fuel</th>\n",
       "    </tr>\n",
       "  </thead>\n",
       "  <tbody>\n",
       "    <tr>\n",
       "      <th>0</th>\n",
       "      <td>1</td>\n",
       "      <td>[0, 4, 48]</td>\n",
       "      <td>140.336678</td>\n",
       "    </tr>\n",
       "    <tr>\n",
       "      <th>1</th>\n",
       "      <td>27</td>\n",
       "      <td>[12, 13]</td>\n",
       "      <td>36.583838</td>\n",
       "    </tr>\n",
       "    <tr>\n",
       "      <th>2</th>\n",
       "      <td>38</td>\n",
       "      <td>[5, 6, 7, 8, 9, 10, 11, 21, 22, 23, 24, 25, 26...</td>\n",
       "      <td>1129.473706</td>\n",
       "    </tr>\n",
       "    <tr>\n",
       "      <th>3</th>\n",
       "      <td>47</td>\n",
       "      <td>[2, 3, 14, 15, 16, 17, 18, 29, 30]</td>\n",
       "      <td>586.417582</td>\n",
       "    </tr>\n",
       "    <tr>\n",
       "      <th>4</th>\n",
       "      <td>63</td>\n",
       "      <td>[44, 45, 46, 61, 64]</td>\n",
       "      <td>52.704602</td>\n",
       "    </tr>\n",
       "    <tr>\n",
       "      <th>...</th>\n",
       "      <td>...</td>\n",
       "      <td>...</td>\n",
       "      <td>...</td>\n",
       "    </tr>\n",
       "    <tr>\n",
       "      <th>151</th>\n",
       "      <td>2373</td>\n",
       "      <td>[2318, 2320, 2339, 2340, 2341, 2342, 2352, 235...</td>\n",
       "      <td>1177.987116</td>\n",
       "    </tr>\n",
       "    <tr>\n",
       "      <th>152</th>\n",
       "      <td>2379</td>\n",
       "      <td>[2358, 2360, 2366, 2367, 2368, 2369, 2370, 237...</td>\n",
       "      <td>365.841795</td>\n",
       "    </tr>\n",
       "    <tr>\n",
       "      <th>153</th>\n",
       "      <td>2405</td>\n",
       "      <td>[2375, 2376, 2381, 2382, 2384, 2389, 2390, 240...</td>\n",
       "      <td>513.081480</td>\n",
       "    </tr>\n",
       "    <tr>\n",
       "      <th>154</th>\n",
       "      <td>2409</td>\n",
       "      <td>[2378, 2386, 2387, 2388, 2396, 2397, 2398, 239...</td>\n",
       "      <td>151.546483</td>\n",
       "    </tr>\n",
       "    <tr>\n",
       "      <th>155</th>\n",
       "      <td>2416</td>\n",
       "      <td>[2383, 2385, 2391, 2392, 2393, 2394, 2395, 240...</td>\n",
       "      <td>406.396711</td>\n",
       "    </tr>\n",
       "  </tbody>\n",
       "</table>\n",
       "<p>156 rows × 3 columns</p>\n",
       "</div>"
      ],
      "text/plain": [
       "     Cluster_reps                                     Groupwise_locs  \\\n",
       "0               1                                         [0, 4, 48]   \n",
       "1              27                                           [12, 13]   \n",
       "2              38  [5, 6, 7, 8, 9, 10, 11, 21, 22, 23, 24, 25, 26...   \n",
       "3              47                 [2, 3, 14, 15, 16, 17, 18, 29, 30]   \n",
       "4              63                               [44, 45, 46, 61, 64]   \n",
       "..            ...                                                ...   \n",
       "151          2373  [2318, 2320, 2339, 2340, 2341, 2342, 2352, 235...   \n",
       "152          2379  [2358, 2360, 2366, 2367, 2368, 2369, 2370, 237...   \n",
       "153          2405  [2375, 2376, 2381, 2382, 2384, 2389, 2390, 240...   \n",
       "154          2409  [2378, 2386, 2387, 2388, 2396, 2397, 2398, 239...   \n",
       "155          2416  [2383, 2385, 2391, 2392, 2393, 2394, 2395, 240...   \n",
       "\n",
       "     Total_bio_fuel  \n",
       "0        140.336678  \n",
       "1         36.583838  \n",
       "2       1129.473706  \n",
       "3        586.417582  \n",
       "4         52.704602  \n",
       "..              ...  \n",
       "151     1177.987116  \n",
       "152      365.841795  \n",
       "153      513.081480  \n",
       "154      151.546483  \n",
       "155      406.396711  \n",
       "\n",
       "[156 rows x 3 columns]"
      ]
     },
     "execution_count": 49,
     "metadata": {},
     "output_type": "execute_result"
    }
   ],
   "source": [
    "# dictionary of lists\n",
    "dict = {'Cluster_reps':Cluster_reps,\n",
    "        'Groupwise_locs': Groupwise_locs,\n",
    "        'Total_bio_fuel': Bio_fuel}\n",
    "df = pd.DataFrame(dict)\n",
    "df"
   ]
  },
  {
   "cell_type": "code",
   "execution_count": 50,
   "id": "a7f824e0",
   "metadata": {
    "execution": {
     "iopub.execute_input": "2023-08-22T15:35:13.281196Z",
     "iopub.status.busy": "2023-08-22T15:35:13.280429Z",
     "iopub.status.idle": "2023-08-22T15:35:13.289905Z",
     "shell.execute_reply": "2023-08-22T15:35:13.288567Z"
    },
    "papermill": {
     "duration": 0.050498,
     "end_time": "2023-08-22T15:35:13.292817",
     "exception": false,
     "start_time": "2023-08-22T15:35:13.242319",
     "status": "completed"
    },
    "tags": []
   },
   "outputs": [
    {
     "name": "stdout",
     "output_type": "stream",
     "text": [
      "[[1, 0, 4, 48], [27, 12, 13], [38, 5, 6, 7, 8, 9, 10, 11, 21, 22, 23, 24, 25, 26, 37, 39], [47, 2, 3, 14, 15, 16, 17, 18, 29, 30], [63, 44, 45, 46, 61, 64], [66, 65, 87], [82, 28, 40, 41, 42, 43, 57, 58, 59, 60, 62, 79, 80, 83], [97, 19, 20, 31, 32, 33, 34, 35, 36, 49, 50, 51, 52, 53, 54, 55, 56, 72, 73, 74, 75, 76, 78, 95, 96, 98], [137, 112, 113, 138], [140, 67, 88, 89, 90, 114, 115, 116, 141], [158, 81, 84, 85, 86, 103, 104, 105, 106, 107, 108, 109, 110, 132, 133, 134, 159], [170, 68, 69, 70, 71, 91, 92, 93, 94, 117, 118, 119, 120, 121, 122, 142, 143, 144, 145, 146, 168, 171], [178, 77, 99, 100, 101, 102, 123, 125, 126, 127, 128, 129, 130, 131, 153, 154, 155, 156, 179], [225, 111, 135, 136, 160, 161, 162, 163, 186, 187, 226], [231, 139, 164, 165, 166, 167, 188, 192, 193, 194, 232], [234, 275], [255, 124, 147, 148, 149, 150, 151, 152, 172, 173, 174, 175, 176, 177, 213, 214, 215, 216, 256], [268, 189, 190, 191, 227, 228, 229, 230, 269], [279, 196, 197, 198, 199, 235, 236, 237, 238, 239, 276, 277, 278, 280], [302, 157, 180, 181, 182, 183, 184, 185, 217, 218, 219, 220, 221, 222, 223, 224, 257, 258, 259, 260, 261, 262, 263, 264, 298, 300, 301, 303], [314, 195, 233, 270, 271, 272, 273, 274, 310, 311, 312, 315], [328, 481], [329, 169, 205, 206, 207, 208, 209, 245, 246, 247, 248, 286, 287, 330, 374], [370, 200, 201, 202, 203, 240, 241, 242, 243, 244, 281, 282, 283, 284, 285, 322, 323, 324, 325, 326, 371, 373, 423, 424, 480], [372, 204, 327, 421], [375, 210, 211, 212, 249, 250, 251, 252, 253, 254, 288, 289, 290, 291, 292, 293, 294, 331, 332, 333, 334, 376], [392, 265, 266, 267, 304, 305, 306, 307, 308, 309, 346, 348, 349, 391, 393], [401, 316, 358, 359, 402], [428, 295, 335, 336, 377, 379, 427, 429], [447, 313, 350, 351, 352, 353, 354, 355, 396, 448, 563], [453, 356, 357, 397, 398, 399, 400, 403, 449, 451, 454], [455, 317, 360, 456], [457, 361, 513], [459, 318, 319, 320, 362, 363, 364, 365, 404, 405, 406, 407, 408, 458, 460], [483, 484], [488, 296, 297, 299, 337, 338, 339, 340, 341, 378, 380, 381, 382, 383, 384, 430, 431, 432, 485, 486, 487, 544, 604], [494, 342, 343, 344, 345, 347, 385, 386, 387, 388, 389, 390, 436, 437, 438, 439, 440, 441, 492, 493, 495], [524, 409, 410], [528, 411, 412, 413, 414, 462, 463, 464, 465, 466, 467, 468, 469, 529], [535, 321, 366, 367, 368, 369, 416, 417, 418, 419, 420, 471, 472, 473, 474, 475, 536], [601, 422, 425, 476, 478, 479, 540, 541, 542, 600, 602], [618, 394, 395, 442, 443, 444, 445, 446, 496, 497, 498, 499, 500, 501, 502, 555, 556, 557, 558, 559, 560, 561, 562, 619], [628, 450, 452, 504, 505, 506, 507, 508, 509, 510, 511, 512, 566, 567, 568, 569, 570, 571, 572, 627, 629, 630], [662, 477, 537, 538, 539, 658, 724], [669, 426, 482, 543, 603, 670], [675, 433, 434, 435, 489, 490, 491, 545, 546, 547, 548, 549, 550, 551, 607, 608, 609, 610, 676], [702, 573, 633, 634], [704, 514, 515, 516, 517, 518, 574, 575, 636, 637, 705], [710, 461, 519, 520, 521, 522, 576, 577, 578, 579, 580, 581, 638, 639, 640, 641, 642, 643, 706, 774], [722, 470, 530, 531, 532, 533, 534, 589, 590, 591, 592, 593, 594, 595, 596, 651, 654, 655, 656, 657, 723], [757, 503, 564, 565, 620, 621, 622, 623, 624, 626, 687, 688, 689, 690, 758, 823], [772, 635, 701, 703, 773], [784, 523, 525, 526, 527, 582, 583, 584, 585, 586, 587, 588, 644, 645, 646, 647, 648, 649, 650, 711, 712, 713, 714, 715, 716, 717, 785], [794, 597, 598, 599, 659, 660, 661, 663, 725, 726, 727, 729, 730, 795], [815, 552, 553, 554, 611, 612, 613, 614, 615, 616, 617, 677, 678, 679, 680, 681, 682, 683, 684, 747, 748, 749, 750, 751, 816], [830, 631, 695, 696, 831], [866, 664, 665, 666, 668, 731, 733, 735, 736, 737, 801, 867], [871, 605, 606, 671, 672, 673, 674, 738, 739, 740, 741, 742, 802, 803, 804, 805, 806, 807, 808, 868, 869, 872], [892, 625, 691, 692, 693, 694, 759, 760, 761, 762, 763, 764, 824, 825, 826, 827, 828, 829, 888, 890, 891, 893, 952, 953, 954, 1014, 1015, 1070, 1071], [899, 632, 697, 698, 699, 700, 765, 766, 767, 768, 769, 770, 771, 832, 833, 834, 835, 836, 837, 900], [916, 652, 653, 718, 719, 720, 721, 786, 787, 788, 789, 790, 852, 853, 854, 855, 915, 917], [948, 685, 686, 752, 753, 754, 755, 756, 817, 818, 819, 820, 821, 822, 881, 882, 883, 884, 885, 886, 887, 949, 950, 951, 1010, 1011, 1012, 1013, 1066, 1067, 1120, 1121], [969, 707, 708, 709, 775, 776, 777, 778, 779, 780, 781, 840, 841, 842, 843, 844, 845, 846, 904, 905, 906, 970], [981, 728, 791, 792, 793, 856, 857, 858, 979, 1033], [987, 732, 734, 796, 797, 798, 799, 800, 859, 860, 861, 862, 863, 864, 865, 921, 924, 925, 926, 927, 928, 986, 988], [1000, 743, 744, 745, 746, 809, 810, 811, 812, 813, 814, 873, 874, 875, 876, 877, 878, 880, 936, 937, 938, 939, 940, 1001], [1029, 838, 839, 901, 902, 903, 964, 967, 968, 1026, 1030], [1031, 782, 783, 847, 848, 849, 850, 851, 907, 908, 909, 910, 911, 912, 913, 914, 971, 972, 973, 974, 975, 976, 977, 978, 1032], [1069, 889, 1068, 1122, 1124, 1175, 1177], [1076, 894, 895, 896, 897, 898, 955, 956, 957, 958, 959, 960, 961, 1016, 1017, 1018, 1019, 1020, 1021, 1022, 1077], [1102, 870, 929, 930, 931, 932, 933, 934, 935, 990, 991, 992, 993, 994, 995, 996, 1046, 1047, 1048, 1101, 1103], [1115, 879, 941, 942, 943, 944, 945, 946, 947, 1002, 1003, 1007, 1008, 1009, 1063, 1064, 1065, 1116, 1117, 1118], [1146, 918, 919, 920, 922, 923, 980, 982, 983, 984, 985, 1034, 1035, 1036, 1037, 1038, 1039, 1090, 1091, 1092, 1093, 1147], [1190, 962, 963, 1023, 1024, 1025, 1079, 1080, 1081, 1133, 1134, 1135, 1189, 1191], [1192, 965, 966, 1027, 1028, 1082, 1083, 1084, 1085, 1136, 1137, 1138, 1139, 1246], [1208, 989, 1040, 1041, 1042, 1043, 1044, 1045, 1094, 1095, 1096, 1097, 1098, 1148, 1149, 1150, 1151, 1152, 1207, 1209], [1217, 997, 998, 999, 1049, 1050, 1051, 1052, 1053, 1054, 1055, 1104, 1105, 1106, 1107, 1108, 1159, 1160, 1162, 1163, 1164, 1218], [1224, 1004, 1005, 1006, 1056, 1057, 1058, 1059, 1060, 1061, 1062, 1109, 1110, 1111, 1112, 1113, 1114, 1167, 1168, 1169, 1170, 1220, 1225], [1241, 1074, 1075, 1078, 1130, 1131, 1132, 1185, 1186, 1187, 1242], [1251, 1193, 1249, 1252], [1258, 1086, 1087, 1088, 1089, 1140, 1141, 1142, 1143, 1144, 1145, 1197, 1198, 1199, 1200, 1256, 1257, 1259], [1296, 1072, 1073, 1123, 1125, 1126, 1127, 1128, 1129, 1178, 1179, 1180, 1181, 1182, 1183, 1184, 1234, 1235, 1236, 1237, 1238, 1240, 1292, 1293, 1294, 1295, 1297], [1336, 1099, 1100, 1153, 1154, 1155, 1156, 1157, 1158, 1211, 1212, 1213, 1214, 1337, 1588], [1345, 1161, 1165, 1166, 1219, 1221, 1222, 1223, 1277, 1278, 1279, 1280, 1281, 1282, 1283, 1346], [1371, 1188, 1244, 1304, 1305, 1306, 1372], [1374, 1247, 1248, 1307, 1308, 1309, 1373, 1375], [1380, 1250, 1310, 1317, 1376, 1438], [1395, 1201, 1202, 1203, 1204, 1205, 1206, 1260, 1261, 1262, 1263, 1264, 1265, 1266, 1328, 1329, 1330, 1396], [1420, 1119, 1171, 1172, 1173, 1174, 1176, 1226, 1227, 1228, 1229, 1230, 1231, 1232, 1233, 1284, 1285, 1286, 1287, 1288, 1289, 1290, 1349, 1350, 1351, 1352, 1353, 1354, 1355, 1416, 1417, 1419, 1421], [1431, 1239, 1243, 1298, 1299, 1300, 1301, 1302, 1303, 1366, 1367, 1368, 1432], [1450, 1194, 1195, 1196, 1253, 1255, 1321, 1322, 1451], [1463, 1210, 1267, 1268, 1269, 1270, 1271, 1331, 1332, 1333, 1334, 1335, 1399, 1400, 1401, 1462, 1464], [1470, 1215, 1216, 1272, 1273, 1274, 1275, 1276, 1338, 1339, 1340, 1341, 1342, 1343, 1344, 1404, 1405, 1406, 1407, 1408, 1409, 1471], [1503, 1311, 1312, 1313, 1314, 1315, 1316, 1377, 1378, 1379, 1442, 1443, 1502, 1504], [1508, 1254, 1318, 1319, 1320, 1381, 1382, 1383, 1384, 1385, 1386, 1387, 1445, 1446, 1448, 1449, 1509], [1515, 1323, 1324, 1325, 1326, 1327, 1388, 1389, 1390, 1391, 1392, 1393, 1394, 1452, 1453, 1454, 1455, 1456, 1457, 1516], [1543, 1291, 1356, 1357, 1358, 1422, 1424, 1477, 1544], [1549, 1359, 1360, 1361, 1362, 1363, 1364, 1365, 1427, 1428, 1429, 1430, 1487, 1488, 1489, 1490, 1491, 1550], [1589, 1402, 1403, 1465, 1466, 1467, 1468, 1469, 1527, 1528, 1529, 1530, 1532, 1590], [1597, 1347, 1348, 1410, 1411, 1412, 1413, 1414, 1415, 1472, 1473, 1474, 1475, 1476, 1534, 1535, 1536, 1537, 1596, 1598], [1603, 1418, 1423, 1478, 1479, 1480, 1481, 1482, 1483, 1539, 1540, 1541, 1542, 1599, 1600, 1601, 1658], [1618, 1369, 1370, 1433, 1434, 1435, 1436, 1437, 1493, 1494, 1495, 1496, 1497, 1498, 1557, 1558, 1559, 1619], [1642, 1397, 1398, 1459, 1460, 1461, 1522, 1523, 1524, 1525, 1526, 1584, 1585, 1586, 1643], [1665, 1425, 1426, 1484, 1485, 1486, 1545, 1546, 1547, 1548, 1602, 1604, 1605, 1606, 1607, 1610, 1661, 1662, 1663, 1664, 1667], [1675, 1439, 1440, 1441, 1499, 1500, 1501, 1560, 1561, 1562, 1563, 1564, 1620, 1621, 1622, 1623, 1676], [1682, 1444, 1447, 1505, 1506, 1507, 1565, 1566, 1567, 1568, 1569, 1625, 1627, 1681, 1683], [1687, 1510, 1511, 1512, 1513, 1514, 1570, 1571, 1572, 1573, 1574, 1575, 1576, 1628, 1629, 1630, 1631, 1632, 1633, 1634, 1685, 1688], [1694, 1458, 1517, 1518, 1519, 1520, 1521, 1577, 1578, 1579, 1580, 1581, 1582, 1583, 1635, 1636, 1637, 1638, 1639, 1640, 1641, 1695, 1802], [1728, 1492, 1551, 1552, 1553, 1554, 1555, 1556, 1611, 1613, 1614, 1615, 1616, 1617, 1673, 1674, 1729], [1760, 1531, 1533, 1591, 1592, 1593, 1594, 1595, 1650, 1651, 1652, 1653, 1654, 1706, 1707, 1709, 1761], [1779, 1608, 1609, 1612, 1668, 1669, 1670, 1671, 1672, 1725, 1726, 1727, 1780], [1809, 1587, 1644, 1645, 1646, 1647, 1648, 1649, 1699, 1700, 1701, 1702, 1703, 1704, 1705, 1755, 1756, 1757, 1758, 1759, 1810], [1821, 1655, 1656, 1657, 1708, 1710, 1711, 1712, 1763, 1764, 1765, 1766, 1767, 1817, 1818, 1822], [1825, 1659, 1660, 1713, 1714, 1715, 1716, 1717, 1719, 1768, 1769, 1770, 1771, 1823, 1824, 1826], [1830, 1666, 1718, 1720, 1721, 1722, 1723, 1724, 1772, 1774, 1775, 1776, 1777, 1827, 1831], [1837, 1782, 1783, 1784, 1838], [1841, 1624, 1626, 1677, 1678, 1679, 1680, 1730, 1731, 1732, 1733, 1785, 1786, 1787, 1842], [1845, 1684, 1686, 1734, 1735, 1736, 1737, 1738, 1739, 1740, 1741, 1788, 1789, 1790, 1791, 1792, 1793, 1794, 1795, 1840, 1843, 1844, 1846], [1908, 1689, 1690, 1691, 1692, 1693, 1742, 1743, 1744, 1745, 1746, 1747, 1748, 1796, 1797, 1798, 1799, 1800, 1801, 1847, 1848, 1849, 1850, 1851, 1852, 1853, 1903, 1904, 1905, 1906, 1907, 1909], [1915, 1696, 1697, 1698, 1749, 1750, 1751, 1752, 1753, 1754, 1803, 1804, 1805, 1806, 1807, 1808, 1854, 1855, 1856, 1857, 1858, 1859, 1860, 1861, 1862, 1911, 1912, 1913, 1914, 1916], [1981, 1762, 1811, 1812, 1813, 1814, 1815, 1816, 1863, 1868, 1869, 1982], [1993, 1773, 1828, 1829, 1876, 1877, 1878, 1879, 1880, 1881, 1882, 1932, 1933, 1934, 1935, 1936, 1937, 1938, 1989, 1990, 1991, 1992, 1994, 2044, 2045], [2000, 1778, 1781, 1832, 1833, 1834, 1835, 1836, 1883, 1884, 1885, 1886, 1939, 1940, 1941, 1942, 1943, 1944, 1997, 2001], [2004, 1839, 1887, 1888, 1889, 1890, 1891, 1892, 1893, 1945, 1946, 1948, 1949, 2003, 2005], [2010, 1895, 1896, 1897, 1952, 1953, 1954, 2011], [2035, 1864, 1865, 1866, 1867, 1922, 1923, 1924, 1978, 1979, 1980, 2036], [2041, 1819, 1820, 1870, 1871, 1872, 1873, 1874, 1875, 1925, 1926, 1927, 1928, 1929, 1930, 1931, 1983, 1987, 1988, 2042], [2060, 1894, 1950, 1951, 2007, 2008, 2009, 2061], [2104, 1947, 2002, 2055, 2056, 2057, 2058, 2105, 2270], [2110, 1898, 1899, 1900, 1901, 1902, 1955, 1956, 1957, 1958, 1959, 1960, 2012, 2013, 2014, 2015, 2062, 2063, 2064, 2065, 2111], [2116, 1961, 1962, 1963, 1964, 1965, 2016, 2017, 2018, 2066, 2112, 2156], [2119, 1910, 1966, 1967, 1968, 1969, 1970, 1971, 2019, 2020, 2021, 2022, 2023, 2024, 2025, 2070, 2071, 2072, 2073, 2074, 2117, 2118, 2120], [2128, 1917, 1918, 1919, 1920, 1921, 1973, 1974, 1975, 1976, 1977, 2030, 2031, 2032, 2033, 2034, 2082, 2083, 2127, 2129], [2146, 1995, 1996, 1998, 1999, 2048, 2049, 2050, 2051, 2052, 2053, 2054, 2098, 2099, 2100, 2101, 2103, 2147], [2167, 1972, 2026, 2028, 2029, 2078, 2079, 2080, 2081, 2124, 2125, 2126, 2168], [2179, 1984, 1985, 1986, 2038, 2039, 2040, 2090, 2091, 2138, 2180], [2182, 2043, 2046, 2047, 2092, 2093, 2094, 2095, 2096, 2097, 2139, 2140, 2141, 2142, 2143, 2144, 2181, 2183], [2196, 2006, 2059, 2106, 2107, 2108, 2109, 2152, 2153, 2154, 2155, 2195, 2197, 2234, 2235, 2302], [2207, 2027, 2075, 2076, 2077, 2121, 2122, 2123, 2165, 2208], [2256, 2037, 2084, 2085, 2086, 2087, 2088, 2089, 2130, 2131, 2132, 2133, 2134, 2135, 2136, 2137, 2173, 2174, 2175, 2176, 2177, 2178, 2217, 2218, 2219, 2220, 2254, 2255, 2257], [2258, 2184, 2185, 2221, 2222, 2223, 2259], [2268, 2102, 2148, 2149, 2150, 2151, 2191, 2192, 2193, 2194, 2230, 2231, 2232, 2233, 2269], [2274, 2067, 2068, 2069, 2113, 2114, 2115, 2157, 2158, 2159, 2160, 2161, 2162, 2163, 2164, 2198, 2199, 2200, 2201, 2202, 2236, 2237, 2238, 2239, 2240, 2275], [2295, 2145, 2186, 2187, 2188, 2189, 2190, 2224, 2225, 2226, 2227, 2228, 2229, 2260, 2261, 2263, 2265, 2266, 2267, 2290, 2291, 2317], [2315, 2169, 2170, 2171, 2172, 2212, 2213, 2214, 2215, 2216, 2251, 2252, 2253, 2287, 2288, 2289, 2316], [2328, 2273, 2329], [2332, 2203, 2204, 2205, 2206, 2241, 2242, 2243, 2244, 2276, 2277, 2278, 2279, 2303, 2304, 2305, 2306, 2330, 2331, 2333], [2337, 2166, 2209, 2210, 2211, 2245, 2246, 2247, 2248, 2249, 2250, 2280, 2281, 2282, 2283, 2284, 2285, 2286, 2307, 2308, 2309, 2310, 2311, 2312, 2313, 2314, 2334, 2335, 2336, 2338], [2350, 2271, 2272, 2300, 2301, 2327, 2351], [2356, 2262, 2264, 2292, 2293, 2294, 2296, 2297, 2319, 2321, 2322, 2343, 2344, 2357], [2361, 2298, 2299, 2323, 2324, 2325, 2326, 2345, 2346, 2347, 2348, 2349, 2359, 2362], [2373, 2318, 2320, 2339, 2340, 2341, 2342, 2352, 2353, 2354, 2355, 2363, 2364, 2365, 2372, 2374], [2379, 2358, 2360, 2366, 2367, 2368, 2369, 2370, 2371, 2377, 2380], [2405, 2375, 2376, 2381, 2382, 2384, 2389, 2390, 2400, 2401, 2406], [2409, 2378, 2386, 2387, 2388, 2396, 2397, 2398, 2399, 2407, 2408, 2410], [2416, 2383, 2385, 2391, 2392, 2393, 2394, 2395, 2402, 2403, 2404, 2411, 2412, 2413, 2414, 2415, 2417], [415], [667], [1245], [1538]]\n"
     ]
    }
   ],
   "source": [
    "Groups= [[] for i in range(len(Groupwise_locs)+len(additional_locs))]\n",
    "\n",
    "for i in range(len(Groupwise_locs)):\n",
    "    Groups[i].append(Cluster_reps[i])\n",
    "    for j in Groupwise_locs[i]:\n",
    "        Groups[i].append(j)\n",
    "\n",
    "for i in range(len(additional_locs)):\n",
    "    Groups[len(Groupwise_locs)+i].append(additional_locs[i])\n",
    "print(Groups)"
   ]
  },
  {
   "cell_type": "code",
   "execution_count": 51,
   "id": "a62ae7f4",
   "metadata": {
    "execution": {
     "iopub.execute_input": "2023-08-22T15:35:13.365889Z",
     "iopub.status.busy": "2023-08-22T15:35:13.365415Z",
     "iopub.status.idle": "2023-08-22T15:35:13.747335Z",
     "shell.execute_reply": "2023-08-22T15:35:13.745802Z"
    },
    "papermill": {
     "duration": 0.421211,
     "end_time": "2023-08-22T15:35:13.750078",
     "exception": false,
     "start_time": "2023-08-22T15:35:13.328867",
     "status": "completed"
    },
    "tags": []
   },
   "outputs": [
    {
     "data": {
      "image/png": "[encoded data removed]",
      "text/plain": [
       "<Figure size 432x288 with 1 Axes>"
      ]
     },
     "metadata": {
      "needs_background": "light"
     },
     "output_type": "display_data"
    }
   ],
   "source": [
    "import matplotlib.pyplot as plt\n",
    "\n",
    "# Create a scatter plot for selected cluster reference points\n",
    "long_cr=[long[i] for i in Cluster_reps]\n",
    "lat_cr=[lat[i] for i in Cluster_reps]\n",
    "\n",
    "plt.scatter(long_cr, lat_cr, color='green', s=2)\n",
    "\n",
    "\n",
    "# Create a scatter plot for eliminated points\n",
    "long_el=[long[i] for i in eliminated_locs]\n",
    "lat_el=[lat[i] for i in eliminated_locs]\n",
    "\n",
    "plt.scatter(long_el, lat_el, color='yellow', s=2)\n",
    "\n",
    "# Set labels and title\n",
    "plt.xlabel('Longitude')\n",
    "plt.ylabel('Latitude')\n",
    "plt.title('Group locations (blue) with eliminated locations (yellow)')\n",
    "\n",
    "# Show the plot\n",
    "plt.show()"
   ]
  },
  {
   "cell_type": "code",
   "execution_count": 52,
   "id": "20efcad1",
   "metadata": {
    "execution": {
     "iopub.execute_input": "2023-08-22T15:35:13.826351Z",
     "iopub.status.busy": "2023-08-22T15:35:13.825120Z",
     "iopub.status.idle": "2023-08-22T15:35:15.887052Z",
     "shell.execute_reply": "2023-08-22T15:35:15.885550Z"
    },
    "papermill": {
     "duration": 2.103387,
     "end_time": "2023-08-22T15:35:15.890182",
     "exception": false,
     "start_time": "2023-08-22T15:35:13.786795",
     "status": "completed"
    },
    "tags": []
   },
   "outputs": [
    {
     "data": {
      "image/png": "[encoded data removed]",
      "text/plain": [
       "<Figure size 432x288 with 1 Axes>"
      ]
     },
     "metadata": {
      "needs_background": "light"
     },
     "output_type": "display_data"
    }
   ],
   "source": [
    "import matplotlib.pyplot as plt\n",
    "from matplotlib import colors as mcolors\n",
    "\n",
    "\n",
    "# use colormap\n",
    "#colormap = ['r', 'g', 'b','y','c','m','k','pink','purple','skyblue','navy','azure','coral','olive']\n",
    "colormap = ['r', 'g', 'b','y','c','m','k','pink','purple','skyblue','navy','azure','coral','olive',\n",
    "    \"AliceBlue\", \"Aqua\", \"Aquamarine\", \"Azure\", \"Beige\", \"Bisque\", \"Black\",\n",
    "    \"BlanchedAlmond\", \"Blue\", \"BlueViolet\", \"Brown\", \"BurlyWood\", \"CadetBlue\", \"Chartreuse\",\n",
    "    \"Chocolate\", \"Coral\", \"CornflowerBlue\", \"Cornsilk\", \"Crimson\", \"Cyan\", \"DarkBlue\", \"DarkCyan\",\n",
    "    \"DarkGoldenRod\", \"DarkGray\", \"DarkGreen\", \"DarkKhaki\", \"DarkMagenta\", \"DarkOliveGreen\",\n",
    "    \"DarkOrange\", \"DarkOrchid\", \"DarkRed\", \"DarkSalmon\", \"DarkSeaGreen\", \"DarkSlateBlue\",\n",
    "    \"DarkSlateGray\", \"DarkTurquoise\", \"DarkViolet\", \"DeepPink\", \"DeepSkyBlue\", \"DimGray\",\n",
    "    \"DodgerBlue\", \"FireBrick\", \"FloralWhite\", \"ForestGreen\", \"Fuchsia\", \"Gainsboro\", \"GhostWhite\",\n",
    "    \"Gold\", \"GoldenRod\", \"Gray\", \"Green\", \"GreenYellow\", \"HoneyDew\", \"HotPink\", \"IndianRed\",\n",
    "    \"Indigo\", \"Ivory\", \"Khaki\", \"Lavender\", \"LavenderBlush\", \"LawnGreen\", \"LemonChiffon\",\n",
    "    \"LightBlue\", \"LightCoral\", \"LightCyan\", \"LightGoldenRodYellow\", \"LightGray\", \"LightGreen\",\n",
    "    \"LightPink\", \"LightSalmon\", \"LightSeaGreen\", \"LightSkyBlue\", \"LightSlateGray\", \"LightSteelBlue\",\n",
    "    \"LightYellow\", \"Lime\", \"LimeGreen\", \"Linen\", \"Magenta\", \"Maroon\", \"MediumAquaMarine\",\n",
    "    \"MediumBlue\", \"MediumOrchid\", \"MediumPurple\", \"MediumSeaGreen\", \"MediumSlateBlue\",\n",
    "    \"MediumSpringGreen\", \"MediumTurquoise\", \"MediumVioletRed\", \"MidnightBlue\", \"MintCream\",\n",
    "    \"MistyRose\", \"Moccasin\", \"NavajoWhite\", \"Navy\", \"OldLace\", \"Olive\", \"OliveDrab\", \"Orange\",\n",
    "    \"OrangeRed\", \"Orchid\", \"PaleGoldenRod\", \"PaleGreen\", \"PaleTurquoise\", \"PaleVioletRed\",\n",
    "    \"PapayaWhip\", \"PeachPuff\", \"Peru\", \"Pink\", \"Plum\", \"PowderBlue\", \"Purple\", \"RebeccaPurple\",\n",
    "    \"Red\", \"RosyBrown\", \"RoyalBlue\", \"SaddleBrown\", \"Salmon\", \"SandyBrown\", \"SeaGreen\", \"SeaShell\",\n",
    "    \"Sienna\", \"Silver\", \"SkyBlue\", \"SlateBlue\", \"SlateGray\", \"Snow\", \"SpringGreen\", \"SteelBlue\",\n",
    "    \"Tan\", \"Teal\", \"Thistle\", \"Tomato\", \"Turquoise\", \"Violet\", \"Wheat\", \n",
    "    \"Yellow\", \"YellowGreen\"\n",
    "]\n",
    "\n",
    "\n",
    "for j in range(len(Groups)):\n",
    "    long_temp=[long[i] for i in Groups[j]]\n",
    "    lat_temp=[lat[i] for i in Groups[j]]\n",
    "    plt.scatter(long_temp, lat_temp, color=colormap[j% len(colormap)], s=20)\n",
    "\n",
    "\n",
    "\n",
    "\n",
    "# Set labels and title\n",
    "plt.xlabel('Longitude')\n",
    "plt.ylabel('Lattitude')\n",
    "plt.title('Groupwise harvesting locations ')\n",
    "\n",
    "# Show the plot\n",
    "plt.show()\n"
   ]
  },
  {
   "cell_type": "code",
   "execution_count": 53,
   "id": "ef4c52c4",
   "metadata": {
    "execution": {
     "iopub.execute_input": "2023-08-22T15:35:15.969055Z",
     "iopub.status.busy": "2023-08-22T15:35:15.967821Z",
     "iopub.status.idle": "2023-08-22T15:37:04.804390Z",
     "shell.execute_reply": "2023-08-22T15:37:04.802976Z"
    },
    "papermill": {
     "duration": 108.878385,
     "end_time": "2023-08-22T15:37:04.807551",
     "exception": false,
     "start_time": "2023-08-22T15:35:15.929166",
     "status": "completed"
    },
    "tags": []
   },
   "outputs": [],
   "source": [
    "Dist_groups = Dist\n",
    "grouplen= len(Groups)\n",
    "\n",
    "for i in range(grouplen):\n",
    "    group_captain = Groups[i][0]\n",
    "    \n",
    "    #print(group_captain)\n",
    "    for k in Harvesting_Site:        \n",
    "            #print(sum([Dist[j+1][k+1] for j in Groups[i]]))\n",
    "            Dist_groups[group_captain+1][k+1]=  sum([Dist[j+1][k+1] for j in Groups[i]])\n",
    "    \n",
    "        \n",
    "    "
   ]
  },
  {
   "cell_type": "code",
   "execution_count": 54,
   "id": "57f6f952",
   "metadata": {
    "execution": {
     "iopub.execute_input": "2023-08-22T15:37:04.886948Z",
     "iopub.status.busy": "2023-08-22T15:37:04.886478Z",
     "iopub.status.idle": "2023-08-22T15:37:04.915390Z",
     "shell.execute_reply": "2023-08-22T15:37:04.913903Z"
    },
    "papermill": {
     "duration": 0.07034,
     "end_time": "2023-08-22T15:37:04.918298",
     "exception": false,
     "start_time": "2023-08-22T15:37:04.847958",
     "status": "completed"
    },
    "tags": []
   },
   "outputs": [
    {
     "data": {
      "text/plain": [
       "[1,\n",
       " 27,\n",
       " 38,\n",
       " 47,\n",
       " 63,\n",
       " 66,\n",
       " 82,\n",
       " 97,\n",
       " 137,\n",
       " 140,\n",
       " 158,\n",
       " 170,\n",
       " 178,\n",
       " 225,\n",
       " 231,\n",
       " 234,\n",
       " 255,\n",
       " 268,\n",
       " 279,\n",
       " 302,\n",
       " 314,\n",
       " 328,\n",
       " 329,\n",
       " 370,\n",
       " 372,\n",
       " 375,\n",
       " 392,\n",
       " 401,\n",
       " 428,\n",
       " 447,\n",
       " 453,\n",
       " 455,\n",
       " 457,\n",
       " 459,\n",
       " 483,\n",
       " 488,\n",
       " 494,\n",
       " 524,\n",
       " 528,\n",
       " 535,\n",
       " 601,\n",
       " 618,\n",
       " 628,\n",
       " 662,\n",
       " 669,\n",
       " 675,\n",
       " 702,\n",
       " 704,\n",
       " 710,\n",
       " 722,\n",
       " 757,\n",
       " 772,\n",
       " 784,\n",
       " 794,\n",
       " 815,\n",
       " 830,\n",
       " 866,\n",
       " 871,\n",
       " 892,\n",
       " 899,\n",
       " 916,\n",
       " 948,\n",
       " 969,\n",
       " 981,\n",
       " 987,\n",
       " 1000,\n",
       " 1029,\n",
       " 1031,\n",
       " 1069,\n",
       " 1076,\n",
       " 1102,\n",
       " 1115,\n",
       " 1146,\n",
       " 1190,\n",
       " 1192,\n",
       " 1208,\n",
       " 1217,\n",
       " 1224,\n",
       " 1241,\n",
       " 1251,\n",
       " 1258,\n",
       " 1296,\n",
       " 1336,\n",
       " 1345,\n",
       " 1371,\n",
       " 1374,\n",
       " 1380,\n",
       " 1395,\n",
       " 1420,\n",
       " 1431,\n",
       " 1450,\n",
       " 1463,\n",
       " 1470,\n",
       " 1503,\n",
       " 1508,\n",
       " 1515,\n",
       " 1543,\n",
       " 1549,\n",
       " 1589,\n",
       " 1597,\n",
       " 1603,\n",
       " 1618,\n",
       " 1642,\n",
       " 1665,\n",
       " 1675,\n",
       " 1682,\n",
       " 1687,\n",
       " 1694,\n",
       " 1728,\n",
       " 1760,\n",
       " 1779,\n",
       " 1809,\n",
       " 1821,\n",
       " 1825,\n",
       " 1830,\n",
       " 1837,\n",
       " 1841,\n",
       " 1845,\n",
       " 1908,\n",
       " 1915,\n",
       " 1981,\n",
       " 1993,\n",
       " 2000,\n",
       " 2004,\n",
       " 2010,\n",
       " 2035,\n",
       " 2041,\n",
       " 2060,\n",
       " 2104,\n",
       " 2110,\n",
       " 2116,\n",
       " 2119,\n",
       " 2128,\n",
       " 2146,\n",
       " 2167,\n",
       " 2179,\n",
       " 2182,\n",
       " 2196,\n",
       " 2207,\n",
       " 2256,\n",
       " 2258,\n",
       " 2268,\n",
       " 2274,\n",
       " 2295,\n",
       " 2315,\n",
       " 2328,\n",
       " 2332,\n",
       " 2337,\n",
       " 2350,\n",
       " 2356,\n",
       " 2361,\n",
       " 2373,\n",
       " 2379,\n",
       " 2405,\n",
       " 2409,\n",
       " 2416]"
      ]
     },
     "execution_count": 54,
     "metadata": {},
     "output_type": "execute_result"
    }
   ],
   "source": [
    "groupwise_biofuel =[0 for i in Harvesting_Site]\n",
    "\n",
    "for i in range(grouplen):\n",
    "    group_captain = Groups[i][0]     \n",
    "    #print(group_captain)\n",
    "    groupwise_biofuel[group_captain]=sum([forecasted_biomass_scaled[j] for j in Groups[i]])        \n",
    "#print(groupwise_biofuel)\n",
    "Cluster_reps"
   ]
  },
  {
   "cell_type": "code",
   "execution_count": 55,
   "id": "79809ddc",
   "metadata": {
    "execution": {
     "iopub.execute_input": "2023-08-22T15:37:04.996575Z",
     "iopub.status.busy": "2023-08-22T15:37:04.995765Z",
     "iopub.status.idle": "2023-08-22T15:37:05.002083Z",
     "shell.execute_reply": "2023-08-22T15:37:05.000844Z"
    },
    "papermill": {
     "duration": 0.055466,
     "end_time": "2023-08-22T15:37:05.011132",
     "exception": false,
     "start_time": "2023-08-22T15:37:04.955666",
     "status": "completed"
    },
    "tags": []
   },
   "outputs": [],
   "source": [
    "Harvesting_Site_Group=cluster_reps\n",
    "Depot_Group = cluster_reps\n",
    "Refinery_Group = cluster_reps\n",
    "\n",
    "total_groupwise_biomass = sum(groupwise_biofuel)\n",
    "\n",
    "large_number = 999999999\n",
    "A=1000\n",
    "B=1\n",
    "C=1"
   ]
  },
  {
   "cell_type": "code",
   "execution_count": 56,
   "id": "87581b17",
   "metadata": {
    "execution": {
     "iopub.execute_input": "2023-08-22T15:37:05.087348Z",
     "iopub.status.busy": "2023-08-22T15:37:05.086462Z",
     "iopub.status.idle": "2023-08-22T15:37:05.968809Z",
     "shell.execute_reply": "2023-08-22T15:37:05.967766Z"
    },
    "papermill": {
     "duration": 0.923342,
     "end_time": "2023-08-22T15:37:05.971429",
     "exception": false,
     "start_time": "2023-08-22T15:37:05.048087",
     "status": "completed"
    },
    "tags": []
   },
   "outputs": [],
   "source": [
    "model = cp_model.CpModel()\n",
    "\n",
    "\n",
    "#### Biomass demand-supply flow varivale \n",
    "Biomass = {}\n",
    "for i  in Harvesting_Site_Group:  \n",
    "    for j in Depot_Group:        \n",
    "        Biomass[i,j] = model.NewIntVar(0,int(groupwise_biofuel[i]),'depot_flow[%i,%i]' % (i, j))    ### C2 \n",
    "        \n",
    "#### Pellet transported  flow varivale        \n",
    "Pellet =  {}\n",
    "for j  in Depot_Group:  \n",
    "    for k in Refinery_Group:        \n",
    "        Pellet[j, k] = model.NewIntVar(0,depot_capacity,'refinary_flow[%i,%i]' % (j, k))  \n",
    "\n",
    "\n",
    "      \n",
    " ###Three Objective variables\n",
    "\n",
    "cost_transport =                model.NewIntVar(0,large_number,'cost_transport')\n",
    "cost_transport_A =                model.NewIntVar(0,large_number,'cost_transport')\n",
    "cost_transport_biomass =        model.NewIntVar(0,large_number,'cost_transport_biomass')\n",
    "cost_transport_pellet =         model.NewIntVar(0,large_number,'cost_transport_pellet')\n",
    "cost_forecast =                 model.NewIntVar(0,large_number,'cost_forecast')\n",
    "cost_underutilization =         model.NewIntVar(0,large_number,'Cost_Underutilization')\n",
    "cost=                           model.NewIntVar(0,large_number,'Cost')"
   ]
  },
  {
   "cell_type": "code",
   "execution_count": 57,
   "id": "2e729ee4",
   "metadata": {
    "execution": {
     "iopub.execute_input": "2023-08-22T15:37:06.053619Z",
     "iopub.status.busy": "2023-08-22T15:37:06.052439Z",
     "iopub.status.idle": "2023-08-22T15:37:06.833874Z",
     "shell.execute_reply": "2023-08-22T15:37:06.832277Z"
    },
    "papermill": {
     "duration": 0.825304,
     "end_time": "2023-08-22T15:37:06.838250",
     "exception": false,
     "start_time": "2023-08-22T15:37:06.012946",
     "status": "completed"
    },
    "tags": []
   },
   "outputs": [],
   "source": [
    "#### Harvesting site- Depot binary varivale \n",
    "Site_Depot = {}\n",
    "for i  in Harvesting_Site_Group:  \n",
    "    for j in Depot_Group:        \n",
    "        Site_Depot[i,j] = model.NewIntVar(0,1,'site_depot[%i,%i]' % (i, j))   \n",
    "        \n",
    "        \n",
    "#### Pellet transported  flow varivale        \n",
    "Depot_Refinery =  {}\n",
    "for j  in Depot_Group:  \n",
    "    for k in Refinery_Group:        \n",
    "        Depot_Refinery[j, k] = model.NewIntVar(0,1,'depot_refinery[%i,%i]' % (j, k))"
   ]
  },
  {
   "cell_type": "code",
   "execution_count": 58,
   "id": "15d22a34",
   "metadata": {
    "execution": {
     "iopub.execute_input": "2023-08-22T15:37:06.916781Z",
     "iopub.status.busy": "2023-08-22T15:37:06.916339Z",
     "iopub.status.idle": "2023-08-22T15:37:06.926215Z",
     "shell.execute_reply": "2023-08-22T15:37:06.924920Z"
    },
    "papermill": {
     "duration": 0.05233,
     "end_time": "2023-08-22T15:37:06.928826",
     "exception": false,
     "start_time": "2023-08-22T15:37:06.876496",
     "status": "completed"
    },
    "tags": []
   },
   "outputs": [],
   "source": [
    "#### Depot selection binary variable\n",
    "dp = {}\n",
    "for j in Depot_Group:\n",
    "    dp[j] = model.NewIntVar(0,1,'depot' ) \n",
    "    \n",
    "    \n",
    "#### Refinery selection binary variable\n",
    "rf = {}\n",
    "for j in Refinery_Group:\n",
    "    rf[j] = model.NewIntVar(0,1,'refinery' )"
   ]
  },
  {
   "cell_type": "code",
   "execution_count": 59,
   "id": "1e9a0ad8",
   "metadata": {
    "execution": {
     "iopub.execute_input": "2023-08-22T15:37:07.012342Z",
     "iopub.status.busy": "2023-08-22T15:37:07.011898Z",
     "iopub.status.idle": "2023-08-22T15:37:07.447792Z",
     "shell.execute_reply": "2023-08-22T15:37:07.446329Z"
    },
    "papermill": {
     "duration": 0.483278,
     "end_time": "2023-08-22T15:37:07.451083",
     "exception": false,
     "start_time": "2023-08-22T15:37:06.967805",
     "status": "completed"
    },
    "tags": []
   },
   "outputs": [],
   "source": [
    "for j in Depot_Group:\n",
    "    model.Add(sum([Pellet[j,k] for k  in Refinery_Group])<=depot_capacity) "
   ]
  },
  {
   "cell_type": "code",
   "execution_count": 60,
   "id": "d92c2426",
   "metadata": {
    "execution": {
     "iopub.execute_input": "2023-08-22T15:37:07.531235Z",
     "iopub.status.busy": "2023-08-22T15:37:07.530762Z",
     "iopub.status.idle": "2023-08-22T15:37:07.974615Z",
     "shell.execute_reply": "2023-08-22T15:37:07.973161Z"
    },
    "papermill": {
     "duration": 0.487613,
     "end_time": "2023-08-22T15:37:07.977433",
     "exception": false,
     "start_time": "2023-08-22T15:37:07.489820",
     "status": "completed"
    },
    "tags": []
   },
   "outputs": [],
   "source": [
    "for k in Refinery_Group:\n",
    "    model.Add(sum([Pellet[j,k] for j  in Depot_Group])<=ref_capacity) "
   ]
  },
  {
   "cell_type": "code",
   "execution_count": 61,
   "id": "6a9be9dc",
   "metadata": {
    "execution": {
     "iopub.execute_input": "2023-08-22T15:37:08.058402Z",
     "iopub.status.busy": "2023-08-22T15:37:08.057601Z",
     "iopub.status.idle": "2023-08-22T15:37:08.489516Z",
     "shell.execute_reply": "2023-08-22T15:37:08.488341Z"
    },
    "papermill": {
     "duration": 0.47363,
     "end_time": "2023-08-22T15:37:08.492298",
     "exception": false,
     "start_time": "2023-08-22T15:37:08.018668",
     "status": "completed"
    },
    "tags": []
   },
   "outputs": [
    {
     "data": {
      "text/plain": [
       "<ortools.sat.python.cp_model.Constraint at 0x21cc5d35448>"
      ]
     },
     "execution_count": 61,
     "metadata": {},
     "output_type": "execute_result"
    }
   ],
   "source": [
    "model.Add(sum([Pellet[j,k] for j  in Depot_Group for k in Refinery_Group ])>= int(0.8*total_groupwise_biomass))"
   ]
  },
  {
   "cell_type": "code",
   "execution_count": 62,
   "id": "882a943b",
   "metadata": {
    "execution": {
     "iopub.execute_input": "2023-08-22T15:37:08.572056Z",
     "iopub.status.busy": "2023-08-22T15:37:08.571619Z",
     "iopub.status.idle": "2023-08-22T15:37:09.020321Z",
     "shell.execute_reply": "2023-08-22T15:37:09.019139Z"
    },
    "papermill": {
     "duration": 0.492001,
     "end_time": "2023-08-22T15:37:09.023093",
     "exception": false,
     "start_time": "2023-08-22T15:37:08.531092",
     "status": "completed"
    },
    "tags": []
   },
   "outputs": [
    {
     "data": {
      "text/plain": [
       "<ortools.sat.python.cp_model.Constraint at 0x21cc5cb5608>"
      ]
     },
     "execution_count": 62,
     "metadata": {},
     "output_type": "execute_result"
    }
   ],
   "source": [
    "model.Add(sum([Biomass[i,j] for j  in Depot_Group for i in Harvesting_Site_Group ])<= int(total_groupwise_biomass))"
   ]
  },
  {
   "cell_type": "code",
   "execution_count": 63,
   "id": "d97bdc45",
   "metadata": {
    "execution": {
     "iopub.execute_input": "2023-08-22T15:37:09.101903Z",
     "iopub.status.busy": "2023-08-22T15:37:09.101470Z",
     "iopub.status.idle": "2023-08-22T15:37:09.947967Z",
     "shell.execute_reply": "2023-08-22T15:37:09.946685Z"
    },
    "papermill": {
     "duration": 0.889808,
     "end_time": "2023-08-22T15:37:09.951031",
     "exception": false,
     "start_time": "2023-08-22T15:37:09.061223",
     "status": "completed"
    },
    "tags": []
   },
   "outputs": [],
   "source": [
    "for j in Depot_Group:\n",
    "    model.Add(sum([Biomass[i,j] for i  in Harvesting_Site_Group])==sum([Pellet[j,k] for k  in Refinery_Group]))"
   ]
  },
  {
   "cell_type": "code",
   "execution_count": 64,
   "id": "1d0e5782",
   "metadata": {
    "execution": {
     "iopub.execute_input": "2023-08-22T15:37:10.035240Z",
     "iopub.status.busy": "2023-08-22T15:37:10.034764Z",
     "iopub.status.idle": "2023-08-22T15:37:12.534411Z",
     "shell.execute_reply": "2023-08-22T15:37:12.533017Z"
    },
    "papermill": {
     "duration": 2.548393,
     "end_time": "2023-08-22T15:37:12.537369",
     "exception": false,
     "start_time": "2023-08-22T15:37:09.988976",
     "status": "completed"
    },
    "tags": []
   },
   "outputs": [],
   "source": [
    "for i  in Harvesting_Site_Group:  \n",
    "    for j in Depot_Group:\n",
    "        model.Add(Biomass[i,j]>0).OnlyEnforceIf(Site_Depot[i,j])\n",
    "        model.Add(Biomass[i,j]==0).OnlyEnforceIf(Site_Depot[i,j].Not())\n",
    "        #model.Add(z[i,j]<=dp[j])"
   ]
  },
  {
   "cell_type": "code",
   "execution_count": 65,
   "id": "be829560",
   "metadata": {
    "execution": {
     "iopub.execute_input": "2023-08-22T15:37:12.615148Z",
     "iopub.status.busy": "2023-08-22T15:37:12.614234Z",
     "iopub.status.idle": "2023-08-22T15:37:14.742441Z",
     "shell.execute_reply": "2023-08-22T15:37:14.741025Z"
    },
    "papermill": {
     "duration": 2.170799,
     "end_time": "2023-08-22T15:37:14.745435",
     "exception": false,
     "start_time": "2023-08-22T15:37:12.574636",
     "status": "completed"
    },
    "tags": []
   },
   "outputs": [],
   "source": [
    "for j  in Depot_Group:  \n",
    "    for k in Refinery_Group:\n",
    "        model.Add(Pellet[j,k]>0).OnlyEnforceIf(Depot_Refinery[j,k])\n",
    "        model.Add(Pellet[j,k]==0).OnlyEnforceIf(Depot_Refinery[j,k].Not())\n",
    "        #model.Add(z[i,j]<=dp[j])"
   ]
  },
  {
   "cell_type": "code",
   "execution_count": 66,
   "id": "345428a6",
   "metadata": {
    "execution": {
     "iopub.execute_input": "2023-08-22T15:37:14.823078Z",
     "iopub.status.busy": "2023-08-22T15:37:14.822578Z",
     "iopub.status.idle": "2023-08-22T15:37:14.833072Z",
     "shell.execute_reply": "2023-08-22T15:37:14.832228Z"
    },
    "papermill": {
     "duration": 0.052534,
     "end_time": "2023-08-22T15:37:14.835367",
     "exception": false,
     "start_time": "2023-08-22T15:37:14.782833",
     "status": "completed"
    },
    "tags": []
   },
   "outputs": [
    {
     "data": {
      "text/plain": [
       "<ortools.sat.python.cp_model.Constraint at 0x21cc71f3d88>"
      ]
     },
     "execution_count": 66,
     "metadata": {},
     "output_type": "execute_result"
    }
   ],
   "source": [
    "model.Add(sum([dp[j] for j in Depot_Group])<=25)\n"
   ]
  },
  {
   "cell_type": "code",
   "execution_count": 67,
   "id": "7b10429f",
   "metadata": {
    "execution": {
     "iopub.execute_input": "2023-08-22T15:37:14.915922Z",
     "iopub.status.busy": "2023-08-22T15:37:14.915431Z",
     "iopub.status.idle": "2023-08-22T15:37:14.928386Z",
     "shell.execute_reply": "2023-08-22T15:37:14.927396Z"
    },
    "papermill": {
     "duration": 0.056816,
     "end_time": "2023-08-22T15:37:14.930785",
     "exception": false,
     "start_time": "2023-08-22T15:37:14.873969",
     "status": "completed"
    },
    "tags": []
   },
   "outputs": [
    {
     "data": {
      "text/plain": [
       "<ortools.sat.python.cp_model.Constraint at 0x21cc5cf5ac8>"
      ]
     },
     "execution_count": 67,
     "metadata": {},
     "output_type": "execute_result"
    }
   ],
   "source": [
    "model.Add(sum([rf[k] for k in Refinery_Group])<=5)"
   ]
  },
  {
   "cell_type": "code",
   "execution_count": 68,
   "id": "273b0bc3",
   "metadata": {
    "execution": {
     "iopub.execute_input": "2023-08-22T15:37:15.012013Z",
     "iopub.status.busy": "2023-08-22T15:37:15.011466Z",
     "iopub.status.idle": "2023-08-22T15:37:17.803901Z",
     "shell.execute_reply": "2023-08-22T15:37:17.802697Z"
    },
    "papermill": {
     "duration": 2.839278,
     "end_time": "2023-08-22T15:37:17.807421",
     "exception": false,
     "start_time": "2023-08-22T15:37:14.968143",
     "status": "completed"
    },
    "tags": []
   },
   "outputs": [],
   "source": [
    "for j  in Depot_Group:  \n",
    "    for k in Refinery_Group:        \n",
    "        model.Add(Depot_Refinery[j,k]<=rf[k])\n",
    "        #model.Add(Depot_Refinery[j,k]<=dp[j])\n",
    "        \n",
    "for i  in Harvesting_Site_Group:  \n",
    "    for j in Depot_Group:\n",
    "        model.Add(Site_Depot[i,j]<=dp[j])\n",
    "        "
   ]
  },
  {
   "cell_type": "code",
   "execution_count": 69,
   "id": "264db3c2",
   "metadata": {
    "execution": {
     "iopub.execute_input": "2023-08-22T15:37:17.889188Z",
     "iopub.status.busy": "2023-08-22T15:37:17.888761Z",
     "iopub.status.idle": "2023-08-22T15:37:18.967232Z",
     "shell.execute_reply": "2023-08-22T15:37:18.965727Z"
    },
    "papermill": {
     "duration": 1.1216,
     "end_time": "2023-08-22T15:37:18.969665",
     "exception": false,
     "start_time": "2023-08-22T15:37:17.848065",
     "status": "completed"
    },
    "tags": []
   },
   "outputs": [
    {
     "data": {
      "text/plain": [
       "<ortools.sat.python.cp_model.Constraint at 0x21ccdd60588>"
      ]
     },
     "execution_count": 69,
     "metadata": {},
     "output_type": "execute_result"
    }
   ],
   "source": [
    "model.Add(cost_transport_biomass==sum([int(Dist_groups[i+1][j+1])*Site_Depot[i,j]  for i  in Harvesting_Site_Group for j  in Depot_Group]))"
   ]
  },
  {
   "cell_type": "code",
   "execution_count": 70,
   "id": "3f3161c0",
   "metadata": {
    "execution": {
     "iopub.execute_input": "2023-08-22T15:37:19.055769Z",
     "iopub.status.busy": "2023-08-22T15:37:19.055274Z",
     "iopub.status.idle": "2023-08-22T15:37:20.416396Z",
     "shell.execute_reply": "2023-08-22T15:37:20.414961Z"
    },
    "papermill": {
     "duration": 1.405639,
     "end_time": "2023-08-22T15:37:20.419213",
     "exception": false,
     "start_time": "2023-08-22T15:37:19.013574",
     "status": "completed"
    },
    "tags": []
   },
   "outputs": [
    {
     "data": {
      "text/plain": [
       "<ortools.sat.python.cp_model.Constraint at 0x21ccdd20548>"
      ]
     },
     "execution_count": 70,
     "metadata": {},
     "output_type": "execute_result"
    }
   ],
   "source": [
    "model.Add(cost_transport_pellet==sum([int(Dist_groups[j+1][k+1])*Depot_Refinery[j,k]   for j  in Depot_Group for k  in Refinery_Group]))"
   ]
  },
  {
   "cell_type": "code",
   "execution_count": 71,
   "id": "eb116565",
   "metadata": {
    "execution": {
     "iopub.execute_input": "2023-08-22T15:37:20.500849Z",
     "iopub.status.busy": "2023-08-22T15:37:20.500356Z",
     "iopub.status.idle": "2023-08-22T15:37:20.508764Z",
     "shell.execute_reply": "2023-08-22T15:37:20.507461Z"
    },
    "papermill": {
     "duration": 0.052783,
     "end_time": "2023-08-22T15:37:20.511593",
     "exception": false,
     "start_time": "2023-08-22T15:37:20.458810",
     "status": "completed"
    },
    "tags": []
   },
   "outputs": [
    {
     "data": {
      "text/plain": [
       "<ortools.sat.python.cp_model.Constraint at 0x21ccdd60408>"
      ]
     },
     "execution_count": 71,
     "metadata": {},
     "output_type": "execute_result"
    }
   ],
   "source": [
    "model.Add(cost_transport==cost_transport_biomass+cost_transport_pellet)"
   ]
  },
  {
   "cell_type": "code",
   "execution_count": 72,
   "id": "0cfc62ff",
   "metadata": {
    "execution": {
     "iopub.execute_input": "2023-08-22T15:37:20.590887Z",
     "iopub.status.busy": "2023-08-22T15:37:20.590398Z",
     "iopub.status.idle": "2023-08-22T15:37:21.482918Z",
     "shell.execute_reply": "2023-08-22T15:37:21.481686Z"
    },
    "papermill": {
     "duration": 0.935326,
     "end_time": "2023-08-22T15:37:21.485509",
     "exception": false,
     "start_time": "2023-08-22T15:37:20.550183",
     "status": "completed"
    },
    "tags": []
   },
   "outputs": [
    {
     "data": {
      "text/plain": [
       "<ortools.sat.python.cp_model.Constraint at 0x21ccdbee4c8>"
      ]
     },
     "execution_count": 72,
     "metadata": {},
     "output_type": "execute_result"
    }
   ],
   "source": [
    "model.Add(cost_underutilization==(25*depot_capacity-sum([Biomass[i,j] for i  in Harvesting_Site_Group for j in Depot_Group]))+(5*ref_capacity-sum([Pellet[j,k] for k  in Refinery_Group for j in Depot_Group])))"
   ]
  },
  {
   "cell_type": "code",
   "execution_count": 73,
   "id": "2e1e31ea",
   "metadata": {
    "execution": {
     "iopub.execute_input": "2023-08-22T15:37:21.565571Z",
     "iopub.status.busy": "2023-08-22T15:37:21.565124Z",
     "iopub.status.idle": "2023-08-22T15:37:21.573122Z",
     "shell.execute_reply": "2023-08-22T15:37:21.571775Z"
    },
    "papermill": {
     "duration": 0.050623,
     "end_time": "2023-08-22T15:37:21.575661",
     "exception": false,
     "start_time": "2023-08-22T15:37:21.525038",
     "status": "completed"
    },
    "tags": []
   },
   "outputs": [
    {
     "data": {
      "text/plain": [
       "<ortools.sat.python.cp_model.Constraint at 0x21ca34f8308>"
      ]
     },
     "execution_count": 73,
     "metadata": {},
     "output_type": "execute_result"
    }
   ],
   "source": [
    "model.AddDivisionEquality(cost_transport_A,cost_transport,A)"
   ]
  },
  {
   "cell_type": "code",
   "execution_count": 74,
   "id": "514dbae9",
   "metadata": {
    "execution": {
     "iopub.execute_input": "2023-08-22T15:37:21.653587Z",
     "iopub.status.busy": "2023-08-22T15:37:21.653141Z",
     "iopub.status.idle": "2023-08-22T15:37:21.661318Z",
     "shell.execute_reply": "2023-08-22T15:37:21.660033Z"
    },
    "papermill": {
     "duration": 0.049871,
     "end_time": "2023-08-22T15:37:21.663544",
     "exception": false,
     "start_time": "2023-08-22T15:37:21.613673",
     "status": "completed"
    },
    "tags": []
   },
   "outputs": [
    {
     "data": {
      "text/plain": [
       "<ortools.sat.python.cp_model.Constraint at 0x21cc72e8548>"
      ]
     },
     "execution_count": 74,
     "metadata": {},
     "output_type": "execute_result"
    }
   ],
   "source": [
    "model.Add(cost==cost_transport_A+B*cost_forecast+C*cost_underutilization)"
   ]
  },
  {
   "cell_type": "code",
   "execution_count": 75,
   "id": "075cdc77",
   "metadata": {
    "execution": {
     "iopub.execute_input": "2023-08-22T15:37:21.741254Z",
     "iopub.status.busy": "2023-08-22T15:37:21.740882Z",
     "iopub.status.idle": "2023-08-22T15:37:21.746051Z",
     "shell.execute_reply": "2023-08-22T15:37:21.744683Z"
    },
    "papermill": {
     "duration": 0.047337,
     "end_time": "2023-08-22T15:37:21.748653",
     "exception": false,
     "start_time": "2023-08-22T15:37:21.701316",
     "status": "completed"
    },
    "tags": []
   },
   "outputs": [],
   "source": [
    "model.Minimize(cost)"
   ]
  },
  {
   "cell_type": "code",
   "execution_count": 76,
   "id": "81ec21b0",
   "metadata": {
    "execution": {
     "iopub.execute_input": "2023-08-22T15:37:21.827733Z",
     "iopub.status.busy": "2023-08-22T15:37:21.827179Z",
     "iopub.status.idle": "2023-08-22T15:47:24.475385Z",
     "shell.execute_reply": "2023-08-22T15:47:24.473075Z"
    },
    "papermill": {
     "duration": 602.691979,
     "end_time": "2023-08-22T15:47:24.479047",
     "exception": false,
     "start_time": "2023-08-22T15:37:21.787068",
     "status": "completed"
    },
    "tags": []
   },
   "outputs": [
    {
     "name": "stdout",
     "output_type": "stream",
     "text": [
      "\n",
      "FEASIBLE\n",
      "Time = 607.7987140999999 seconds\n"
     ]
    }
   ],
   "source": [
    "import time\n",
    "start_time_cp = time.perf_counter()\n",
    "print()   \n",
    "#db = model.NewSearchPhase(s, cp_model.INT_VAR_SIMPLE, cp_model.INT_VALUE_SIMPLE_ORDERED)\n",
    "solver = cp_model.CpSolver()\n",
    "solver.parameters.max_time_in_seconds = 600\n",
    "solver.parameters.num_search_workers = 8\n",
    "#solver.parameters.search_branching = 8\n",
    "solver.parameters.log_search_progress = True\n",
    "status = solver.Solve(model)\n",
    "print(solver.StatusName(status))\n",
    "\n",
    "print(\"Time =\", time.perf_counter() - start_time_cp, \"seconds\")\n",
    "Time_cp = time.perf_counter() - start_time_cp"
   ]
  },
  {
   "cell_type": "code",
   "execution_count": 77,
   "id": "459ebe92",
   "metadata": {
    "execution": {
     "iopub.execute_input": "2023-08-22T15:47:24.575237Z",
     "iopub.status.busy": "2023-08-22T15:47:24.573974Z",
     "iopub.status.idle": "2023-08-22T15:47:24.580780Z",
     "shell.execute_reply": "2023-08-22T15:47:24.579758Z"
    },
    "papermill": {
     "duration": 0.05857,
     "end_time": "2023-08-22T15:47:24.583224",
     "exception": false,
     "start_time": "2023-08-22T15:47:24.524654",
     "status": "completed"
    },
    "tags": []
   },
   "outputs": [
    {
     "name": "stdout",
     "output_type": "stream",
     "text": [
      "314712\n"
     ]
    }
   ],
   "source": [
    "print(solver.Value(cost))"
   ]
  },
  {
   "cell_type": "code",
   "execution_count": 78,
   "id": "5e238960",
   "metadata": {
    "execution": {
     "iopub.execute_input": "2023-08-22T15:47:24.678250Z",
     "iopub.status.busy": "2023-08-22T15:47:24.677731Z",
     "iopub.status.idle": "2023-08-22T15:47:24.687756Z",
     "shell.execute_reply": "2023-08-22T15:47:24.686654Z"
    },
    "papermill": {
     "duration": 0.060716,
     "end_time": "2023-08-22T15:47:24.690474",
     "exception": false,
     "start_time": "2023-08-22T15:47:24.629758",
     "status": "completed"
    },
    "tags": []
   },
   "outputs": [
    {
     "name": "stdout",
     "output_type": "stream",
     "text": [
      "19 5\n"
     ]
    }
   ],
   "source": [
    "Final_depots = [j for j in Depot_Group if solver.Value(dp[j]) >0 ]\n",
    "Final_refineries = [k for k in Refinery_Group if solver.Value(rf[k]) >0 ]\n",
    "print(len(Final_depots), len(Final_refineries))"
   ]
  },
  {
   "cell_type": "code",
   "execution_count": 79,
   "id": "c948f725",
   "metadata": {
    "execution": {
     "iopub.execute_input": "2023-08-22T15:47:24.779955Z",
     "iopub.status.busy": "2023-08-22T15:47:24.779122Z",
     "iopub.status.idle": "2023-08-22T15:47:24.786813Z",
     "shell.execute_reply": "2023-08-22T15:47:24.785362Z"
    },
    "papermill": {
     "duration": 0.055429,
     "end_time": "2023-08-22T15:47:24.789549",
     "exception": false,
     "start_time": "2023-08-22T15:47:24.734120",
     "status": "completed"
    },
    "tags": []
   },
   "outputs": [
    {
     "name": "stdout",
     "output_type": "stream",
     "text": [
      "Depots:\n",
      "[1, 47, 38, 27, 97, 82, 63, 66, 170, 225, 871, 830, 866, 987, 1217, 1760, 415, 667, 1538]\n",
      "\n",
      "Refineries:\n",
      "[1, 47, 38, 178, 1208]\n"
     ]
    }
   ],
   "source": [
    "print('Depots:')\n",
    "print(Final_depots)\n",
    "print('\\nRefineries:')\n",
    "print(Final_refineries)"
   ]
  },
  {
   "cell_type": "code",
   "execution_count": 80,
   "id": "77fd789e",
   "metadata": {
    "execution": {
     "iopub.execute_input": "2023-08-22T15:47:24.879046Z",
     "iopub.status.busy": "2023-08-22T15:47:24.877894Z",
     "iopub.status.idle": "2023-08-22T15:47:25.038232Z",
     "shell.execute_reply": "2023-08-22T15:47:25.036672Z"
    },
    "papermill": {
     "duration": 0.208963,
     "end_time": "2023-08-22T15:47:25.041594",
     "exception": false,
     "start_time": "2023-08-22T15:47:24.832631",
     "status": "completed"
    },
    "tags": []
   },
   "outputs": [
    {
     "name": "stdout",
     "output_type": "stream",
     "text": [
      "Harvest_site_locs-->\tDepot\tDistance\tBiomass_flow\n",
      "-----------------------------\n",
      "97\t\t\t47\t140.066\t\t3250\n",
      "97\t\t\t38\t73.815\t\t3250\n",
      "97\t\t\t27\t85.399\t\t3250\n",
      "97\t\t\t97\t0.000\t\t3250\n",
      "170\t\t\t47\t182.832\t\t1482\n",
      "170\t\t\t170\t0.000\t\t1482\n",
      "178\t\t\t38\t85.261\t\t2710\n",
      "178\t\t\t27\t96.845\t\t2710\n",
      "178\t\t\t82\t58.148\t\t2710\n",
      "178\t\t\t63\t106.481\t\t2710\n",
      "255\t\t\t1\t121.708\t\t2276\n",
      "255\t\t\t97\t56.614\t\t2276\n",
      "302\t\t\t38\t120.696\t\t4888\n",
      "302\t\t\t27\t132.280\t\t4888\n",
      "302\t\t\t97\t106.710\t\t4888\n",
      "302\t\t\t82\t82.026\t\t4888\n",
      "302\t\t\t63\t89.611\t\t4888\n",
      "302\t\t\t225\t53.598\t\t4888\n",
      "268\t\t\t66\t117.358\t\t1544\n",
      "268\t\t\t225\t30.169\t\t1544\n",
      "392\t\t\t82\t119.066\t\t3087\n",
      "392\t\t\t63\t112.832\t\t3087\n",
      "392\t\t\t66\t130.416\t\t3087\n",
      "392\t\t\t225\t43.228\t\t3087\n",
      "428\t\t\t170\t83.347\t\t967\n",
      "488\t\t\t47\t173.668\t\t4842\n",
      "488\t\t\t38\t161.235\t\t4842\n",
      "488\t\t\t97\t104.840\t\t4842\n",
      "488\t\t\t82\t134.122\t\t4842\n",
      "488\t\t\t63\t153.434\t\t4842\n",
      "488\t\t\t170\t99.579\t\t4842\n",
      "447\t\t\t66\t151.406\t\t1826\n",
      "494\t\t\t27\t174.790\t\t4450\n",
      "494\t\t\t82\t116.416\t\t4450\n",
      "494\t\t\t63\t124.001\t\t4450\n",
      "494\t\t\t225\t76.462\t\t4450\n",
      "618\t\t\t225\t86.430\t\t4834\n",
      "675\t\t\t1\t201.543\t\t4265\n",
      "675\t\t\t97\t149.091\t\t4265\n",
      "483\t\t\t1538\t232.333\t\t411\n",
      "794\t\t\t667\t64.368\t\t1246\n",
      "871\t\t\t871\t0.000\t\t4431\n",
      "892\t\t\t830\t37.179\t\t3885\n",
      "866\t\t\t871\t48.092\t\t1891\n",
      "866\t\t\t667\t36.388\t\t1891\n",
      "981\t\t\t415\t228.819\t\t2711\n",
      "987\t\t\t170\t204.660\t\t8671\n",
      "987\t\t\t871\t97.786\t\t8671\n",
      "987\t\t\t866\t57.623\t\t6942\n",
      "987\t\t\t987\t0.000\t\t7937\n",
      "987\t\t\t415\t217.042\t\t8671\n",
      "987\t\t\t667\t72.566\t\t8671\n",
      "1102\t\t\t871\t60.014\t\t4868\n",
      "1102\t\t\t866\t57.689\t\t4868\n",
      "1069\t\t\t830\t85.886\t\t1596\n",
      "1076\t\t\t830\t49.119\t\t1625\n",
      "1146\t\t\t1\t318.464\t\t8190\n",
      "1146\t\t\t47\t425.351\t\t8190\n",
      "1146\t\t\t866\t121.516\t\t8190\n",
      "1146\t\t\t987\t75.892\t\t8190\n",
      "1146\t\t\t415\t256.644\t\t8190\n",
      "1146\t\t\t667\t127.082\t\t8190\n",
      "1208\t\t\t987\t47.753\t\t3873\n",
      "1217\t\t\t1217\t0.000\t\t3686\n",
      "1296\t\t\t830\t103.164\t\t4224\n",
      "1420\t\t\t1538\t114.843\t\t7584\n",
      "1470\t\t\t1217\t46.097\t\t6928\n",
      "1543\t\t\t830\t161.425\t\t2571\n",
      "1543\t\t\t1538\t179.816\t\t2571\n",
      "1589\t\t\t1217\t92.663\t\t3234\n",
      "1603\t\t\t1538\t197.364\t\t3097\n",
      "1665\t\t\t830\t165.854\t\t6099\n",
      "1665\t\t\t1538\t203.337\t\t6099\n",
      "1760\t\t\t1217\t106.553\t\t5810\n",
      "1760\t\t\t1760\t0.000\t\t5810\n",
      "1809\t\t\t1760\t64.310\t\t6578\n",
      "1981\t\t\t1760\t57.746\t\t2958\n",
      "2035\t\t\t1760\t66.584\t\t4342\n",
      "667\t\t\t667\t0.000\t\t2\n",
      "1538\t\t\t1538\t0.000\t\t8\n"
     ]
    }
   ],
   "source": [
    "print('Harvest_site_locs-->\\tDepot\\tDistance\\tBiomass_flow')\n",
    "print('-----------------------------')\n",
    "for i  in Harvesting_Site_Group:    \n",
    "        for j in Depot_Group:\n",
    "            if solver.Value(Site_Depot[i,j])>0:\n",
    "                print('%i\\t\\t\\t%i\\t%2.3f\\t\\t%i'%(i,j,Dist[i][j], solver.Value(Biomass[i,j])))"
   ]
  },
  {
   "cell_type": "code",
   "execution_count": 81,
   "id": "068acd37",
   "metadata": {
    "execution": {
     "iopub.execute_input": "2023-08-22T15:47:25.133762Z",
     "iopub.status.busy": "2023-08-22T15:47:25.132336Z",
     "iopub.status.idle": "2023-08-22T15:47:25.284705Z",
     "shell.execute_reply": "2023-08-22T15:47:25.283319Z"
    },
    "papermill": {
     "duration": 0.201104,
     "end_time": "2023-08-22T15:47:25.287808",
     "exception": false,
     "start_time": "2023-08-22T15:47:25.086704",
     "status": "completed"
    },
    "tags": []
   },
   "outputs": [
    {
     "name": "stdout",
     "output_type": "stream",
     "text": [
      "Depot-->\tRefinery\tDistance\t Pellet_flow\n",
      "----------------------------------------------------------\n",
      "1\t\t38\t\t108.929\t\t14731\n",
      "47\t\t1\t\t175.180\t\t17764\n",
      "38\t\t1\t\t108.929\t\t15690\n",
      "27\t\t1\t\t120.513\t\t15298\n",
      "97\t\t47\t\t140.066\t\t19521\n",
      "82\t\t38\t\t63.233\t\t19977\n",
      "63\t\t47\t\t31.409\t\t19977\n",
      "66\t\t47\t\t43.319\t\t6457\n",
      "170\t\t1\t\t75.944\t\t15962\n",
      "225\t\t1\t\t172.844\t\t18803\n",
      "871\t\t1208\t\t117.697\t\t19861\n",
      "830\t\t178\t\t258.769\t\t20000\n",
      "866\t\t178\t\t195.877\t\t20000\n",
      "987\t\t178\t\t256.097\t\t20000\n",
      "1217\t\t1208\t\t92.746\t\t19658\n",
      "1760\t\t38\t\t431.110\t\t19688\n",
      "415\t\t47\t\t452.813\t\t19572\n",
      "667\t\t178\t\t217.332\t\t20000\n",
      "1538\t\t1\t\t360.469\t\t16483\n",
      "1538\t\t178\t\t298.876\t\t3287\n"
     ]
    }
   ],
   "source": [
    "print('Depot-->\\tRefinery\\tDistance\\t Pellet_flow')\n",
    "print('----------------------------------------------------------')\n",
    "for j  in Depot_Group:  \n",
    "    for k in Refinery_Group:\n",
    "        if solver.Value(Depot_Refinery[j,k])>0:\n",
    "            print('%i\\t\\t%i\\t\\t%2.3f\\t\\t%i' %(j,k,Dist[j][k], solver.Value(Pellet[j,k])))"
   ]
  },
  {
   "cell_type": "code",
   "execution_count": 82,
   "id": "418f11ad",
   "metadata": {
    "execution": {
     "iopub.execute_input": "2023-08-22T15:47:25.381786Z",
     "iopub.status.busy": "2023-08-22T15:47:25.381370Z",
     "iopub.status.idle": "2023-08-22T15:47:25.389966Z",
     "shell.execute_reply": "2023-08-22T15:47:25.388625Z"
    },
    "papermill": {
     "duration": 0.058716,
     "end_time": "2023-08-22T15:47:25.392505",
     "exception": false,
     "start_time": "2023-08-22T15:47:25.333789",
     "status": "completed"
    },
    "tags": []
   },
   "outputs": [
    {
     "data": {
      "text/plain": [
       "314542"
      ]
     },
     "execution_count": 82,
     "metadata": {},
     "output_type": "execute_result"
    }
   ],
   "source": [
    "solver.Value(cost_underutilization)"
   ]
  },
  {
   "cell_type": "code",
   "execution_count": 83,
   "id": "16d2c33c",
   "metadata": {
    "execution": {
     "iopub.execute_input": "2023-08-22T15:47:25.486924Z",
     "iopub.status.busy": "2023-08-22T15:47:25.486535Z",
     "iopub.status.idle": "2023-08-22T15:47:25.494007Z",
     "shell.execute_reply": "2023-08-22T15:47:25.492662Z"
    },
    "papermill": {
     "duration": 0.05859,
     "end_time": "2023-08-22T15:47:25.496456",
     "exception": false,
     "start_time": "2023-08-22T15:47:25.437866",
     "status": "completed"
    },
    "tags": []
   },
   "outputs": [
    {
     "data": {
      "text/plain": [
       "170"
      ]
     },
     "execution_count": 83,
     "metadata": {},
     "output_type": "execute_result"
    }
   ],
   "source": [
    "solver.Value(cost_transport_A)"
   ]
  },
  {
   "cell_type": "code",
   "execution_count": 84,
   "id": "535f6ab0",
   "metadata": {
    "execution": {
     "iopub.execute_input": "2023-08-22T15:47:25.589130Z",
     "iopub.status.busy": "2023-08-22T15:47:25.588157Z",
     "iopub.status.idle": "2023-08-22T15:47:25.997778Z",
     "shell.execute_reply": "2023-08-22T15:47:25.996564Z"
    },
    "papermill": {
     "duration": 0.458634,
     "end_time": "2023-08-22T15:47:26.000396",
     "exception": false,
     "start_time": "2023-08-22T15:47:25.541762",
     "status": "completed"
    },
    "tags": []
   },
   "outputs": [
    {
     "data": {
      "image/png": "[encoded data removed]",
      "text/plain": [
       "<Figure size 432x288 with 1 Axes>"
      ]
     },
     "metadata": {
      "needs_background": "light"
     },
     "output_type": "display_data"
    }
   ],
   "source": [
    "import matplotlib.pyplot as plt\n",
    "\n",
    "# Create a scatter plot for selected cluster reference points\n",
    "long_cr=[long[i] for i in Cluster_reps]\n",
    "lat_cr=[lat[i] for i in Cluster_reps]\n",
    "\n",
    "plt.scatter(long_cr, lat_cr, color='green', s=1)\n",
    "\n",
    "\n",
    "# Create a scatter plot for eliminated points\n",
    "long_el=[long[i] for i in eliminated_locs]\n",
    "lat_el=[lat[i] for i in eliminated_locs]\n",
    "\n",
    "plt.scatter(long_el, lat_el, color='yellow', s=2)\n",
    "\n",
    "\n",
    "# Create a scatter plot for eliminated points\n",
    "long_depot=[long[i] for i in Final_depots]\n",
    "lat_depot=[lat[i] for i in Final_depots]\n",
    "\n",
    "plt.scatter(long_depot, lat_depot, color='red', s=5)\n",
    "\n",
    "\n",
    "# Create a scatter plot for eliminated points\n",
    "long_ref=[long[i] for i in Final_refineries]\n",
    "lat_ref=[lat[i] for i in Final_refineries]\n",
    "\n",
    "plt.scatter(long_ref, lat_ref, color='black', s=10)\n",
    "\n",
    "\n",
    "\n",
    "# Set labels and title\n",
    "plt.xlabel('Longitude')\n",
    "plt.ylabel('Latitude')\n",
    "plt.title('Group locations (blue) with eliminated locations (yellow)')\n",
    "\n",
    "# Show the plot\n",
    "plt.show()"
   ]
  },
  {
   "cell_type": "code",
   "execution_count": null,
   "id": "21c34456",
   "metadata": {
    "papermill": {
     "duration": 0.044684,
     "end_time": "2023-08-22T15:47:26.093850",
     "exception": false,
     "start_time": "2023-08-22T15:47:26.049166",
     "status": "completed"
    },
    "tags": []
   },
   "outputs": [],
   "source": []
  },
  {
   "cell_type": "code",
   "execution_count": null,
   "id": "e39c197f",
   "metadata": {
    "papermill": {
     "duration": 0.044608,
     "end_time": "2023-08-22T15:47:26.183207",
     "exception": false,
     "start_time": "2023-08-22T15:47:26.138599",
     "status": "completed"
    },
    "tags": []
   },
   "outputs": [],
   "source": []
  },
  {
   "cell_type": "code",
   "execution_count": null,
   "id": "aea32f83",
   "metadata": {
    "papermill": {
     "duration": 0.04461,
     "end_time": "2023-08-22T15:47:26.272622",
     "exception": false,
     "start_time": "2023-08-22T15:47:26.228012",
     "status": "completed"
    },
    "tags": []
   },
   "outputs": [],
   "source": []
  }
 ],
 "metadata": {
  "kernelspec": {
   "display_name": "Python 3",
   "language": "python",
   "name": "python3"
  },
  "language_info": {
   "codemirror_mode": {
    "name": "ipython",
    "version": 3
   },
   "file_extension": ".py",
   "mimetype": "text/x-python",
   "name": "python",
   "nbconvert_exporter": "python",
   "pygments_lexer": "ipython3",
   "version": "3.7.11"
  },
  "papermill": {
   "default_parameters": {},
   "duration": 1435.899046,
   "end_time": "2023-08-22T15:47:29.482197",
   "environment_variables": {},
   "exception": null,
   "input_path": "__notebook__.ipynb",
   "output_path": "__notebook__.ipynb",
   "parameters": {},
   "start_time": "2023-08-22T15:23:33.583151",
   "version": "2.4.0"
  }
 },
 "nbformat": 4,
 "nbformat_minor": 5
}
