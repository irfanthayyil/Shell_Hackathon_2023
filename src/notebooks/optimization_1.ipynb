{
 "cells": [
  {
   "cell_type": "code",
   "execution_count": 1,
   "metadata": {},
   "outputs": [],
   "source": [
    "import pandas as pd\n",
    "import numpy as np\n",
    "from pyomo.environ import *"
   ]
  },
  {
   "cell_type": "code",
   "execution_count": 2,
   "metadata": {},
   "outputs": [
    {
     "data": {
      "text/html": [
       "<div>\n",
       "<style scoped>\n",
       "    .dataframe tbody tr th:only-of-type {\n",
       "        vertical-align: middle;\n",
       "    }\n",
       "\n",
       "    .dataframe tbody tr th {\n",
       "        vertical-align: top;\n",
       "    }\n",
       "\n",
       "    .dataframe thead th {\n",
       "        text-align: right;\n",
       "    }\n",
       "</style>\n",
       "<table border=\"1\" class=\"dataframe\">\n",
       "  <thead>\n",
       "    <tr style=\"text-align: right;\">\n",
       "      <th></th>\n",
       "      <th>Unnamed: 0</th>\n",
       "      <th>0</th>\n",
       "      <th>1</th>\n",
       "      <th>2</th>\n",
       "      <th>3</th>\n",
       "      <th>4</th>\n",
       "      <th>5</th>\n",
       "      <th>6</th>\n",
       "      <th>7</th>\n",
       "      <th>8</th>\n",
       "      <th>...</th>\n",
       "      <th>2408</th>\n",
       "      <th>2409</th>\n",
       "      <th>2410</th>\n",
       "      <th>2411</th>\n",
       "      <th>2412</th>\n",
       "      <th>2413</th>\n",
       "      <th>2414</th>\n",
       "      <th>2415</th>\n",
       "      <th>2416</th>\n",
       "      <th>2417</th>\n",
       "    </tr>\n",
       "  </thead>\n",
       "  <tbody>\n",
       "    <tr>\n",
       "      <th>0</th>\n",
       "      <td>0</td>\n",
       "      <td>0.0000</td>\n",
       "      <td>11.3769</td>\n",
       "      <td>20.4557</td>\n",
       "      <td>38.1227</td>\n",
       "      <td>45.3810</td>\n",
       "      <td>54.9915</td>\n",
       "      <td>78.6108</td>\n",
       "      <td>118.6750</td>\n",
       "      <td>102.6639</td>\n",
       "      <td>...</td>\n",
       "      <td>683.8771</td>\n",
       "      <td>687.6310</td>\n",
       "      <td>697.3246</td>\n",
       "      <td>669.3962</td>\n",
       "      <td>667.6788</td>\n",
       "      <td>665.5775</td>\n",
       "      <td>662.0291</td>\n",
       "      <td>665.9655</td>\n",
       "      <td>673.2073</td>\n",
       "      <td>681.4235</td>\n",
       "    </tr>\n",
       "    <tr>\n",
       "      <th>1</th>\n",
       "      <td>1</td>\n",
       "      <td>11.3769</td>\n",
       "      <td>0.0000</td>\n",
       "      <td>9.0788</td>\n",
       "      <td>28.9141</td>\n",
       "      <td>36.1724</td>\n",
       "      <td>45.7829</td>\n",
       "      <td>69.4022</td>\n",
       "      <td>78.2329</td>\n",
       "      <td>93.4553</td>\n",
       "      <td>...</td>\n",
       "      <td>681.6295</td>\n",
       "      <td>685.3833</td>\n",
       "      <td>695.0769</td>\n",
       "      <td>667.1485</td>\n",
       "      <td>665.4311</td>\n",
       "      <td>663.3298</td>\n",
       "      <td>659.7815</td>\n",
       "      <td>663.7178</td>\n",
       "      <td>670.9596</td>\n",
       "      <td>679.1758</td>\n",
       "    </tr>\n",
       "    <tr>\n",
       "      <th>2</th>\n",
       "      <td>2</td>\n",
       "      <td>20.4557</td>\n",
       "      <td>9.0788</td>\n",
       "      <td>0.0000</td>\n",
       "      <td>22.3791</td>\n",
       "      <td>29.6374</td>\n",
       "      <td>39.2478</td>\n",
       "      <td>62.8671</td>\n",
       "      <td>71.6979</td>\n",
       "      <td>86.9203</td>\n",
       "      <td>...</td>\n",
       "      <td>682.2323</td>\n",
       "      <td>685.9861</td>\n",
       "      <td>695.6796</td>\n",
       "      <td>667.7513</td>\n",
       "      <td>666.0339</td>\n",
       "      <td>663.9326</td>\n",
       "      <td>660.3843</td>\n",
       "      <td>664.3206</td>\n",
       "      <td>671.5623</td>\n",
       "      <td>679.7786</td>\n",
       "    </tr>\n",
       "    <tr>\n",
       "      <th>3</th>\n",
       "      <td>3</td>\n",
       "      <td>38.1227</td>\n",
       "      <td>28.9141</td>\n",
       "      <td>22.3791</td>\n",
       "      <td>0.0000</td>\n",
       "      <td>11.8343</td>\n",
       "      <td>23.5413</td>\n",
       "      <td>41.8396</td>\n",
       "      <td>50.6703</td>\n",
       "      <td>65.8927</td>\n",
       "      <td>...</td>\n",
       "      <td>681.4226</td>\n",
       "      <td>685.1765</td>\n",
       "      <td>694.8701</td>\n",
       "      <td>666.9417</td>\n",
       "      <td>665.2243</td>\n",
       "      <td>663.1230</td>\n",
       "      <td>659.5746</td>\n",
       "      <td>663.5110</td>\n",
       "      <td>670.7528</td>\n",
       "      <td>678.9690</td>\n",
       "    </tr>\n",
       "    <tr>\n",
       "      <th>4</th>\n",
       "      <td>4</td>\n",
       "      <td>45.3810</td>\n",
       "      <td>36.1724</td>\n",
       "      <td>29.6374</td>\n",
       "      <td>11.8343</td>\n",
       "      <td>0.0000</td>\n",
       "      <td>11.7070</td>\n",
       "      <td>24.3986</td>\n",
       "      <td>33.2293</td>\n",
       "      <td>53.9901</td>\n",
       "      <td>...</td>\n",
       "      <td>663.9816</td>\n",
       "      <td>667.7355</td>\n",
       "      <td>677.4291</td>\n",
       "      <td>649.5007</td>\n",
       "      <td>647.7833</td>\n",
       "      <td>645.6820</td>\n",
       "      <td>642.1336</td>\n",
       "      <td>646.0700</td>\n",
       "      <td>653.3118</td>\n",
       "      <td>661.5280</td>\n",
       "    </tr>\n",
       "  </tbody>\n",
       "</table>\n",
       "<p>5 rows × 2419 columns</p>\n",
       "</div>"
      ],
      "text/plain": [
       "   Unnamed: 0        0        1        2        3        4        5        6  \\\n",
       "0           0   0.0000  11.3769  20.4557  38.1227  45.3810  54.9915  78.6108   \n",
       "1           1  11.3769   0.0000   9.0788  28.9141  36.1724  45.7829  69.4022   \n",
       "2           2  20.4557   9.0788   0.0000  22.3791  29.6374  39.2478  62.8671   \n",
       "3           3  38.1227  28.9141  22.3791   0.0000  11.8343  23.5413  41.8396   \n",
       "4           4  45.3810  36.1724  29.6374  11.8343   0.0000  11.7070  24.3986   \n",
       "\n",
       "          7         8  ...      2408      2409      2410      2411      2412  \\\n",
       "0  118.6750  102.6639  ...  683.8771  687.6310  697.3246  669.3962  667.6788   \n",
       "1   78.2329   93.4553  ...  681.6295  685.3833  695.0769  667.1485  665.4311   \n",
       "2   71.6979   86.9203  ...  682.2323  685.9861  695.6796  667.7513  666.0339   \n",
       "3   50.6703   65.8927  ...  681.4226  685.1765  694.8701  666.9417  665.2243   \n",
       "4   33.2293   53.9901  ...  663.9816  667.7355  677.4291  649.5007  647.7833   \n",
       "\n",
       "       2413      2414      2415      2416      2417  \n",
       "0  665.5775  662.0291  665.9655  673.2073  681.4235  \n",
       "1  663.3298  659.7815  663.7178  670.9596  679.1758  \n",
       "2  663.9326  660.3843  664.3206  671.5623  679.7786  \n",
       "3  663.1230  659.5746  663.5110  670.7528  678.9690  \n",
       "4  645.6820  642.1336  646.0700  653.3118  661.5280  \n",
       "\n",
       "[5 rows x 2419 columns]"
      ]
     },
     "execution_count": 2,
     "metadata": {},
     "output_type": "execute_result"
    }
   ],
   "source": [
    "distance_matrix = pd.read_csv('../../data/dataset/Distance_Matrix.csv')\n",
    "biomass_hist = pd.read_csv('../../data/dataset/Biomass_History.csv')\n",
    "\n",
    "distance_matrix.head()"
   ]
  },
  {
   "cell_type": "code",
   "execution_count": 3,
   "metadata": {},
   "outputs": [
    {
     "data": {
      "text/plain": [
       "array([[  0.    ,  11.3769,  20.4557, ..., 665.9655, 673.2073, 681.4235],\n",
       "       [ 11.3769,   0.    ,   9.0788, ..., 663.7178, 670.9596, 679.1758],\n",
       "       [ 20.4557,   9.0788,   0.    , ..., 664.3206, 671.5623, 679.7786],\n",
       "       ...,\n",
       "       [663.7748, 661.5271, 662.1298, ...,   0.    ,  14.2423,  22.4586],\n",
       "       [671.0165, 668.7688, 669.3715, ...,  14.2423,   0.    ,  12.4741],\n",
       "       [679.2328, 676.9851, 677.5878, ...,  22.4586,  12.4741,   0.    ]])"
      ]
     },
     "execution_count": 3,
     "metadata": {},
     "output_type": "execute_result"
    }
   ],
   "source": [
    "distance_matrix.drop(['Unnamed: 0'], axis=1, inplace=True)\n",
    "distance_matrix = np.array(distance_matrix)\n",
    "distance_matrix"
   ]
  },
  {
   "cell_type": "code",
   "execution_count": 4,
   "metadata": {},
   "outputs": [],
   "source": [
    "b_2010 = np.array(biomass_hist['2010'])"
   ]
  },
  {
   "cell_type": "code",
   "execution_count": 5,
   "metadata": {},
   "outputs": [
    {
     "data": {
      "text/plain": [
       "183.99356841850002"
      ]
     },
     "execution_count": 5,
     "metadata": {},
     "output_type": "execute_result"
    }
   ],
   "source": [
    "sum(b_2010[:10])/2"
   ]
  },
  {
   "cell_type": "code",
   "execution_count": 6,
   "metadata": {},
   "outputs": [
    {
     "data": {
      "text/plain": [
       "367.98713683700004"
      ]
     },
     "execution_count": 6,
     "metadata": {},
     "output_type": "execute_result"
    }
   ],
   "source": [
    "sum(b_2010[:10])"
   ]
  },
  {
   "cell_type": "code",
   "execution_count": 7,
   "metadata": {},
   "outputs": [],
   "source": [
    "# num_locations = 2418\n",
    "# num_depots_max = 25\n",
    "# num_refineries_max = 5\n",
    "# harvest = b_2010 # List of harvest amounts at each location\n",
    "# #distance_matrix  2418x2418 distance matrix\n",
    "# cap_depot = 20000\n",
    "# cap_refinery = 100000\n",
    "\n",
    "num_locations = 10\n",
    "num_depots_max = 2\n",
    "num_refineries_max = 1\n",
    "harvest = b_2010[:10] # List of harvest amounts at each location\n",
    "#distance_matrix  2418x2418 distance matrix\n",
    "cap_depot = 200\n",
    "cap_refinery = 350\n",
    "\n",
    "# Create a concrete model\n",
    "model = ConcreteModel()\n",
    "\n",
    "# Index sets\n",
    "model.locations = RangeSet(num_locations)\n",
    "model.depots = RangeSet(num_locations)  # We assume all locations can be potential depots\n",
    "# model.refineries = RangeSet(1, num_refineries_max)\n",
    "model.refineries = RangeSet(1, num_locations) # We assume all locations can be potential refineries\n",
    "\n"
   ]
  },
  {
   "cell_type": "code",
   "execution_count": 9,
   "metadata": {},
   "outputs": [
    {
     "name": "stdout",
     "output_type": "stream",
     "text": [
      "1\n",
      "2\n",
      "3\n",
      "4\n",
      "5\n",
      "6\n",
      "7\n",
      "8\n",
      "9\n",
      "10\n"
     ]
    }
   ],
   "source": [
    "for i in model.locations:\n",
    "    print(i)"
   ]
  },
  {
   "cell_type": "code",
   "execution_count": 11,
   "metadata": {},
   "outputs": [
    {
     "data": {
      "text/plain": [
       "20"
      ]
     },
     "execution_count": 11,
     "metadata": {},
     "output_type": "execute_result"
    }
   ],
   "source": [
    "i*2"
   ]
  },
  {
   "cell_type": "code",
   "execution_count": 10,
   "metadata": {},
   "outputs": [],
   "source": [
    "# Decision variables\n",
    "model.depots_used = Var(model.depots, within=Binary)\n",
    "model.refineries_used = Var(model.refineries, within=Binary)\n",
    "model.harvest_flow = Var(model.locations, model.depots, within=NonNegativeReals)\n",
    "model.pellet_flow = Var(model.depots, model.refineries, within=NonNegativeReals)\n",
    "# model.under_utilization_cost = Var(model.depots, within=NonNegativeReals)\n",
    "# model.under_utilization_cost_refineries = Var(model.refineries, within=NonNegativeReals)\n",
    "model.pellet_flow_active = Var(model.depots, model.refineries, within=Binary)  # Binary variable indicating active pellet flow"
   ]
  },
  {
   "cell_type": "code",
   "execution_count": 11,
   "metadata": {},
   "outputs": [
    {
     "name": "stdout",
     "output_type": "stream",
     "text": [
      "Solution started...\n",
      "Solver status: ok\n",
      "Objective value: 54275.75552484466\n"
     ]
    }
   ],
   "source": [
    "\n",
    "\n",
    "## Linear\n",
    "\n",
    "# # Objective function\n",
    "def objective_rule(model):\n",
    "    return (\n",
    "        0.001*sum(distance_matrix[i-1][j-1] * model.harvest_flow[i, j] for i in model.locations for j in model.depots) +\n",
    "        0.001*sum(distance_matrix[j-1][k-1] * model.pellet_flow[j, k] for j in model.depots for k in model.refineries) +\n",
    "        sum(cap_depot - model.harvest_flow[i, j] for i in model.locations for j in model.depots) +  # Under-utilization cost for depots\n",
    "        sum(cap_refinery - model.pellet_flow[j, k] for j in model.depots for k in model.refineries)   # Under-utilization cost for refineries\n",
    "        # sum(cap_refinery * (1 - model.refineries_used[k]) for k in model.refineries)  # Under-utilization cost for unused refineries -->redundant\n",
    "    )\n",
    "model.objective = Objective(rule=objective_rule, sense=minimize)\n",
    "\n",
    "\n",
    "## Non Linear\n",
    "# Objective function\n",
    "# def objective_rule(model):\n",
    "#     return (\n",
    "#         0.001*sum(distance_matrix[i-1][j-1]*model.harvest_flow[i, j]*model.depots_used[j] for i in model.locations for j in model.depots) +\n",
    "#         0.001*sum(distance_matrix[j-1][k-1]*model.pellet_flow[j, k]*model.refineries_used[k]  for j in model.depots for k in model.refineries) +\n",
    "#         sum(cap_depot - model.harvest_flow[i, j] for i in model.locations for j in model.depots) +  # Under-utilization cost for depots\n",
    "#         sum(cap_refinery - model.pellet_flow[j, k] for j in model.depots for k in model.refineries)   # Under-utilization cost for refineries\n",
    "#         # sum(cap_refinery * (1 - model.refineries_used[k]) for k in model.refineries)  # Under-utilization cost for unused refineries -->redundant\n",
    "#     )\n",
    "# model.objective = Objective(rule=objective_rule, sense=minimize)\n",
    "\n",
    "\n",
    "# Constraints\n",
    "def max_depots_constraint_rule(model):\n",
    "    return sum(model.depots_used[j] for j in model.depots) <= num_depots_max\n",
    "model.max_depots_constraint = Constraint(rule=max_depots_constraint_rule)\n",
    "\n",
    "# Constraint for maximum number of refineries\n",
    "def max_refineries_constraint_rule(model):\n",
    "    return sum(model.refineries_used[k] for k in model.refineries) <= num_refineries_max\n",
    "model.max_refineries_constraint = Constraint(rule=max_refineries_constraint_rule)\n",
    "\n",
    "def harvest_supply_constraint_rule(model, i):\n",
    "    return sum(model.harvest_flow[i, j] for j in model.depots) <= harvest[i-1]\n",
    "model.harvest_supply_constraint = Constraint(model.locations, rule=harvest_supply_constraint_rule)\n",
    "\n",
    "# Constraint for pellets flow balance\n",
    "def pellet_flow_balance_rule(model, j):\n",
    "    return (\n",
    "        sum(model.pellet_flow[j, k] for k in model.refineries) ==\n",
    "        sum(model.harvest_flow[i, j] for i in model.locations)\n",
    "    )\n",
    "model.pellet_flow_balance_constraint = Constraint(model.depots, rule=pellet_flow_balance_rule)\n",
    "\n",
    "def flow_binary_relation_rule(model, i, j):\n",
    "    \"\"\"\n",
    "    This constraint ensures that if a depot is used (the binary variable is 1), \n",
    "    the corresponding harvest flow can be non-zero, but if a depot is not used (the binary variable is 0), the corresponding harvest flow must be zero.\n",
    "    \"\"\"\n",
    "    return model.harvest_flow[i, j] <= model.depots_used[j] * harvest[i-1]\n",
    "model.flow_binary_relation_constraint = Constraint(model.locations, model.depots, rule=flow_binary_relation_rule)\n",
    "\n",
    "\n",
    "def pellet_flow_binary_relation_rule(model,i, j, k):\n",
    "    return model.pellet_flow[j, k] <= model.refineries_used[k] * sum(model.harvest_flow[i, j] for i in model.locations)\n",
    "model.pellet_flow_binary_relation_constraint = Constraint(model.locations, model.depots, model.refineries, rule=pellet_flow_binary_relation_rule)\n",
    "\n",
    "\n",
    "def max_utilization_constraint_rule(model, j):\n",
    "    return sum(model.harvest_flow[i, j] for i in model.locations) <= cap_depot\n",
    "model.max_utilization_constraint = Constraint(model.depots, rule=max_utilization_constraint_rule)\n",
    "\n",
    "\n",
    "# Constraint for maximum utilization of a refinery\n",
    "def max_utilization_refineries_constraint_rule(model, k):\n",
    "    return sum(model.pellet_flow[j, k] for j in model.depots) <= cap_refinery\n",
    "model.max_utilization_refineries_constraint = Constraint(model.refineries, rule=max_utilization_refineries_constraint_rule)\n",
    "\n",
    "\n",
    "# Solve the problem\n",
    "print(\"Solution started...\")\n",
    "solver = SolverFactory('ipopt')\n",
    "results = solver.solve(model)\n",
    "\n",
    "# Display results\n",
    "print(\"Solver status:\", results.solver.status)\n",
    "print(\"Objective value:\", value(model.objective))"
   ]
  },
  {
   "cell_type": "code",
   "execution_count": 11,
   "metadata": {},
   "outputs": [
    {
     "name": "stdout",
     "output_type": "stream",
     "text": [
      "\n",
      "Problem: \n",
      "- Lower bound: -inf\n",
      "  Upper bound: inf\n",
      "  Number of objectives: 1\n",
      "  Number of constraints: 8482\n",
      "  Number of variables: 840\n",
      "  Sense: unknown\n",
      "Solver: \n",
      "- Status: ok\n",
      "  Message: Ipopt 3.11.1\\x3a Optimal Solution Found\n",
      "  Termination condition: optimal\n",
      "  Id: 0\n",
      "  Error rc: 0\n",
      "  Time: 465.29777574539185\n",
      "Solution: \n",
      "- number of solutions: 0\n",
      "  number of solutions displayed: 0\n",
      "\n"
     ]
    }
   ],
   "source": [
    "print(results)"
   ]
  },
  {
   "cell_type": "code",
   "execution_count": 12,
   "metadata": {},
   "outputs": [
    {
     "name": "stdout",
     "output_type": "stream",
     "text": [
      "Depot locations: [3, 6, 17, 18, 19]\n",
      "Refineries locations: [6, 18]\n"
     ]
    }
   ],
   "source": [
    "# Display which locations are used as depots\n",
    "depots_used = [j for j in model.depots if value(model.depots_used[j]) > 0.5]\n",
    "print(\"Depot locations:\", depots_used)\n",
    "refineries_used = [k for k in model.refineries if value(model.refineries_used[k]) > 0.5]\n",
    "print(\"Refineries locations:\", refineries_used)\n",
    "# # Display the harvest flow from each location to each depot\n",
    "# for i in model.locations:\n",
    "#     for j in depots_used:\n",
    "#         flow = value(model.harvest_flow[i, j])\n",
    "#         if flow > 0:\n",
    "#             print(f\"Harvest flow from location {i} to depot {j}: {flow}\")"
   ]
  },
  {
   "cell_type": "code",
   "execution_count": 14,
   "metadata": {},
   "outputs": [],
   "source": [
    "biomass_source_index = []\n",
    "biomass_destination_index = []\n",
    "biomass_flow = []\n",
    "for i in model.locations:\n",
    "    for j in depots_used:\n",
    "        f = value(model.harvest_flow[i, j])\n",
    "        if f > 0:\n",
    "            biomass_source_index.append(i)\n",
    "            biomass_destination_index.append(j)\n",
    "            biomass_flow.append(f)"
   ]
  },
  {
   "cell_type": "code",
   "execution_count": 16,
   "metadata": {},
   "outputs": [],
   "source": [
    "pellet_source_index = []\n",
    "pellet_destination_index = []\n",
    "pellet_flow = []\n",
    "for i in model.locations:\n",
    "    for j in refineries_used:\n",
    "        f = value(model.pellet_flow[i, j])\n",
    "        if f > 0:\n",
    "            pellet_source_index.append(i)\n",
    "            pellet_destination_index.append(j)\n",
    "            pellet_flow.append(f)"
   ]
  },
  {
   "cell_type": "code",
   "execution_count": 5,
   "metadata": {},
   "outputs": [
    {
     "ename": "AssertionError",
     "evalue": "Constraint 1 failed",
     "output_type": "error",
     "traceback": [
      "\u001b[1;31m---------------------------------------------------------------------------\u001b[0m",
      "\u001b[1;31mAssertionError\u001b[0m                            Traceback (most recent call last)",
      "\u001b[1;32m~\\AppData\\Local\\Temp/ipykernel_7136/1045831629.py\u001b[0m in \u001b[0;36m<module>\u001b[1;34m\u001b[0m\n\u001b[1;32m----> 1\u001b[1;33m \u001b[1;32massert\u001b[0m \u001b[1;33m(\u001b[0m\u001b[0mall\u001b[0m\u001b[1;33m(\u001b[0m\u001b[0mx\u001b[0m \u001b[1;33m>=\u001b[0m \u001b[1;36m0\u001b[0m \u001b[1;32mfor\u001b[0m \u001b[0mx\u001b[0m \u001b[1;32min\u001b[0m \u001b[1;33m[\u001b[0m\u001b[1;36m1\u001b[0m\u001b[1;33m,\u001b[0m\u001b[1;36m2\u001b[0m\u001b[1;33m,\u001b[0m\u001b[1;33m-\u001b[0m\u001b[1;36m3\u001b[0m\u001b[1;33m]\u001b[0m\u001b[1;33m)\u001b[0m\u001b[1;33m)\u001b[0m\u001b[1;33m,\u001b[0m \u001b[1;34m\"Constraint 1 failed\"\u001b[0m\u001b[1;33m\u001b[0m\u001b[1;33m\u001b[0m\u001b[0m\n\u001b[0m",
      "\u001b[1;31mAssertionError\u001b[0m: Constraint 1 failed"
     ]
    }
   ],
   "source": [
    "assert (all(x >= 0 for x in [1,2,-3])), \"Constraint 1 failed\""
   ]
  },
  {
   "cell_type": "code",
   "execution_count": 6,
   "metadata": {},
   "outputs": [
    {
     "data": {
      "text/plain": [
       "0.001"
      ]
     },
     "execution_count": 6,
     "metadata": {},
     "output_type": "execute_result"
    }
   ],
   "source": [
    "1e-03"
   ]
  },
  {
   "cell_type": "code",
   "execution_count": 8,
   "metadata": {},
   "outputs": [
    {
     "ename": "FileNotFoundError",
     "evalue": "[Errno 2] No such file or directory: '../data/dataset/Distance_Matrix.csv'",
     "output_type": "error",
     "traceback": [
      "\u001b[1;31m---------------------------------------------------------------------------\u001b[0m",
      "\u001b[1;31mFileNotFoundError\u001b[0m                         Traceback (most recent call last)",
      "\u001b[1;32m~\\AppData\\Local\\Temp/ipykernel_7136/337101682.py\u001b[0m in \u001b[0;36m<module>\u001b[1;34m\u001b[0m\n\u001b[0;32m      3\u001b[0m \u001b[1;32mfrom\u001b[0m \u001b[0mpyomo\u001b[0m\u001b[1;33m.\u001b[0m\u001b[0menviron\u001b[0m \u001b[1;32mimport\u001b[0m \u001b[1;33m*\u001b[0m\u001b[1;33m\u001b[0m\u001b[1;33m\u001b[0m\u001b[0m\n\u001b[0;32m      4\u001b[0m \u001b[1;33m\u001b[0m\u001b[0m\n\u001b[1;32m----> 5\u001b[1;33m \u001b[0mdistance_matrix\u001b[0m \u001b[1;33m=\u001b[0m \u001b[0mpd\u001b[0m\u001b[1;33m.\u001b[0m\u001b[0mread_csv\u001b[0m\u001b[1;33m(\u001b[0m\u001b[1;34m'../data/dataset/Distance_Matrix.csv'\u001b[0m\u001b[1;33m)\u001b[0m\u001b[1;33m\u001b[0m\u001b[1;33m\u001b[0m\u001b[0m\n\u001b[0m\u001b[0;32m      6\u001b[0m \u001b[0mbiomass_hist\u001b[0m \u001b[1;33m=\u001b[0m \u001b[0mpd\u001b[0m\u001b[1;33m.\u001b[0m\u001b[0mread_csv\u001b[0m\u001b[1;33m(\u001b[0m\u001b[1;34m'../data/dataset/Biomass_History.csv'\u001b[0m\u001b[1;33m)\u001b[0m\u001b[1;33m\u001b[0m\u001b[1;33m\u001b[0m\u001b[0m\n\u001b[0;32m      7\u001b[0m \u001b[1;33m\u001b[0m\u001b[0m\n",
      "\u001b[1;32mc:\\Users\\acer\\anaconda3\\envs\\ml\\lib\\site-packages\\pandas\\util\\_decorators.py\u001b[0m in \u001b[0;36mwrapper\u001b[1;34m(*args, **kwargs)\u001b[0m\n\u001b[0;32m    309\u001b[0m                     \u001b[0mstacklevel\u001b[0m\u001b[1;33m=\u001b[0m\u001b[0mstacklevel\u001b[0m\u001b[1;33m,\u001b[0m\u001b[1;33m\u001b[0m\u001b[1;33m\u001b[0m\u001b[0m\n\u001b[0;32m    310\u001b[0m                 )\n\u001b[1;32m--> 311\u001b[1;33m             \u001b[1;32mreturn\u001b[0m \u001b[0mfunc\u001b[0m\u001b[1;33m(\u001b[0m\u001b[1;33m*\u001b[0m\u001b[0margs\u001b[0m\u001b[1;33m,\u001b[0m \u001b[1;33m**\u001b[0m\u001b[0mkwargs\u001b[0m\u001b[1;33m)\u001b[0m\u001b[1;33m\u001b[0m\u001b[1;33m\u001b[0m\u001b[0m\n\u001b[0m\u001b[0;32m    312\u001b[0m \u001b[1;33m\u001b[0m\u001b[0m\n\u001b[0;32m    313\u001b[0m         \u001b[1;32mreturn\u001b[0m \u001b[0mwrapper\u001b[0m\u001b[1;33m\u001b[0m\u001b[1;33m\u001b[0m\u001b[0m\n",
      "\u001b[1;32mc:\\Users\\acer\\anaconda3\\envs\\ml\\lib\\site-packages\\pandas\\io\\parsers\\readers.py\u001b[0m in \u001b[0;36mread_csv\u001b[1;34m(filepath_or_buffer, sep, delimiter, header, names, index_col, usecols, squeeze, prefix, mangle_dupe_cols, dtype, engine, converters, true_values, false_values, skipinitialspace, skiprows, skipfooter, nrows, na_values, keep_default_na, na_filter, verbose, skip_blank_lines, parse_dates, infer_datetime_format, keep_date_col, date_parser, dayfirst, cache_dates, iterator, chunksize, compression, thousands, decimal, lineterminator, quotechar, quoting, doublequote, escapechar, comment, encoding, encoding_errors, dialect, error_bad_lines, warn_bad_lines, on_bad_lines, delim_whitespace, low_memory, memory_map, float_precision, storage_options)\u001b[0m\n\u001b[0;32m    584\u001b[0m     \u001b[0mkwds\u001b[0m\u001b[1;33m.\u001b[0m\u001b[0mupdate\u001b[0m\u001b[1;33m(\u001b[0m\u001b[0mkwds_defaults\u001b[0m\u001b[1;33m)\u001b[0m\u001b[1;33m\u001b[0m\u001b[1;33m\u001b[0m\u001b[0m\n\u001b[0;32m    585\u001b[0m \u001b[1;33m\u001b[0m\u001b[0m\n\u001b[1;32m--> 586\u001b[1;33m     \u001b[1;32mreturn\u001b[0m \u001b[0m_read\u001b[0m\u001b[1;33m(\u001b[0m\u001b[0mfilepath_or_buffer\u001b[0m\u001b[1;33m,\u001b[0m \u001b[0mkwds\u001b[0m\u001b[1;33m)\u001b[0m\u001b[1;33m\u001b[0m\u001b[1;33m\u001b[0m\u001b[0m\n\u001b[0m\u001b[0;32m    587\u001b[0m \u001b[1;33m\u001b[0m\u001b[0m\n\u001b[0;32m    588\u001b[0m \u001b[1;33m\u001b[0m\u001b[0m\n",
      "\u001b[1;32mc:\\Users\\acer\\anaconda3\\envs\\ml\\lib\\site-packages\\pandas\\io\\parsers\\readers.py\u001b[0m in \u001b[0;36m_read\u001b[1;34m(filepath_or_buffer, kwds)\u001b[0m\n\u001b[0;32m    480\u001b[0m \u001b[1;33m\u001b[0m\u001b[0m\n\u001b[0;32m    481\u001b[0m     \u001b[1;31m# Create the parser.\u001b[0m\u001b[1;33m\u001b[0m\u001b[1;33m\u001b[0m\u001b[1;33m\u001b[0m\u001b[0m\n\u001b[1;32m--> 482\u001b[1;33m     \u001b[0mparser\u001b[0m \u001b[1;33m=\u001b[0m \u001b[0mTextFileReader\u001b[0m\u001b[1;33m(\u001b[0m\u001b[0mfilepath_or_buffer\u001b[0m\u001b[1;33m,\u001b[0m \u001b[1;33m**\u001b[0m\u001b[0mkwds\u001b[0m\u001b[1;33m)\u001b[0m\u001b[1;33m\u001b[0m\u001b[1;33m\u001b[0m\u001b[0m\n\u001b[0m\u001b[0;32m    483\u001b[0m \u001b[1;33m\u001b[0m\u001b[0m\n\u001b[0;32m    484\u001b[0m     \u001b[1;32mif\u001b[0m \u001b[0mchunksize\u001b[0m \u001b[1;32mor\u001b[0m \u001b[0miterator\u001b[0m\u001b[1;33m:\u001b[0m\u001b[1;33m\u001b[0m\u001b[1;33m\u001b[0m\u001b[0m\n",
      "\u001b[1;32mc:\\Users\\acer\\anaconda3\\envs\\ml\\lib\\site-packages\\pandas\\io\\parsers\\readers.py\u001b[0m in \u001b[0;36m__init__\u001b[1;34m(self, f, engine, **kwds)\u001b[0m\n\u001b[0;32m    809\u001b[0m             \u001b[0mself\u001b[0m\u001b[1;33m.\u001b[0m\u001b[0moptions\u001b[0m\u001b[1;33m[\u001b[0m\u001b[1;34m\"has_index_names\"\u001b[0m\u001b[1;33m]\u001b[0m \u001b[1;33m=\u001b[0m \u001b[0mkwds\u001b[0m\u001b[1;33m[\u001b[0m\u001b[1;34m\"has_index_names\"\u001b[0m\u001b[1;33m]\u001b[0m\u001b[1;33m\u001b[0m\u001b[1;33m\u001b[0m\u001b[0m\n\u001b[0;32m    810\u001b[0m \u001b[1;33m\u001b[0m\u001b[0m\n\u001b[1;32m--> 811\u001b[1;33m         \u001b[0mself\u001b[0m\u001b[1;33m.\u001b[0m\u001b[0m_engine\u001b[0m \u001b[1;33m=\u001b[0m \u001b[0mself\u001b[0m\u001b[1;33m.\u001b[0m\u001b[0m_make_engine\u001b[0m\u001b[1;33m(\u001b[0m\u001b[0mself\u001b[0m\u001b[1;33m.\u001b[0m\u001b[0mengine\u001b[0m\u001b[1;33m)\u001b[0m\u001b[1;33m\u001b[0m\u001b[1;33m\u001b[0m\u001b[0m\n\u001b[0m\u001b[0;32m    812\u001b[0m \u001b[1;33m\u001b[0m\u001b[0m\n\u001b[0;32m    813\u001b[0m     \u001b[1;32mdef\u001b[0m \u001b[0mclose\u001b[0m\u001b[1;33m(\u001b[0m\u001b[0mself\u001b[0m\u001b[1;33m)\u001b[0m\u001b[1;33m:\u001b[0m\u001b[1;33m\u001b[0m\u001b[1;33m\u001b[0m\u001b[0m\n",
      "\u001b[1;32mc:\\Users\\acer\\anaconda3\\envs\\ml\\lib\\site-packages\\pandas\\io\\parsers\\readers.py\u001b[0m in \u001b[0;36m_make_engine\u001b[1;34m(self, engine)\u001b[0m\n\u001b[0;32m   1038\u001b[0m             )\n\u001b[0;32m   1039\u001b[0m         \u001b[1;31m# error: Too many arguments for \"ParserBase\"\u001b[0m\u001b[1;33m\u001b[0m\u001b[1;33m\u001b[0m\u001b[1;33m\u001b[0m\u001b[0m\n\u001b[1;32m-> 1040\u001b[1;33m         \u001b[1;32mreturn\u001b[0m \u001b[0mmapping\u001b[0m\u001b[1;33m[\u001b[0m\u001b[0mengine\u001b[0m\u001b[1;33m]\u001b[0m\u001b[1;33m(\u001b[0m\u001b[0mself\u001b[0m\u001b[1;33m.\u001b[0m\u001b[0mf\u001b[0m\u001b[1;33m,\u001b[0m \u001b[1;33m**\u001b[0m\u001b[0mself\u001b[0m\u001b[1;33m.\u001b[0m\u001b[0moptions\u001b[0m\u001b[1;33m)\u001b[0m  \u001b[1;31m# type: ignore[call-arg]\u001b[0m\u001b[1;33m\u001b[0m\u001b[1;33m\u001b[0m\u001b[0m\n\u001b[0m\u001b[0;32m   1041\u001b[0m \u001b[1;33m\u001b[0m\u001b[0m\n\u001b[0;32m   1042\u001b[0m     \u001b[1;32mdef\u001b[0m \u001b[0m_failover_to_python\u001b[0m\u001b[1;33m(\u001b[0m\u001b[0mself\u001b[0m\u001b[1;33m)\u001b[0m\u001b[1;33m:\u001b[0m\u001b[1;33m\u001b[0m\u001b[1;33m\u001b[0m\u001b[0m\n",
      "\u001b[1;32mc:\\Users\\acer\\anaconda3\\envs\\ml\\lib\\site-packages\\pandas\\io\\parsers\\c_parser_wrapper.py\u001b[0m in \u001b[0;36m__init__\u001b[1;34m(self, src, **kwds)\u001b[0m\n\u001b[0;32m     49\u001b[0m \u001b[1;33m\u001b[0m\u001b[0m\n\u001b[0;32m     50\u001b[0m         \u001b[1;31m# open handles\u001b[0m\u001b[1;33m\u001b[0m\u001b[1;33m\u001b[0m\u001b[1;33m\u001b[0m\u001b[0m\n\u001b[1;32m---> 51\u001b[1;33m         \u001b[0mself\u001b[0m\u001b[1;33m.\u001b[0m\u001b[0m_open_handles\u001b[0m\u001b[1;33m(\u001b[0m\u001b[0msrc\u001b[0m\u001b[1;33m,\u001b[0m \u001b[0mkwds\u001b[0m\u001b[1;33m)\u001b[0m\u001b[1;33m\u001b[0m\u001b[1;33m\u001b[0m\u001b[0m\n\u001b[0m\u001b[0;32m     52\u001b[0m         \u001b[1;32massert\u001b[0m \u001b[0mself\u001b[0m\u001b[1;33m.\u001b[0m\u001b[0mhandles\u001b[0m \u001b[1;32mis\u001b[0m \u001b[1;32mnot\u001b[0m \u001b[1;32mNone\u001b[0m\u001b[1;33m\u001b[0m\u001b[1;33m\u001b[0m\u001b[0m\n\u001b[0;32m     53\u001b[0m \u001b[1;33m\u001b[0m\u001b[0m\n",
      "\u001b[1;32mc:\\Users\\acer\\anaconda3\\envs\\ml\\lib\\site-packages\\pandas\\io\\parsers\\base_parser.py\u001b[0m in \u001b[0;36m_open_handles\u001b[1;34m(self, src, kwds)\u001b[0m\n\u001b[0;32m    220\u001b[0m         \u001b[0mLet\u001b[0m \u001b[0mthe\u001b[0m \u001b[0mreaders\u001b[0m \u001b[0mopen\u001b[0m \u001b[0mIOHandles\u001b[0m \u001b[0mafter\u001b[0m \u001b[0mthey\u001b[0m \u001b[0mare\u001b[0m \u001b[0mdone\u001b[0m \u001b[1;32mwith\u001b[0m \u001b[0mtheir\u001b[0m \u001b[0mpotential\u001b[0m \u001b[0mraises\u001b[0m\u001b[1;33m.\u001b[0m\u001b[1;33m\u001b[0m\u001b[1;33m\u001b[0m\u001b[0m\n\u001b[0;32m    221\u001b[0m         \"\"\"\n\u001b[1;32m--> 222\u001b[1;33m         self.handles = get_handle(\n\u001b[0m\u001b[0;32m    223\u001b[0m             \u001b[0msrc\u001b[0m\u001b[1;33m,\u001b[0m\u001b[1;33m\u001b[0m\u001b[1;33m\u001b[0m\u001b[0m\n\u001b[0;32m    224\u001b[0m             \u001b[1;34m\"r\"\u001b[0m\u001b[1;33m,\u001b[0m\u001b[1;33m\u001b[0m\u001b[1;33m\u001b[0m\u001b[0m\n",
      "\u001b[1;32mc:\\Users\\acer\\anaconda3\\envs\\ml\\lib\\site-packages\\pandas\\io\\common.py\u001b[0m in \u001b[0;36mget_handle\u001b[1;34m(path_or_buf, mode, encoding, compression, memory_map, is_text, errors, storage_options)\u001b[0m\n\u001b[0;32m    700\u001b[0m         \u001b[1;32mif\u001b[0m \u001b[0mioargs\u001b[0m\u001b[1;33m.\u001b[0m\u001b[0mencoding\u001b[0m \u001b[1;32mand\u001b[0m \u001b[1;34m\"b\"\u001b[0m \u001b[1;32mnot\u001b[0m \u001b[1;32min\u001b[0m \u001b[0mioargs\u001b[0m\u001b[1;33m.\u001b[0m\u001b[0mmode\u001b[0m\u001b[1;33m:\u001b[0m\u001b[1;33m\u001b[0m\u001b[1;33m\u001b[0m\u001b[0m\n\u001b[0;32m    701\u001b[0m             \u001b[1;31m# Encoding\u001b[0m\u001b[1;33m\u001b[0m\u001b[1;33m\u001b[0m\u001b[1;33m\u001b[0m\u001b[0m\n\u001b[1;32m--> 702\u001b[1;33m             handle = open(\n\u001b[0m\u001b[0;32m    703\u001b[0m                 \u001b[0mhandle\u001b[0m\u001b[1;33m,\u001b[0m\u001b[1;33m\u001b[0m\u001b[1;33m\u001b[0m\u001b[0m\n\u001b[0;32m    704\u001b[0m                 \u001b[0mioargs\u001b[0m\u001b[1;33m.\u001b[0m\u001b[0mmode\u001b[0m\u001b[1;33m,\u001b[0m\u001b[1;33m\u001b[0m\u001b[1;33m\u001b[0m\u001b[0m\n",
      "\u001b[1;31mFileNotFoundError\u001b[0m: [Errno 2] No such file or directory: '../data/dataset/Distance_Matrix.csv'"
     ]
    }
   ],
   "source": [
    "import pandas as pd\n",
    "import numpy as np\n",
    "from pyomo.environ import *\n",
    "\n",
    "distance_matrix = pd.read_csv('../data/dataset/Distance_Matrix.csv')\n",
    "biomass_hist = pd.read_csv('../data/dataset/Biomass_History.csv')\n",
    "\n",
    "distance_matrix.drop(['Unnamed: 0'], axis=1, inplace=True)\n",
    "distance_matrix = np.array(distance_matrix)\n",
    "\n",
    "b_2010 = np.array(biomass_hist['2010'])\n"
   ]
  },
  {
   "cell_type": "code",
   "execution_count": null,
   "metadata": {},
   "outputs": [],
   "source": [
    "def optimize(distance_matrix, harvests,num_locations = 2418,num_depots_max = 25,num_refineries_max = 5,cap_depot = 20000,cap_refinery = 100000):\n",
    "       \n",
    "    #TODO: Harvest needs to be list of lists, (for every year)\n",
    "    # Create a concrete model\n",
    "    harvest = harvests[0]\n",
    "    model = ConcreteModel()\n",
    "    # Index sets\n",
    "    model.locations = RangeSet(num_locations)\n",
    "    model.depots = RangeSet(num_locations)  # We assume all locations can be potential depots\n",
    "    model.refineries = RangeSet(1, num_locations) # We assume all locations can be potential refineries\n",
    "    \n",
    "    # Decision variables\n",
    "    model.depots_used = Var(model.depots, within=Binary)\n",
    "    model.refineries_used = Var(model.refineries, within=Binary)\n",
    "    model.harvest_flow = Var(model.locations, model.depots, within=NonNegativeReals) # *Constraint 1\n",
    "    model.pellet_flow = Var(model.depots, model.refineries, within=NonNegativeReals) # *Constraint 1\n",
    "    # model.under_utilization_cost = Var(model.depots, within=NonNegativeReals)\n",
    "    # model.under_utilization_cost_refineries = Var(model.refineries, within=NonNegativeReals)\n",
    "    model.pellet_flow_active = Var(model.depots, model.refineries, within=Binary)  # Binary variable indicating active pellet flow\n",
    "\n",
    "    ## Linear\n",
    "\n",
    "    # # Objective function\n",
    "    def objective_rule(model):\n",
    "        return (\n",
    "            0.001*sum(distance_matrix[i-1][j-1] * model.harvest_flow[i, j] for i in model.locations for j in model.depots) +\n",
    "            0.001*sum(distance_matrix[j-1][k-1] * model.pellet_flow[j, k] for j in model.depots for k in model.refineries) +\n",
    "            sum(cap_depot - model.harvest_flow[i, j] for i in model.locations for j in model.depots) +  # Under-utilization cost for depots\n",
    "            sum(cap_refinery - model.pellet_flow[j, k] for j in model.depots for k in model.refineries)   # Under-utilization cost for refineries\n",
    "            # sum(cap_refinery * (1 - model.refineries_used[k]) for k in model.refineries)  # Under-utilization cost for unused refineries -->redundant\n",
    "        )\n",
    "    model.objective = Objective(rule=objective_rule, sense=minimize)\n",
    "\n",
    "\n",
    "    ## Non Linear\n",
    "    # Objective function\n",
    "    # def objective_rule(model):\n",
    "    #     return (\n",
    "    #         0.001*sum(distance_matrix[i-1][j-1]*model.harvest_flow[i, j]*model.depots_used[j] for i in model.locations for j in model.depots) +\n",
    "    #         0.001*sum(distance_matrix[j-1][k-1]*model.pellet_flow[j, k]*model.refineries_used[k]  for j in model.depots for k in model.refineries) +\n",
    "    #         sum(cap_depot - model.harvest_flow[i, j] for i in model.locations for j in model.depots) +  # Under-utilization cost for depots\n",
    "    #         sum(cap_refinery - model.pellet_flow[j, k] for j in model.depots for k in model.refineries)   # Under-utilization cost for refineries\n",
    "    #         # sum(cap_refinery * (1 - model.refineries_used[k]) for k in model.refineries)  # Under-utilization cost for unused refineries -->redundant\n",
    "    #     )\n",
    "    # model.objective = Objective(rule=objective_rule, sense=minimize)\n",
    "\n",
    "\n",
    "    # Constraints\n",
    "\n",
    "    # * Constraint 2\n",
    "    def harvest_supply_constraint_rule(model, i):\n",
    "        return sum(model.harvest_flow[i, j] for j in model.depots) <= harvest[i-1]\n",
    "    model.harvest_supply_constraint = Constraint(model.locations, rule=harvest_supply_constraint_rule)\n",
    "\n",
    "    # * Constraint 3 \n",
    "    # for maximum utilization of a Depot\n",
    "    def max_utilization_constraint_rule(model, j):\n",
    "        return sum(model.harvest_flow[i, j] for i in model.locations) <= cap_depot\n",
    "    model.max_utilization_constraint = Constraint(model.depots, rule=max_utilization_constraint_rule)\n",
    "\n",
    "    # * Constraint 4 \n",
    "    # for maximum utilization of a refinery\n",
    "    def max_utilization_refineries_constraint_rule(model, k):\n",
    "        return sum(model.pellet_flow[j, k] for j in model.depots) <= cap_refinery\n",
    "    model.max_utilization_refineries_constraint = Constraint(model.refineries, rule=max_utilization_refineries_constraint_rule)\n",
    "\n",
    "    # *Constraint 5\n",
    "    def max_depots_constraint_rule(model):\n",
    "        return sum(model.depots_used[j] for j in model.depots) <= num_depots_max\n",
    "    model.max_depots_constraint = Constraint(rule=max_depots_constraint_rule)\n",
    "\n",
    "    # * Constraint 6\n",
    "    # Constraint for maximum number of refineries\n",
    "    def max_refineries_constraint_rule(model):\n",
    "        return sum(model.refineries_used[k] for k in model.refineries) <= num_refineries_max\n",
    "    model.max_refineries_constraint = Constraint(rule=max_refineries_constraint_rule)\n",
    "\n",
    "    # * Constraint 7\n",
    "    # At least 80% of the total forecasted biomass must be processed by refineries each year\n",
    "    def min_80_constraint_rule(model):\n",
    "        return sum(model.pellet_flow[j, k] for j in model.depots for k in model.refineries) >= 0.8*sum(harvest)\n",
    "    model.min_80_constraint = Constraint(rule=min_80_constraint_rule)\n",
    "\n",
    "    # * Constraint 8\n",
    "    # Constraint for pellets flow balance\n",
    "    def pellet_flow_balance_rule(model, j):\n",
    "        return (\n",
    "            sum(model.pellet_flow[j, k] for k in model.refineries) - sum(model.harvest_flow[i, j] for i in model.locations) <= 1e-03\n",
    "        )\n",
    "    model.pellet_flow_balance_constraint = Constraint(model.depots, rule=pellet_flow_balance_rule)\n",
    "\n",
    "    def flow_binary_relation_rule(model, i, j):\n",
    "        \"\"\"\n",
    "        This constraint ensures that if a depot is used (the binary variable is 1), \n",
    "        the corresponding harvest flow can be non-zero, but if a depot is not used (the binary variable is 0), the corresponding harvest flow must be zero.\n",
    "        \"\"\"\n",
    "        return model.harvest_flow[i, j] <= model.depots_used[j] * harvest[i-1]\n",
    "    model.flow_binary_relation_constraint = Constraint(model.locations, model.depots, rule=flow_binary_relation_rule)\n",
    "\n",
    "\n",
    "    def pellet_flow_binary_relation_rule(model,i, j, k):\n",
    "        return model.pellet_flow[j, k] <= model.refineries_used[k] * sum(model.harvest_flow[i, j] for i in model.locations)\n",
    "    model.pellet_flow_binary_relation_constraint = Constraint(model.locations, model.depots, model.refineries, rule=pellet_flow_binary_relation_rule)\n",
    "\n",
    "\n",
    "    # Solve the problem\n",
    "    print(\"Solution started...\")\n",
    "    solver = SolverFactory('ipopt')\n",
    "    results = solver.solve(model)\n",
    "\n",
    "    # Display results\n",
    "    print(\"Solver status:\", results.solver.status)\n",
    "    print(\"Objective value:\", value(model.objective))\n",
    "\n",
    "    depots_used = [j for j in model.depots if value(model.depots_used[j]) > 0.5]\n",
    "    # print(\"Depot locations:\", depots_used)\n",
    "    refineries_used = [k for k in model.refineries if value(model.refineries_used[k]) > 0.5]\n",
    "    # print(\"Refineries locations:\", refineries_used)\n",
    "\n",
    "    biomass_source_index = []\n",
    "    biomass_destination_index = []\n",
    "    biomass_flow = []\n",
    "    for i in model.locations:\n",
    "        for j in depots_used:\n",
    "            f = value(model.harvest_flow[i, j])\n",
    "            if f > 0:\n",
    "                biomass_source_index.append(i)\n",
    "                biomass_destination_index.append(j)\n",
    "                biomass_flow.append(f)\n",
    "\n",
    "    assert (all(x >= 0 for x in biomass_flow)),  \"Constraint 1 failed for biomass demand supply\"\n",
    "    \n",
    "    pellet_source_index = []\n",
    "    pellet_destination_index = []\n",
    "    pellet_flow = []\n",
    "    for i in model.locations:\n",
    "        for j in refineries_used:\n",
    "            f = value(model.pellet_flow[i, j])\n",
    "            if f > 0:\n",
    "                pellet_source_index.append(i)\n",
    "                pellet_destination_index.append(j)\n",
    "                pellet_flow.append(f)\n",
    "                \n",
    "    assert (all(x >= 0 for x in pellet_flow)),  \"Constraint 1 failed for pellet demand supply\"\n",
    "\n",
    "    return [depots_used, refineries_used, biomass_source_index, biomass_destination_index, biomass_flow, pellet_source_index, pellet_destination_index, pellet_flow]"
   ]
  }
 ],
 "metadata": {
  "kernelspec": {
   "display_name": "ml",
   "language": "python",
   "name": "python3"
  },
  "language_info": {
   "codemirror_mode": {
    "name": "ipython",
    "version": 3
   },
   "file_extension": ".py",
   "mimetype": "text/x-python",
   "name": "python",
   "nbconvert_exporter": "python",
   "pygments_lexer": "ipython3",
   "version": "3.7.11"
  },
  "orig_nbformat": 4
 },
 "nbformat": 4,
 "nbformat_minor": 2
}
